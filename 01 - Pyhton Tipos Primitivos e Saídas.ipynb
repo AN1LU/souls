{
 "cells": [
  {
   "cell_type": "markdown",
   "metadata": {},
   "source": [
    "## Faça um programa que leia o nome de uma pessoa e mostre uma mensagem de boas-vindas e depois pergunte sua data de nascimento e mostre uma mensagem do dia de seu nascimento."
   ]
  },
  {
   "cell_type": "code",
   "execution_count": null,
   "metadata": {},
   "outputs": [],
   "source": [
    "nome = input('Qual é o seu nome: ')\n",
    "print('Olá {}! Prazer em te conhecer'.format(nome))\n",
    "\n",
    "dia = input('Dia = ')\n",
    "mes = input('Mes = ')\n",
    "ano = input('Ano = ')\n",
    "print('Voce nasceu no dia '+dia+' de '+mes+' de '+ano+' .Correto?')"
   ]
  },
  {
   "cell_type": "markdown",
   "metadata": {},
   "source": [
    "## Crie um programa que leia dois números e mostre a soma entre eles."
   ]
  },
  {
   "cell_type": "code",
   "execution_count": null,
   "metadata": {},
   "outputs": [],
   "source": [
    "n1 = int(input('Digite um número: '))\n",
    "n2 = int(input('Digite mais um número:'))\n",
    "s = n1 + n2\n",
    "print(f'A soma entre {n1} e {n2} vale {s}')"
   ]
  },
  {
   "cell_type": "markdown",
   "metadata": {},
   "source": [
    "## Faça um programa que leia algo pelo teclado e mostre na tela o seu tipo primitivo e todas as informações possíveis sobre ela."
   ]
  },
  {
   "cell_type": "code",
   "execution_count": 1,
   "metadata": {},
   "outputs": [
    {
     "name": "stdout",
     "output_type": "stream",
     "text": [
      "Digite algo: Vitor123\n",
      "O tipo primitivo desse valor é : <class 'str'>\n",
      "Só tem espaços:  False\n",
      "É um número:  False\n",
      "É alfabético:  False\n",
      "É alfanumérico:  True\n",
      "Está em maisculas:  False\n",
      "Está em minusculas:  False\n",
      "Está capitalizada:  True\n"
     ]
    }
   ],
   "source": [
    "a  = input('Digite algo: ')\n",
    "print('O tipo primitivo desse valor é :', type(a))\n",
    "print('Só tem espaços: ', a.isspace())\n",
    "print('É um número: ', a.isnumeric())\n",
    "print('É alfabético: ', a.isalpha())\n",
    "print('É alfanumérico: ', a.isalnum())\n",
    "print('Está em maisculas: ', a.isupper())\n",
    "print('Está em minusculas: ', a.islower())\n",
    "print('Está capitalizada: ', a.istitle())"
   ]
  }
 ],
 "metadata": {
  "kernelspec": {
   "display_name": "Python 3",
   "language": "python",
   "name": "python3"
  },
  "language_info": {
   "codemirror_mode": {
    "name": "ipython",
    "version": 3
   },
   "file_extension": ".py",
   "mimetype": "text/x-python",
   "name": "python",
   "nbconvert_exporter": "python",
   "pygments_lexer": "ipython3",
   "version": "3.7.6"
  }
 },
 "nbformat": 4,
 "nbformat_minor": 4
}
