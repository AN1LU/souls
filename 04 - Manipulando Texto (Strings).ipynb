{
 "cells": [
  {
   "cell_type": "markdown",
   "metadata": {},
   "source": [
    "### 022 - Crie um programa que leia o nome completo de uma pessoa e mostre:\n",
    "* O nome com todas as letras maiúsculas.\n",
    "* O nome com todas minusculas.\n",
    "* Quantas letras ao todo (sem considerar espaçoes).\n",
    "* Quantas letras tem o primeiro nome."
   ]
  },
  {
   "cell_type": "code",
   "execution_count": 6,
   "metadata": {},
   "outputs": [
    {
     "name": "stdout",
     "output_type": "stream",
     "text": [
      "Digite o seu nome: Luis Carlos Silva\n",
      "Seu nime em maisculas é: LUIS CARLOS SILVA\n",
      "Seu nome em minusculas é: luis carlos silva\n",
      "Seu nome tem ao todo 15 letras.\n",
      "Seu primeiro nome é Luis e ele tem 4 letras\n"
     ]
    }
   ],
   "source": [
    "nome = str(input('Digite o seu nome: ')).strip() # elimina espaços antes e após a palavra\n",
    "print('Seu nime em maisculas é: {}' .format(nome.upper()))\n",
    "print('Seu nome em minusculas é: {}' .format(nome.lower()))\n",
    "print('Seu nome tem ao todo {} letras.' .format(len(nome) - nome.count(' '))) # len(x) contador de caracteres\n",
    "separa = nome.split() # Cria uma lista de palavras serparadas por espaços Ex: Luis Carlos Silva ['Luis', 'Carlos', 'Silva']\n",
    "print('Seu primeiro nome é {} e ele tem {} letras' .format(separa[0], len(separa[0]))) # Seleciona a primeira palavra e conta os caracteres"
   ]
  },
  {
   "cell_type": "markdown",
   "metadata": {},
   "source": [
    "### 023 - Faça um programa que leia um número de 0 a 9999 e mostre na tela cada um dos digitos seprarados\n",
    "\n",
    "* Ex: Digite um numero 1834\n",
    "* unidade: 4 dezena: 3 centena: 8 milhar: 1"
   ]
  },
  {
   "cell_type": "code",
   "execution_count": 9,
   "metadata": {},
   "outputs": [
    {
     "name": "stdout",
     "output_type": "stream",
     "text": [
      "Informe um número de 0 a 9999: 1923\n",
      "Analisando o número 1923 \n",
      "Unidade: 3\n",
      "Dezena: 2\n",
      "Centena: 9\n",
      "Milhar: 1\n"
     ]
    }
   ],
   "source": [
    "num = int(input('Informe um número de 0 a 9999: '))\n",
    "u = num // 1 % 10 # // = Divisão inteira por 1 > divisão por 10 recebe o resto da divisão Ex: 1923 / 1 = 1923 / 10 = 192,3\n",
    "d = num // 10 % 10 # Divisão inteira por 10 > divisão por 10 recebe o resto da divisão Ex: 1923 / 10 = 192 / 10 = 19,2\n",
    "c = num // 100 % 10 # Divisão inteira por 100 > divisão por 10 recebe o resto da divisão Ex: 1923 / 100 = 19 / 10 = 1,9\n",
    "m = num // 1000 % 10 # Divisão inteira por 1000 > divisão por 10 recebe o resto da divisão Ex: 1923 / 1000 = 1 / 10 = 0,1\n",
    "print ('Analisando o número {} '.format(num))\n",
    "print('Unidade: {}' .format(u))\n",
    "print('Dezena: {}' .format(d))\n",
    "print('Centena: {}' .format(c))\n",
    "print('Milhar: {}' .format(m))"
   ]
  },
  {
   "cell_type": "markdown",
   "metadata": {},
   "source": [
    "### 024 - Crie um programa que leia o nome de uma cidade e diga se ela começa ou não com o nome \"SANTO\"."
   ]
  },
  {
   "cell_type": "code",
   "execution_count": 2,
   "metadata": {},
   "outputs": [
    {
     "name": "stdout",
     "output_type": "stream",
     "text": [
      "Digite o nome de sua cidade: São Paulo\n",
      "False\n"
     ]
    }
   ],
   "source": [
    "cidade = str(input('Digite o nome de sua cidade: ')).strip()\n",
    "print(cidade[:5].upper() == 'SANTO')"
   ]
  },
  {
   "cell_type": "markdown",
   "metadata": {},
   "source": [
    "###  025 - Crie um programa que leia o nome de uma pessoa e diga se ela tem SILVA no nome."
   ]
  },
  {
   "cell_type": "code",
   "execution_count": 3,
   "metadata": {},
   "outputs": [
    {
     "name": "stdout",
     "output_type": "stream",
     "text": [
      "Digite o seu nome: João Flavio Mendounça Silva\n",
      "Seu nome tem Silva? True\n"
     ]
    }
   ],
   "source": [
    "nome = str(input('Digite o seu nome: ')).strip()\n",
    "print('Seu nome tem Silva? {}' .format('silva' in nome.lower()))"
   ]
  },
  {
   "cell_type": "markdown",
   "metadata": {},
   "source": [
    "### 026 - Faça um programa que leia uma frase pelo teclado e mostre:\n",
    "* Quantas vezes aparece a letra A\n",
    "* Em que posição ela aparece a primeira vez.\n",
    "* Em que posição ela aparece pela ultima vez."
   ]
  },
  {
   "cell_type": "code",
   "execution_count": 1,
   "metadata": {},
   "outputs": [
    {
     "name": "stdout",
     "output_type": "stream",
     "text": [
      "Digite uma frase: Ana clara gosta de maça\n",
      "A Letra A aparece 7 vezes na frase.\n",
      "A Primeira leta A aparece na 1 posição\n",
      "A ultima letra A aparece na 23 posição\n"
     ]
    }
   ],
   "source": [
    "frase = str(input('Digite uma frase: ')).upper().strip()\n",
    "print('A Letra A aparece {} vezes na frase.' .format(frase.count('A')))\n",
    "print('A Primeira leta A aparece na {} posição' .format(frase.find('A')+1))\n",
    "print('A ultima letra A aparece na {} posição' .format(frase.rfind('A')+1))"
   ]
  },
  {
   "cell_type": "markdown",
   "metadata": {},
   "source": [
    "### 027 - Faça um programa que leia o nome completo de um apesoa, mostrando em seguida o primeiro e o ultimo nome separadamente.\n",
    "\n",
    "* EX: Ana Maria de Souza\n",
    "* Primeiro nome = Ana\n",
    "* ultimo nome = Souza"
   ]
  },
  {
   "cell_type": "code",
   "execution_count": 2,
   "metadata": {},
   "outputs": [
    {
     "name": "stdout",
     "output_type": "stream",
     "text": [
      "Digite seu nome completo: José lucas da silva moreira\n",
      "['José', 'lucas', 'da', 'silva', 'moreira']\n",
      "Primeiro nome: José\n",
      "Ultimo nome: moreira\n"
     ]
    }
   ],
   "source": [
    "nome = str(input('Digite seu nome completo: ')).strip().split()\n",
    "print(nome)\n",
    "print('Primeiro nome: {}' .format(nome[0]))\n",
    "print('Ultimo nome: {}' .format(nome[-1]))"
   ]
  },
  {
   "cell_type": "code",
   "execution_count": null,
   "metadata": {},
   "outputs": [],
   "source": []
  }
 ],
 "metadata": {
  "kernelspec": {
   "display_name": "Python 3",
   "language": "python",
   "name": "python3"
  },
  "language_info": {
   "codemirror_mode": {
    "name": "ipython",
    "version": 3
   },
   "file_extension": ".py",
   "mimetype": "text/x-python",
   "name": "python",
   "nbconvert_exporter": "python",
   "pygments_lexer": "ipython3",
   "version": "3.7.6"
  }
 },
 "nbformat": 4,
 "nbformat_minor": 4
}
