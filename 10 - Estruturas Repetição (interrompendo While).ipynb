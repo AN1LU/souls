{
 "cells": [
  {
   "cell_type": "markdown",
   "metadata": {},
   "source": [
    "### 066 - Crie um programa que leia vários números interos pelo teclado. O programa só vai parar quando o usuario digitar o valor 999, que é a condição de parada. No final, mostre quantos números foram digitados e qual foi a soma entre eles desconsidernado o flag."
   ]
  },
  {
   "cell_type": "code",
   "execution_count": 1,
   "metadata": {},
   "outputs": [
    {
     "name": "stdout",
     "output_type": "stream",
     "text": [
      "Digite um valor (999 para parar)4\n",
      "Digite um valor (999 para parar)5\n",
      "Digite um valor (999 para parar)7\n",
      "Digite um valor (999 para parar)999\n",
      "A soma dos 3 valores é 16\n"
     ]
    }
   ],
   "source": [
    "soma = cont = 0\n",
    "while True:\n",
    "    n = int(input('Digite um valor (999 para parar)'))\n",
    "    if n == 999:\n",
    "        break\n",
    "    cont += 1\n",
    "    soma += n\n",
    "print(f'A soma dos {cont} valores é {soma}')    "
   ]
  }
 ],
 "metadata": {
  "kernelspec": {
   "display_name": "Python 3",
   "language": "python",
   "name": "python3"
  },
  "language_info": {
   "codemirror_mode": {
    "name": "ipython",
    "version": 3
   },
   "file_extension": ".py",
   "mimetype": "text/x-python",
   "name": "python",
   "nbconvert_exporter": "python",
   "pygments_lexer": "ipython3",
   "version": "3.7.6"
  }
 },
 "nbformat": 4,
 "nbformat_minor": 4
}
