{
 "cells": [
  {
   "cell_type": "markdown",
   "metadata": {},
   "source": [
    "### 057 -Faça um programa que leia o sexo de uma pessoa, mas só aceite os valores 'M' ou 'F'. Caso esteja peça a digitação novamente até ter um valor correto."
   ]
  },
  {
   "cell_type": "code",
   "execution_count": 2,
   "metadata": {},
   "outputs": [
    {
     "name": "stdout",
     "output_type": "stream",
     "text": [
      "Informe seu sexo: [M/F]: M\n",
      "M registrado com sucesso!\n"
     ]
    }
   ],
   "source": [
    "sexo = str(input('Informe seu sexo: [M/F]: ')).strip().upper()[0] # ex: masculino = 'M'\n",
    "while sexo not in 'MnFf':\n",
    "    sexo = str(input('Dados inválidos. Por favor, informe seu sexo: ')).strip().upper()[0]\n",
    "print(f'{sexo} registrado com sucesso!')    "
   ]
  },
  {
   "cell_type": "markdown",
   "metadata": {},
   "source": [
    "### 058 - Exercício Python 058: Melhore o jogo do DESAFIO 028 onde o computador vai \"pensar\" em um número entre 0 e 10. Só que agora o jogador vai tentar adivinhar até acertar, mostrando no final quantos palpites foram necessários para vencer."
   ]
  },
  {
   "cell_type": "code",
   "execution_count": 3,
   "metadata": {},
   "outputs": [
    {
     "name": "stdout",
     "output_type": "stream",
     "text": [
      "Sou seu computador... Acabei de pensar em um número entre 0 e 10.\n",
      "Será que voce consegue adivinhar qual foi?\n",
      "Qual é o seu palpite? 4\n",
      "Menos... Tente mais uma vez:\n",
      "Qual é o seu palpite? 3\n",
      "Menos... Tente mais uma vez:\n",
      "Qual é o seu palpite? 1\n",
      "Mais... Tente mais uma vez: \n",
      "Qual é o seu palpite? 2\n",
      "Acertou com 4 tentativas. Parabens.\n"
     ]
    }
   ],
   "source": [
    "from random import randint\n",
    "computador = randint(0,10)\n",
    "print('Sou seu computador... Acabei de pensar em um número entre 0 e 10.')\n",
    "print('Será que voce consegue adivinhar qual foi?')\n",
    "acertou = False\n",
    "palpites = 0\n",
    "while not acertou:\n",
    "    jogador = int(input('Qual é o seu palpite? '))\n",
    "    palpites += 1\n",
    "    if jogador < computador:\n",
    "        print('Mais... Tente mais uma vez: ')\n",
    "    elif jogador > computador:\n",
    "        print('Menos... Tente mais uma vez:')\n",
    "    else:\n",
    "        acertou = True\n",
    "print('Acertou com {} tentativas. Parabens.' .format(palpites))        "
   ]
  },
  {
   "cell_type": "markdown",
   "metadata": {},
   "source": [
    "### 059 - Crie um programa que leia dois valores e mostre um menu como o ao lado na tela:\n",
    "* [1] somar\n",
    "* [2] multiplicar\n",
    "* [3] maior\n",
    "* [4] novos números\n",
    "* [5] sair do programa\n",
    "### Seu programa deverá realizar a operação solicitada em cada caso."
   ]
  },
  {
   "cell_type": "code",
   "execution_count": 1,
   "metadata": {},
   "outputs": [
    {
     "name": "stdout",
     "output_type": "stream",
     "text": [
      "Primeiro valor: 4\n",
      "Segundo valor: 5\n",
      "    [1] Somar\n",
      "    [2] Multiplicar\n",
      "    [3] Maior valor\n",
      "    [4] Novos números\n",
      "    [5] Sair do programa\n",
      "Qual é a opção: 1\n",
      "A soma de 4 + 5 = 9\n",
      "=-==-==-==-==-==-==-==-==-==-==-==-==-==-==-==-==-==-==-==-=\n",
      "    [1] Somar\n",
      "    [2] Multiplicar\n",
      "    [3] Maior valor\n",
      "    [4] Novos números\n",
      "    [5] Sair do programa\n",
      "Qual é a opção: 2\n",
      "A Multiplicação de 4 * 5 = 20\n",
      "=-==-==-==-==-==-==-==-==-==-==-==-==-==-==-==-==-==-==-==-=\n",
      "    [1] Somar\n",
      "    [2] Multiplicar\n",
      "    [3] Maior valor\n",
      "    [4] Novos números\n",
      "    [5] Sair do programa\n",
      "Qual é a opção: 3\n",
      "O número 5 é maior!\n",
      "=-==-==-==-==-==-==-==-==-==-==-==-==-==-==-==-==-==-==-==-=\n",
      "    [1] Somar\n",
      "    [2] Multiplicar\n",
      "    [3] Maior valor\n",
      "    [4] Novos números\n",
      "    [5] Sair do programa\n",
      "Qual é a opção: 4\n",
      "Adicione novos números!!\n",
      "Primeiro valor: 8\n",
      "Segundo valor: 9\n",
      "=-==-==-==-==-==-==-==-==-==-==-==-==-==-==-==-==-==-==-==-=\n",
      "    [1] Somar\n",
      "    [2] Multiplicar\n",
      "    [3] Maior valor\n",
      "    [4] Novos números\n",
      "    [5] Sair do programa\n",
      "Qual é a opção: 3\n",
      "O número 9 é maior!\n",
      "=-==-==-==-==-==-==-==-==-==-==-==-==-==-==-==-==-==-==-==-=\n",
      "    [1] Somar\n",
      "    [2] Multiplicar\n",
      "    [3] Maior valor\n",
      "    [4] Novos números\n",
      "    [5] Sair do programa\n",
      "Qual é a opção: 5\n",
      "Finalizando...\n",
      "=-==-==-==-==-==-==-==-==-==-==-==-==-==-==-==-==-==-==-==-=\n",
      "Fim do programa! Volte sempre\n"
     ]
    }
   ],
   "source": [
    "from time import sleep\n",
    "n1 = int(input('Primeiro valor: '))\n",
    "n2 = int(input('Segundo valor: '))\n",
    "opcao = 0\n",
    "while opcao != 5:\n",
    "    print('''    [1] Somar\n",
    "    [2] Multiplicar\n",
    "    [3] Maior valor\n",
    "    [4] Novos números\n",
    "    [5] Sair do programa''')\n",
    "    opcao = int(input('Qual é a opção: '))\n",
    "    if opcao == 1:\n",
    "        print(f'A soma de {n1} + {n2} = {n1+n2}')\n",
    "    elif opcao == 2: \n",
    "        print(f'A Multiplicação de {n1} * {n2} = {n1*n2}')\n",
    "    elif opcao == 3:\n",
    "        if n1 > n2:\n",
    "            print(f'O número {n1} é maior!')\n",
    "        else:\n",
    "            print(f'O número {n2} é maior!')\n",
    "    elif opcao == 4:\n",
    "        print('Adicione novos números!!')\n",
    "        n1 = int(input('Primeiro valor: '))\n",
    "        n2 = int(input('Segundo valor: '))\n",
    "    elif opcao == 5:\n",
    "        print('Finalizando...')\n",
    "        sleep(2)\n",
    "    else:\n",
    "        print('Opcao Invalida. Tente novamente.')\n",
    "    print('=-=' *20) \n",
    "print('Fim do programa! Volte sempre')    "
   ]
  },
  {
   "cell_type": "markdown",
   "metadata": {},
   "source": [
    "### 060 - Faça um programa que leia um número qualquer e mostre seu fatorial.\n",
    "\n",
    "* Ex: 5! = 5x4x3x2x1 = 120"
   ]
  },
  {
   "cell_type": "code",
   "execution_count": 2,
   "metadata": {},
   "outputs": [
    {
     "name": "stdout",
     "output_type": "stream",
     "text": [
      "Digite um número para calcualr seu Fatorial: 5\n",
      "Calculando 5! = 5 x 4 x 3 x 2 x 1 = 120\n"
     ]
    }
   ],
   "source": [
    "# from math import factorial\n",
    "# n = int(input('Digite um número para calcular seu fatorial: '))\n",
    "# f = factorial(n)\n",
    "# print('O fatorial de {} é {}.' .format(n, f))\n",
    "\n",
    "num = int(input('Digite um número para calcualr seu Fatorial: '))\n",
    "c = num\n",
    "f = 1\n",
    "print('Calculando {}! = ' .format(num), end='')\n",
    "while c > 0:\n",
    "    print('{}' .format(c), end='')\n",
    "    print(' x ' if c > 1 else ' = ', end='')\n",
    "    f *= c\n",
    "    c -= 1\n",
    "print('{}' .format(f))    "
   ]
  },
  {
   "cell_type": "markdown",
   "metadata": {},
   "source": [
    "### 061 - Refaça o Desafio 051 ,lendo o primeiro termo e a razão de uma PA, mostrando os 10 primerios termos da progressão usando a estrutura while."
   ]
  },
  {
   "cell_type": "code",
   "execution_count": 1,
   "metadata": {},
   "outputs": [
    {
     "name": "stdout",
     "output_type": "stream",
     "text": [
      "Gerador de PA\n",
      "-=-=-=-=-=-=-=-=-=-=\n",
      "Primeiro termo: 5\n",
      "Razão: 2\n",
      "5 > 7 > 9 > 11 > 13 > 15 > 17 > 19 > 21 > Acabou\n"
     ]
    }
   ],
   "source": [
    "print('Gerador de PA')\n",
    "print('-=' * 10)\n",
    "primeiro = int(input('Primeiro termo: '))\n",
    "razao = int(input('Razão: '))\n",
    "c = 1\n",
    "pa = primeiro\n",
    "while c < 10:\n",
    "    print('{} > ' .format(pa), end='')\n",
    "    pa += razao\n",
    "    c += 1\n",
    "print('Acabou')    "
   ]
  },
  {
   "cell_type": "markdown",
   "metadata": {},
   "source": [
    "### 062 - Melhore o Desafio 061, perguntando para o usario se ele quer msotrar mais alguns termos. O programa encerra quando ele disser que quer mostar 0 termos"
   ]
  },
  {
   "cell_type": "code",
   "execution_count": 2,
   "metadata": {},
   "outputs": [
    {
     "name": "stdout",
     "output_type": "stream",
     "text": [
      "-=-=-=-=-=-=-=-=-=-=\n",
      "Primeiro termo: 2\n",
      "Razão: 4\n",
      "2 > 6 > 10 > 14 > 18 > 22 > 26 > 30 > 34 > 38 > PAUSA\n",
      "Quantos termos voce quer mostrar a mais? 10\n",
      "42 > 46 > 50 > 54 > 58 > 62 > 66 > 70 > 74 > 78 > PAUSA\n",
      "Quantos termos voce quer mostrar a mais? 2\n",
      "82 > 86 > PAUSA\n",
      "Quantos termos voce quer mostrar a mais? 0\n",
      "Progressão finalizada com 23 termos mostrados.\n"
     ]
    }
   ],
   "source": [
    "print('-=' * 10)\n",
    "primeiro = int(input('Primeiro termo: '))\n",
    "razao = int(input('Razão: '))\n",
    "termo = primeiro\n",
    "cont = 1\n",
    "total = 0\n",
    "mais = 10\n",
    "while mais != 0:\n",
    "    total += mais\n",
    "    while cont <= total:\n",
    "        print('{} > ' .format(termo), end='')\n",
    "        termo += razao\n",
    "        cont += 1\n",
    "    print('PAUSA')\n",
    "    mais = int(input('Quantos termos voce quer mostrar a mais? '))\n",
    "print('Progressão finalizada com {} termos mostrados.' .format(cont))"
   ]
  },
  {
   "cell_type": "markdown",
   "metadata": {},
   "source": [
    "### 063 - Escreva um programa que leia um número N inteiro qualquer e mostre na tela os N primeiros elementos de uma Sequencia de Fibonacci."
   ]
  },
  {
   "cell_type": "code",
   "execution_count": 4,
   "metadata": {},
   "outputs": [
    {
     "name": "stdout",
     "output_type": "stream",
     "text": [
      "------------------------------\n",
      "Sequencia de Fibonacci\n",
      "Quantos temos você quer mostrar? 10\n",
      "~~~~~~~~~~~~~~~~~~~~~~~~~~~~~~\n",
      "0 > 1 > 1 > 2 > 3 > 5 > 8 > 13 > 21 > 34 >Fim\n"
     ]
    }
   ],
   "source": [
    "print('-' * 30)\n",
    "print('Sequencia de Fibonacci')\n",
    "num = int(input('Quantos temos você quer mostrar? '))\n",
    "t1 = 0\n",
    "t2 = 1\n",
    "print('~' * 30)\n",
    "print('{} > {} >'.format(t1, t2), end='')\n",
    "res = 0\n",
    "c = 3\n",
    "while c <= num:\n",
    "    res = t1 + t2\n",
    "    t1 = t2\n",
    "    t2 = res\n",
    "    c += 1\n",
    "    print(' {} >' .format(res), end='')\n",
    "print('Fim')    "
   ]
  },
  {
   "cell_type": "markdown",
   "metadata": {},
   "source": [
    "### 064 - Crie um programa que leia varios números inteiros pelo telcado. O programa só vai parar quando o usuário digitar o valor 999, que é a condiçãi de parada. No final, mostre quantos números foram digitados e qual foi a soma entre eles, desconsidernado o flag."
   ]
  },
  {
   "cell_type": "code",
   "execution_count": 5,
   "metadata": {},
   "outputs": [
    {
     "name": "stdout",
     "output_type": "stream",
     "text": [
      "Digite um número [999 para parar]: 3\n",
      "Digite um número [999 para parar]: 4\n",
      "Digite um número [999 para parar]: 5\n",
      "Digite um número [999 para parar]: 9\n",
      "Digite um número [999 para parar]: 12\n",
      "Digite um número [999 para parar]: 56\n",
      "Digite um número [999 para parar]: 999\n",
      "Foram digitados 6 números e a soma total é de 89.\n"
     ]
    }
   ],
   "source": [
    "num = cont = soma = 0\n",
    "num = int(input('Digite um número [999 para parar]: '))\n",
    "while num != 999:\n",
    "    soma += num\n",
    "    cont += 1\n",
    "    num = int(input('Digite um número [999 para parar]: '))\n",
    "print('Foram digitados {} números e a soma total é de {}.' .format(cont, soma))    "
   ]
  },
  {
   "cell_type": "markdown",
   "metadata": {},
   "source": [
    "### 065 - Crie um programa que leia vários números inteiros pelo teclado No final da execução, mostre a média entre todos os valores e qual foi o maior e o menor valores lidos. O programa deve perguntar ao usuário se ele quer ou não continuar a digitar valores."
   ]
  },
  {
   "cell_type": "code",
   "execution_count": 7,
   "metadata": {},
   "outputs": [
    {
     "name": "stdout",
     "output_type": "stream",
     "text": [
      "Digite um número: 4\n",
      "Que continuar? [S/N] s\n",
      "Digite um número: 4\n",
      "Que continuar? [S/N] s\n",
      "Digite um número: 10\n",
      "Que continuar? [S/N] s\n",
      "Digite um número: 12\n",
      "Que continuar? [S/N] n\n",
      "Voce digitou 4 números e a média foi 7.5\n",
      "O maior valor foi de 12 e o menor foi 4\n"
     ]
    }
   ],
   "source": [
    "opcao = 'S'\n",
    "soma = cont = maior = menor = 0\n",
    "while opcao != 'N':\n",
    "    num = int(input('Digite um número: '))\n",
    "    cont += 1\n",
    "    soma += num\n",
    "    if cont == 1:\n",
    "        maior = menor = num\n",
    "    else:\n",
    "        if num > maior:\n",
    "            maior = num\n",
    "        if num < menor:\n",
    "            menor = num\n",
    "    opcao = str(input('Que continuar? [S/N] ')).strip().upper()\n",
    "media = soma/cont\n",
    "print('Voce digitou {} números e a média foi {}' .format(cont, media))\n",
    "print('O maior valor foi de {} e o menor foi {}' .format(maior, menor))"
   ]
  },
  {
   "cell_type": "code",
   "execution_count": null,
   "metadata": {},
   "outputs": [],
   "source": []
  }
 ],
 "metadata": {
  "kernelspec": {
   "display_name": "Python 3",
   "language": "python",
   "name": "python3"
  },
  "language_info": {
   "codemirror_mode": {
    "name": "ipython",
    "version": 3
   },
   "file_extension": ".py",
   "mimetype": "text/x-python",
   "name": "python",
   "nbconvert_exporter": "python",
   "pygments_lexer": "ipython3",
   "version": "3.7.6"
  }
 },
 "nbformat": 4,
 "nbformat_minor": 4
}
