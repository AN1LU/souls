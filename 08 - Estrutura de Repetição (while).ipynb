{
 "cells": [
  {
   "cell_type": "markdown",
   "metadata": {},
   "source": [
    "### 057 -Faça um programa que leia o sexo de uma pessoa, mas só aceite os valores 'M' ou 'F'. Caso esteja peça a digitação novamente até ter um valor correto."
   ]
  },
  {
   "cell_type": "code",
   "execution_count": 1,
   "metadata": {},
   "outputs": [
    {
     "name": "stdout",
     "output_type": "stream",
     "text": [
      "Informe seu sexo: [M/F]: e\n",
      "Dados inválidos. Por favor, informe seu sexo: m\n",
      "M registrado com sucesso!\n"
     ]
    }
   ],
   "source": [
    "sexo = str(input('Informe seu sexo: [M/F]: ')).strip().upper()[0] # ex: masculino = 'M'\n",
    "while sexo not in 'MnFf':\n",
    "    sexo = str(input('Dados inválidos. Por favor, informe seu sexo: ')).strip().upper()[0]\n",
    "print(f'{sexo} registrado com sucesso!')    "
   ]
  },
  {
   "cell_type": "markdown",
   "metadata": {},
   "source": [
    "### 058 - Exercício Python 058: Melhore o jogo do DESAFIO 028 onde o computador vai \"pensar\" em um número entre 0 e 10. Só que agora o jogador vai tentar adivinhar até acertar, mostrando no final quantos palpites foram necessários para vencer."
   ]
  },
  {
   "cell_type": "code",
   "execution_count": 1,
   "metadata": {},
   "outputs": [
    {
     "name": "stdout",
     "output_type": "stream",
     "text": [
      "Sou seu computador... Acabei de pensar em um número entre 0 e 10.\n",
      "Será que voce consegue adivinhar qual foi?\n",
      "Qual é o seu palpite? 7\n",
      "Menos... Tente mais uma vez:\n",
      "Qual é o seu palpite? 5\n",
      "Menos... Tente mais uma vez:\n",
      "Qual é o seu palpite? 4\n",
      "Menos... Tente mais uma vez:\n",
      "Qual é o seu palpite? 2\n",
      "Acertou com 4 tentativas. Parabens.\n"
     ]
    }
   ],
   "source": [
    "from random import randint\n",
    "computador = randint(0,10)\n",
    "print('Sou seu computador... Acabei de pensar em um número entre 0 e 10.')\n",
    "print('Será que voce consegue adivinhar qual foi?')\n",
    "acertou = False\n",
    "palpites = 0\n",
    "while not acertou:\n",
    "    jogador = int(input('Qual é o seu palpite? '))\n",
    "    palpites += 1\n",
    "    if jogador < computador:\n",
    "        print('Mais... Tente mais uma vez: ')\n",
    "    elif jogador > computador:\n",
    "        print('Menos... Tente mais uma vez:')\n",
    "    else:\n",
    "        acertou = True\n",
    "print('Acertou com {} tentativas. Parabens.' .format(palpites))        "
   ]
  }
 ],
 "metadata": {
  "kernelspec": {
   "display_name": "Python 3",
   "language": "python",
   "name": "python3"
  },
  "language_info": {
   "codemirror_mode": {
    "name": "ipython",
    "version": 3
   },
   "file_extension": ".py",
   "mimetype": "text/x-python",
   "name": "python",
   "nbconvert_exporter": "python",
   "pygments_lexer": "ipython3",
   "version": "3.7.6"
  }
 },
 "nbformat": 4,
 "nbformat_minor": 4
}
