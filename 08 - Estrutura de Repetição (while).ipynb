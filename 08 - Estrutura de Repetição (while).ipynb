{
 "cells": [
  {
   "cell_type": "markdown",
   "metadata": {},
   "source": [
    "### 057 -Faça um programa que leia o sexo de uma pessoa, mas só aceite os valores 'M' ou 'F'. Caso esteja peça a digitação novamente até ter um valor correto."
   ]
  },
  {
   "cell_type": "code",
   "execution_count": 2,
   "metadata": {},
   "outputs": [
    {
     "name": "stdout",
     "output_type": "stream",
     "text": [
      "Informe seu sexo: [M/F]: M\n",
      "M registrado com sucesso!\n"
     ]
    }
   ],
   "source": [
    "sexo = str(input('Informe seu sexo: [M/F]: ')).strip().upper()[0] # ex: masculino = 'M'\n",
    "while sexo not in 'MnFf':\n",
    "    sexo = str(input('Dados inválidos. Por favor, informe seu sexo: ')).strip().upper()[0]\n",
    "print(f'{sexo} registrado com sucesso!')    "
   ]
  },
  {
   "cell_type": "markdown",
   "metadata": {},
   "source": [
    "### 058 - Exercício Python 058: Melhore o jogo do DESAFIO 028 onde o computador vai \"pensar\" em um número entre 0 e 10. Só que agora o jogador vai tentar adivinhar até acertar, mostrando no final quantos palpites foram necessários para vencer."
   ]
  },
  {
   "cell_type": "code",
   "execution_count": 3,
   "metadata": {},
   "outputs": [
    {
     "name": "stdout",
     "output_type": "stream",
     "text": [
      "Sou seu computador... Acabei de pensar em um número entre 0 e 10.\n",
      "Será que voce consegue adivinhar qual foi?\n",
      "Qual é o seu palpite? 4\n",
      "Menos... Tente mais uma vez:\n",
      "Qual é o seu palpite? 3\n",
      "Menos... Tente mais uma vez:\n",
      "Qual é o seu palpite? 1\n",
      "Mais... Tente mais uma vez: \n",
      "Qual é o seu palpite? 2\n",
      "Acertou com 4 tentativas. Parabens.\n"
     ]
    }
   ],
   "source": [
    "from random import randint\n",
    "computador = randint(0,10)\n",
    "print('Sou seu computador... Acabei de pensar em um número entre 0 e 10.')\n",
    "print('Será que voce consegue adivinhar qual foi?')\n",
    "acertou = False\n",
    "palpites = 0\n",
    "while not acertou:\n",
    "    jogador = int(input('Qual é o seu palpite? '))\n",
    "    palpites += 1\n",
    "    if jogador < computador:\n",
    "        print('Mais... Tente mais uma vez: ')\n",
    "    elif jogador > computador:\n",
    "        print('Menos... Tente mais uma vez:')\n",
    "    else:\n",
    "        acertou = True\n",
    "print('Acertou com {} tentativas. Parabens.' .format(palpites))        "
   ]
  },
  {
   "cell_type": "markdown",
   "metadata": {},
   "source": [
    "### 059 - Crie um programa que leia dois valores e mostre um menu como o ao lado na tela:\n",
    "* [1] somar\n",
    "* [2] multiplicar\n",
    "* [3] maior\n",
    "* [4] novos números\n",
    "* [5] sair do programa\n",
    "### Seu programa deverá realizar a operação solicitada em cada caso."
   ]
  },
  {
   "cell_type": "code",
   "execution_count": 1,
   "metadata": {},
   "outputs": [
    {
     "name": "stdout",
     "output_type": "stream",
     "text": [
      "Primeiro valor: 4\n",
      "Segundo valor: 5\n",
      "    [1] Somar\n",
      "    [2] Multiplicar\n",
      "    [3] Maior valor\n",
      "    [4] Novos números\n",
      "    [5] Sair do programa\n",
      "Qual é a opção: 1\n",
      "A soma de 4 + 5 = 9\n",
      "=-==-==-==-==-==-==-==-==-==-==-==-==-==-==-==-==-==-==-==-=\n",
      "    [1] Somar\n",
      "    [2] Multiplicar\n",
      "    [3] Maior valor\n",
      "    [4] Novos números\n",
      "    [5] Sair do programa\n",
      "Qual é a opção: 2\n",
      "A Multiplicação de 4 * 5 = 20\n",
      "=-==-==-==-==-==-==-==-==-==-==-==-==-==-==-==-==-==-==-==-=\n",
      "    [1] Somar\n",
      "    [2] Multiplicar\n",
      "    [3] Maior valor\n",
      "    [4] Novos números\n",
      "    [5] Sair do programa\n",
      "Qual é a opção: 3\n",
      "O número 5 é maior!\n",
      "=-==-==-==-==-==-==-==-==-==-==-==-==-==-==-==-==-==-==-==-=\n",
      "    [1] Somar\n",
      "    [2] Multiplicar\n",
      "    [3] Maior valor\n",
      "    [4] Novos números\n",
      "    [5] Sair do programa\n",
      "Qual é a opção: 4\n",
      "Adicione novos números!!\n",
      "Primeiro valor: 8\n",
      "Segundo valor: 9\n",
      "=-==-==-==-==-==-==-==-==-==-==-==-==-==-==-==-==-==-==-==-=\n",
      "    [1] Somar\n",
      "    [2] Multiplicar\n",
      "    [3] Maior valor\n",
      "    [4] Novos números\n",
      "    [5] Sair do programa\n",
      "Qual é a opção: 3\n",
      "O número 9 é maior!\n",
      "=-==-==-==-==-==-==-==-==-==-==-==-==-==-==-==-==-==-==-==-=\n",
      "    [1] Somar\n",
      "    [2] Multiplicar\n",
      "    [3] Maior valor\n",
      "    [4] Novos números\n",
      "    [5] Sair do programa\n",
      "Qual é a opção: 5\n",
      "Finalizando...\n",
      "=-==-==-==-==-==-==-==-==-==-==-==-==-==-==-==-==-==-==-==-=\n",
      "Fim do programa! Volte sempre\n"
     ]
    }
   ],
   "source": [
    "from time import sleep\n",
    "n1 = int(input('Primeiro valor: '))\n",
    "n2 = int(input('Segundo valor: '))\n",
    "opcao = 0\n",
    "while opcao != 5:\n",
    "    print('''    [1] Somar\n",
    "    [2] Multiplicar\n",
    "    [3] Maior valor\n",
    "    [4] Novos números\n",
    "    [5] Sair do programa''')\n",
    "    opcao = int(input('Qual é a opção: '))\n",
    "    if opcao == 1:\n",
    "        print(f'A soma de {n1} + {n2} = {n1+n2}')\n",
    "    elif opcao == 2: \n",
    "        print(f'A Multiplicação de {n1} * {n2} = {n1*n2}')\n",
    "    elif opcao == 3:\n",
    "        if n1 > n2:\n",
    "            print(f'O número {n1} é maior!')\n",
    "        else:\n",
    "            print(f'O número {n2} é maior!')\n",
    "    elif opcao == 4:\n",
    "        print('Adicione novos números!!')\n",
    "        n1 = int(input('Primeiro valor: '))\n",
    "        n2 = int(input('Segundo valor: '))\n",
    "    elif opcao == 5:\n",
    "        print('Finalizando...')\n",
    "        sleep(2)\n",
    "    else:\n",
    "        print('Opcao Invalida. Tente novamente.')\n",
    "    print('=-=' *20) \n",
    "print('Fim do programa! Volte sempre')    "
   ]
  },
  {
   "cell_type": "markdown",
   "metadata": {},
   "source": [
    "### 060 - Faça um programa que leia um número qualquer e mostre seu fatorial.\n",
    "\n",
    "* Ex: 5! = 5x4x3x2x1 = 120"
   ]
  },
  {
   "cell_type": "code",
   "execution_count": 2,
   "metadata": {},
   "outputs": [
    {
     "name": "stdout",
     "output_type": "stream",
     "text": [
      "Digite um número para calcualr seu Fatorial: 5\n",
      "Calculando 5! = 5 x 4 x 3 x 2 x 1 = 120\n"
     ]
    }
   ],
   "source": [
    "# from math import factorial\n",
    "# n = int(input('Digite um número para calcular seu fatorial: '))\n",
    "# f = factorial(n)\n",
    "# print('O fatorial de {} é {}.' .format(n, f))\n",
    "\n",
    "num = int(input('Digite um número para calcualr seu Fatorial: '))\n",
    "c = num\n",
    "f = 1\n",
    "print('Calculando {}! = ' .format(num), end='')\n",
    "while c > 0:\n",
    "    print('{}' .format(c), end='')\n",
    "    print(' x ' if c > 1 else ' = ', end='')\n",
    "    f *= c\n",
    "    c -= 1\n",
    "print('{}' .format(f))    "
   ]
  }
 ],
 "metadata": {
  "kernelspec": {
   "display_name": "Python 3",
   "language": "python",
   "name": "python3"
  },
  "language_info": {
   "codemirror_mode": {
    "name": "ipython",
    "version": 3
   },
   "file_extension": ".py",
   "mimetype": "text/x-python",
   "name": "python",
   "nbconvert_exporter": "python",
   "pygments_lexer": "ipython3",
   "version": "3.7.6"
  }
 },
 "nbformat": 4,
 "nbformat_minor": 4
}
