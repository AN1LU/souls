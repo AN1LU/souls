{
 "cells": [
  {
   "cell_type": "markdown",
   "metadata": {},
   "source": [
    "### 066 - Crie um programa que leia vários números interos pelo teclado. O programa só vai parar quando o usuario digitar o valor 999, que é a condição de parada. No final, mostre quantos números foram digitados e qual foi a soma entre eles desconsidernado o flag."
   ]
  },
  {
   "cell_type": "code",
   "execution_count": 3,
   "metadata": {},
   "outputs": [
    {
     "name": "stdout",
     "output_type": "stream",
     "text": [
      "Digite um valor (999 para parar)2\n",
      "Digite um valor (999 para parar)3\n",
      "Digite um valor (999 para parar)5\n",
      "Digite um valor (999 para parar)999\n",
      "A soma dos 3 valores é 10\n"
     ]
    }
   ],
   "source": [
    "soma = cont = 0\n",
    "while True:\n",
    "    n = int(input('Digite um valor (999 para parar)'))\n",
    "    if n == 999:\n",
    "        break\n",
    "    cont += 1\n",
    "    soma += n\n",
    "print(f'A soma dos {cont} valores é {soma}')    "
   ]
  },
  {
   "cell_type": "markdown",
   "metadata": {},
   "source": [
    "### 067 - Faça um programa que mostre a tabuada de vários números, um de cada vez, para cada valor digitado pelo usúario. O prgrama será interrompido quando o número solicitado for negativo."
   ]
  },
  {
   "cell_type": "code",
   "execution_count": 4,
   "metadata": {},
   "outputs": [
    {
     "name": "stdout",
     "output_type": "stream",
     "text": [
      "Quer ver a tabuada de qual valor? 7\n",
      "------------------------------\n",
      "7 x 1 = 7\n",
      "7 x 2 = 14\n",
      "7 x 3 = 21\n",
      "7 x 4 = 28\n",
      "7 x 5 = 35\n",
      "7 x 6 = 42\n",
      "7 x 7 = 49\n",
      "7 x 8 = 56\n",
      "7 x 9 = 63\n",
      "7 x 10 = 70\n",
      "------------------------------\n",
      "Quer ver a tabuada de qual valor? -1\n",
      "FIM\n"
     ]
    }
   ],
   "source": [
    "while True:\n",
    "    num = int(input('Quer ver a tabuada de qual valor? '))\n",
    "    if num <= 0:\n",
    "        break\n",
    "    print('-' * 30)\n",
    "    for n in range(1,11):\n",
    "        res = num * n\n",
    "        print(f'{num} x {n} = {res}')\n",
    "    print('-' * 30)\n",
    "print('FIM')    \n",
    "        "
   ]
  },
  {
   "cell_type": "markdown",
   "metadata": {},
   "source": [
    "### 068 Faça um programa que jogue par ou ímpar com o computador. O jogo só será interrompido quando o jogador perder, mostrando o total de vitórias consectivas que ele conquistou no final do jogo."
   ]
  },
  {
   "cell_type": "code",
   "execution_count": 5,
   "metadata": {},
   "outputs": [
    {
     "name": "stdout",
     "output_type": "stream",
     "text": [
      "Diga um valor: 5\n",
      "Par ou Ímpar? [P/I]P\n",
      "Voce jogou 5 e o computador jogou 10. total 15 Deu Ímpar\n",
      "Perdeu\n",
      "GAME OVER! Voce venceu 0 vezes.\n"
     ]
    }
   ],
   "source": [
    "from random import randint\n",
    "v = 0\n",
    "while True:\n",
    "    jogador = int(input('Diga um valor: '))\n",
    "    computador = randint(0, 10)\n",
    "    total = computador + jogador\n",
    "    tipo = ' '\n",
    "    while tipo not in 'PI':\n",
    "        tipo = str(input('Par ou Ímpar? [P/I]')).strip().upper()[0]\n",
    "    print(f'Voce jogou {jogador} e o computador jogou {computador}. total {total}', end='')\n",
    "    print(' Deu par' if total % 2 == 0 else ' Deu Ímpar')\n",
    "    if tipo == 'P':\n",
    "        if total % 2 == 0:\n",
    "            print('Ganhou')\n",
    "            v += 1\n",
    "        else:\n",
    "            print('Perdeu')\n",
    "            break\n",
    "    elif tipo == 'I':\n",
    "        if total % 2 == 1:\n",
    "            print('Ganhou')\n",
    "            v += 1\n",
    "        else: \n",
    "            print('Perdeu')\n",
    "            break\n",
    "    print('Vamos jogar novamente')\n",
    "print(f'GAME OVER! Voce venceu {v} vezes.')          "
   ]
  },
  {
   "cell_type": "markdown",
   "metadata": {},
   "source": [
    "### 069 - Crie um programa que leia a idade e o sexo de várias pessoas. A cada pessoa cadastrada, o programa deverá perguntar se o usuario quer ou não continuar. No final, mostre:\n",
    "\n",
    "* Quantas pessoas tem mais de 18 anos.\n",
    "* Quantos homens foram cadastrados.\n",
    "* Quantas mulheres tem menos de 20 anos"
   ]
  },
  {
   "cell_type": "code",
   "execution_count": 2,
   "metadata": {},
   "outputs": [
    {
     "name": "stdout",
     "output_type": "stream",
     "text": [
      "--------------------\n",
      "CADASTRE UMA PESSOA\n",
      "--------------------\n",
      "Idade: 22\n",
      "Sexo: [M/F]: F\n",
      "Quer continuar? [S/N]n\n",
      "Total de pessoas com mais de 18 anos: 1\n",
      "Foram cadastrados 0 homens!\n",
      "Total de mulheres com menos de 20 anos: 0\n"
     ]
    }
   ],
   "source": [
    "print('-' * 20)\n",
    "print('CADASTRE UMA PESSOA')\n",
    "print('-' * 20)\n",
    "tot18 = h = M20 = 0\n",
    "\n",
    "while True:\n",
    "    idade = int(input('Idade: '))\n",
    "    sexo = ' '\n",
    "    while sexo not in 'MF':\n",
    "        sexo = str(input('Sexo: [M/F]: ')).strip().upper()[0]\n",
    "    if idade >= 18:\n",
    "        tot18 += 1\n",
    "    if sexo == 'M':\n",
    "        h += 1\n",
    "    resp = ' '\n",
    "    while resp not in 'SN':\n",
    "        resp = str(input('Quer continuar? [S/N]')).strip().upper()[0]\n",
    "    if resp == 'N':\n",
    "        break\n",
    "print(f'Total de pessoas com mais de 18 anos: {tot18}')\n",
    "print(f'Foram cadastrados {h} homens!')\n",
    "print(f'Total de mulheres com menos de 20 anos: {M20}')"
   ]
  }
 ],
 "metadata": {
  "kernelspec": {
   "display_name": "Python 3",
   "language": "python",
   "name": "python3"
  },
  "language_info": {
   "codemirror_mode": {
    "name": "ipython",
    "version": 3
   },
   "file_extension": ".py",
   "mimetype": "text/x-python",
   "name": "python",
   "nbconvert_exporter": "python",
   "pygments_lexer": "ipython3",
   "version": "3.7.6"
  }
 },
 "nbformat": 4,
 "nbformat_minor": 4
}
