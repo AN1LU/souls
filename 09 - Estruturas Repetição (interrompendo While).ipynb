{
 "cells": [
  {
   "cell_type": "markdown",
   "metadata": {},
   "source": [
    "### 066 - Crie um programa que leia vários números interos pelo teclado. O programa só vai parar quando o usuario digitar o valor 999, que é a condição de parada. No final, mostre quantos números foram digitados e qual foi a soma entre eles desconsidernado o flag."
   ]
  },
  {
   "cell_type": "code",
   "execution_count": 1,
   "metadata": {},
   "outputs": [
    {
     "name": "stdout",
     "output_type": "stream",
     "text": [
      "Digite um valor (999 para parar)4\n",
      "Digite um valor (999 para parar)5\n",
      "Digite um valor (999 para parar)7\n",
      "Digite um valor (999 para parar)999\n",
      "A soma dos 3 valores é 16\n"
     ]
    }
   ],
   "source": [
    "soma = cont = 0\n",
    "while True:\n",
    "    n = int(input('Digite um valor (999 para parar)'))\n",
    "    if n == 999:\n",
    "        break\n",
    "    cont += 1\n",
    "    soma += n\n",
    "print(f'A soma dos {cont} valores é {soma}')    "
   ]
  },
  {
   "cell_type": "markdown",
   "metadata": {},
   "source": [
    "### 067 - Faça um programa que mostre a tabuada de vários números, um de cada vez, para cada valor digitado pelo usúario. O prgrama será interrompido quando o número solicitado for negativo."
   ]
  },
  {
   "cell_type": "code",
   "execution_count": 1,
   "metadata": {},
   "outputs": [
    {
     "name": "stdout",
     "output_type": "stream",
     "text": [
      "Quer ver a tabuada de qual valor? 7\n",
      "------------------------------\n",
      "7 x 1 = 7\n",
      "7 x 2 = 14\n",
      "7 x 3 = 21\n",
      "7 x 4 = 28\n",
      "7 x 5 = 35\n",
      "7 x 6 = 42\n",
      "7 x 7 = 49\n",
      "7 x 8 = 56\n",
      "7 x 9 = 63\n",
      "7 x 10 = 70\n",
      "------------------------------\n",
      "Quer ver a tabuada de qual valor? 0\n",
      "FIM\n"
     ]
    }
   ],
   "source": [
    "while True:\n",
    "    num = int(input('Quer ver a tabuada de qual valor? '))\n",
    "    if num <= 0:\n",
    "        break\n",
    "    print('-' * 30)\n",
    "    for n in range(1,11):\n",
    "        res = num * n\n",
    "        print(f'{num} x {n} = {res}')\n",
    "    print('-' * 30)\n",
    "print('FIM')    \n",
    "        "
   ]
  }
 ],
 "metadata": {
  "kernelspec": {
   "display_name": "Python 3",
   "language": "python",
   "name": "python3"
  },
  "language_info": {
   "codemirror_mode": {
    "name": "ipython",
    "version": 3
   },
   "file_extension": ".py",
   "mimetype": "text/x-python",
   "name": "python",
   "nbconvert_exporter": "python",
   "pygments_lexer": "ipython3",
   "version": "3.7.6"
  }
 },
 "nbformat": 4,
 "nbformat_minor": 4
}
