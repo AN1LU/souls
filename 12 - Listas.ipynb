{
 "cells": [
  {
   "cell_type": "markdown",
   "metadata": {},
   "source": [
    "### 078 - Faça um programa que leia 5 valores numéricos e guarde-os em um lista. No final, mostre qual foi o maior e o menor valor digitado e as suas respectivas posições na lista"
   ]
  },
  {
   "cell_type": "code",
   "execution_count": 2,
   "metadata": {},
   "outputs": [
    {
     "name": "stdout",
     "output_type": "stream",
     "text": [
      "Digite um valor para a posição 0: 4\n",
      "Digite um valor para a posição 1: 3\n",
      "Digite um valor para a posição 2: 6\n",
      "Digite um valor para a posição 3: 7\n",
      "Digite um valor para a posição 4: 8\n",
      "Voce digitou os valores [4, 3, 6, 7, 8]\n",
      "O maior valor digitado foi 8 nas posições 4...\n",
      "O menor valor digitado foi 3 nas posições 1...\n"
     ]
    }
   ],
   "source": [
    "valores = []\n",
    "maior = menor = 0\n",
    "for c in range(0,5):\n",
    "    valores.append(int(input(f'Digite um valor para a posição {c}: ')))\n",
    "    if c == 0:\n",
    "        maior = menor = valores[c]\n",
    "    else:\n",
    "         if valores[c] > maior:\n",
    "            maior = valores[c]\n",
    "         if valores[c] < menor:\n",
    "            menor = valores[c]\n",
    "print(f'Voce digitou os valores {valores}')            \n",
    "print(f'O maior valor digitado foi {maior} nas posições ', end='')\n",
    "for i, v in enumerate(valores):\n",
    "    if v == maior:\n",
    "        print(f'{i}...', end='')\n",
    "print()\n",
    "print(f'O menor valor digitado foi {menor} nas posições ', end='')\n",
    "for i, v in enumerate(valores):\n",
    "    if v == menor:\n",
    "        print(f'{i}...', end='')\n",
    "print()        "
   ]
  }
 ],
 "metadata": {
  "kernelspec": {
   "display_name": "Python 3",
   "language": "python",
   "name": "python3"
  },
  "language_info": {
   "codemirror_mode": {
    "name": "ipython",
    "version": 3
   },
   "file_extension": ".py",
   "mimetype": "text/x-python",
   "name": "python",
   "nbconvert_exporter": "python",
   "pygments_lexer": "ipython3",
   "version": "3.7.6"
  }
 },
 "nbformat": 4,
 "nbformat_minor": 4
}
