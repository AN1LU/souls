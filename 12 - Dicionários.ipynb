{
 "cells": [
  {
   "cell_type": "markdown",
   "metadata": {},
   "source": [
    "### 090 - Faça um programa que leia nome e média de um aluno, guardando tambem a situação em um dicionario. No final, mostre o conteudo da estrutura na tela."
   ]
  },
  {
   "cell_type": "code",
   "execution_count": 1,
   "metadata": {},
   "outputs": [
    {
     "name": "stdout",
     "output_type": "stream",
     "text": [
      "Nome: Pedro\n",
      "Média de Pedro 7.5\n",
      "{'nome': 'Pedro', 'média': 7.5, 'situação': 'Aprovado'}\n",
      "-=-=-=-=-=-=-=-=-=-=-=-=-=-=-=-=-=-=-=-=-=-=-=-=-=-=-=-=-=-=\n",
      " - nome é igual a Pedro\n",
      " - média é igual a 7.5\n",
      " - situação é igual a Aprovado\n"
     ]
    }
   ],
   "source": [
    "aluno = {}\n",
    "aluno['nome'] = str(input('Nome: '))\n",
    "aluno['média'] = float(input(f'Média de {aluno[\"nome\"]} '))\n",
    "if aluno['média'] >= 7:\n",
    "    aluno['situação'] = 'Aprovado'\n",
    "elif 5 <= aluno['média'] < 7:\n",
    "    aluno['situação'] = 'Recuperação'\n",
    "else:\n",
    "    aluno['situação'] = 'Reprovado'\n",
    "print(aluno)\n",
    "print('-='*30)\n",
    "for k,v in aluno.items():\n",
    "    print(f' - {k} é igual a {v}')\n",
    "    "
   ]
  },
  {
   "cell_type": "markdown",
   "metadata": {},
   "source": [
    "### 091 - Crie um programa onde 4 jogadores joguem um dado e tenham resltados aleatórios. Guarde esses resultados em um dicionário. No final, coloque esse dicionário em ordem, sabendo que o vencedor tirou o maior número no dado."
   ]
  },
  {
   "cell_type": "code",
   "execution_count": 3,
   "metadata": {},
   "outputs": [
    {
     "name": "stdout",
     "output_type": "stream",
     "text": [
      "Valores sorteados: \n",
      "jogador1 tirou 4 no dado.\n",
      "jogador2 tirou 3 no dado.\n",
      "jogador3 tirou 4 no dado.\n",
      "jogador4 tirou 6 no dado.\n",
      "-=-=-=-=-=-=-=-=-=-=-=-=-=-=-=-=-=-=-=-=-=-=-=-=-=-=-=-=-=-=\n",
      "  ==  RANKING DOS JOGADORES  ==\n",
      "   1º Lugar: jogador4 com [6].\n",
      "   2º Lugar: jogador1 com [4].\n",
      "   3º Lugar: jogador3 com [4].\n",
      "   4º Lugar: jogador2 com [3].\n"
     ]
    }
   ],
   "source": [
    "from random import randint # Importa biblioteca para gerar numeros aleatorios\n",
    "from time import sleep # Importa biblioteca com função de sleep\n",
    "from operator import itemgetter\n",
    "jogo = {'jogador1': randint(1,6),\n",
    "        'jogador2': randint(1,6),\n",
    "        'jogador3': randint(1,6),\n",
    "        'jogador4': randint(1,6)}\n",
    "ranking = list() #criada lista ranking\n",
    "print('Valores sorteados: ')\n",
    "for k, v in jogo.items():\n",
    "    print(f'{k} tirou {v} no dado.') # jogador1 tirou (randint(1,6)) no dado.\n",
    "    sleep(1)\n",
    "ranking = sorted(jogo.items(), key=itemgetter(1), reverse=True)  # Ranking recebe de maneira ordenada os numeros de cada jogador  \n",
    "print('-='*30)\n",
    "print('  ==  RANKING DOS JOGADORES  ==')\n",
    "for i,v in enumerate(ranking): # percorre a lsita ranking i = indice v = items de jogodor\n",
    "    print(f'   {i+1}º Lugar: {v[0]} com {[v[1]]}.')\n",
    "    sleep(1)"
   ]
  },
  {
   "cell_type": "markdown",
   "metadata": {},
   "source": [
    "### 092 - Crie um programa que leia nome, ano de nascimento e carteria de trabalho e cadastre-os (com idade) em um dicionário se por acaso a CTPS for diferente de ZERO, o dicionário receberá tambem o ano de contratação e o salário. Calcule e acrescente, além da idade, com quantos anos a pessoa vai se aposentar."
   ]
  },
  {
   "cell_type": "code",
   "execution_count": 3,
   "metadata": {},
   "outputs": [
    {
     "name": "stdout",
     "output_type": "stream",
     "text": [
      "Nome: João\n",
      "Ano de nascimento: 1972\n",
      "Carteira de Trabalho (0 não tem): 20\n",
      "Ano de Contratação: 1988\n",
      "Salario: R$3000\n",
      "-=-=-=-=-=-=-=-=-=-=-=-=-=-=-=-=-=-=-=-=-=-=-=-=-=-=-=-=-=-=\n",
      "   -[Nome tem o valor João]\n",
      "   -[idade tem o valor 48]\n",
      "   -[CTPS tem o valor 20]\n",
      "   -[contratação tem o valor 1988]\n",
      "   -[salario tem o valor 3000.0]\n",
      "   -[aposentadoria tem o valor 51]\n"
     ]
    }
   ],
   "source": [
    "from datetime import datetime\n",
    "\n",
    "dados = dict()\n",
    "dados['Nome'] = str(input('Nome: '))\n",
    "nasc = int(input('Ano de nascimento: '))\n",
    "dados['idade'] = datetime.now().year - nasc\n",
    "dados['CTPS'] = int(input('Carteira de Trabalho (0 não tem): '))\n",
    "if dados ['CTPS'] != 0:\n",
    "    dados['contratação'] = int(input('Ano de Contratação: '))\n",
    "    dados['salario'] = float(input('Salario: R$'))\n",
    "    dados['aposentadoria'] = dados['idade'] + ((dados['contratação'] + 35) - datetime.now().year)\n",
    "print('-=' * 30)\n",
    "for k,v in dados.items():\n",
    "    print(f'   -[{k} tem o valor {v}]')"
   ]
  },
  {
   "cell_type": "markdown",
   "metadata": {},
   "source": [
    "### 093 - Crie um programa que gerencia o aproveitamento de um jogador de futebol. O programa vai ler o nome do jogador e quantas partidas ele jogou. Depois vai ler a quantidade de gols feitos em cada partida. No final, tudo isso será guaraddo em um dicionario incluindo o total de gols feitos durante o campeonato."
   ]
  },
  {
   "cell_type": "code",
   "execution_count": 2,
   "metadata": {},
   "outputs": [
    {
     "name": "stdout",
     "output_type": "stream",
     "text": [
      "Nome do Jogador: Romario\n",
      "Quantas partidas Romario jogou? 3\n",
      "  Quantos gols na partida 0? 1\n",
      "  Quantos gols na partida 1? 2\n",
      "  Quantos gols na partida 2? 1\n",
      "-=-=-=-=-=-=-=-=-=-=-=-=-=-=-=-=-=-=-=-=-=-=-=-=-=-=-=-=-=-=\n",
      "{'nome': 'Romario', 'gols': [1, 2, 1], 'total': 4}\n",
      "-=-=-=-=-=-=-=-=-=-=-=-=-=-=-=-=-=-=-=-=-=-=-=-=-=-=-=-=-=-=\n",
      "O campo nome tem o valor Romario\n",
      "O campo gols tem o valor [1, 2, 1]\n",
      "O campo total tem o valor 4\n",
      "-=-=-=-=-=-=-=-=-=-=-=-=-=-=-=-=-=-=-=-=-=-=-=-=-=-=-=-=-=-=\n",
      "O jogador Romario jogou 3 partidas.\n",
      "   => Na partida 0, fez 1 gols.\n",
      "   => Na partida 1, fez 2 gols.\n",
      "   => Na partida 2, fez 1 gols.\n",
      "For um total de 4 gols.\n"
     ]
    }
   ],
   "source": [
    "jogador = {}\n",
    "partidas = []\n",
    "jogador['nome'] = str(input('Nome do Jogador: '))\n",
    "tot = int(input(f'Quantas partidas {jogador[\"nome\"]} jogou? '))\n",
    "for c in range(0, tot):\n",
    "    partidas.append(int(input(f'  Quantos gols na partida {c}? ')))\n",
    "jogador['gols'] = partidas[:]\n",
    "jogador['total'] = sum(partidas)\n",
    "print('-=' *30)\n",
    "print(jogador)\n",
    "print('-='*30)\n",
    "for k,v in jogador.items():\n",
    "    print(f'O campo {k} tem o valor {v}')\n",
    "print('-='*30)\n",
    "print(f'O jogador {jogador[\"nome\"]} jogou {len(jogador[\"gols\"])} partidas.')\n",
    "for i,v in enumerate(jogador['gols''']):\n",
    "    print(f'   => Na partida {i}, fez {v} gols.')\n",
    "print(f'For um total de {jogador[\"total\"]} gols.')"
   ]
  }
 ],
 "metadata": {
  "kernelspec": {
   "display_name": "Python 3",
   "language": "python",
   "name": "python3"
  },
  "language_info": {
   "codemirror_mode": {
    "name": "ipython",
    "version": 3
   },
   "file_extension": ".py",
   "mimetype": "text/x-python",
   "name": "python",
   "nbconvert_exporter": "python",
   "pygments_lexer": "ipython3",
   "version": "3.7.6"
  }
 },
 "nbformat": 4,
 "nbformat_minor": 4
}
