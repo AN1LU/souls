{
 "cells": [
  {
   "cell_type": "markdown",
   "metadata": {},
   "source": [
    "### 090 - Faça um programa que leia nome e média de um aluno, guardando tambem a situação em um dicionario. No final, mostre o conteudo da estrutura na tela."
   ]
  },
  {
   "cell_type": "code",
   "execution_count": 1,
   "metadata": {},
   "outputs": [
    {
     "name": "stdout",
     "output_type": "stream",
     "text": [
      "Nome: Pedro\n",
      "Média de Pedro 7.5\n",
      "{'nome': 'Pedro', 'média': 7.5, 'situação': 'Aprovado'}\n",
      "-=-=-=-=-=-=-=-=-=-=-=-=-=-=-=-=-=-=-=-=-=-=-=-=-=-=-=-=-=-=\n",
      " - nome é igual a Pedro\n",
      " - média é igual a 7.5\n",
      " - situação é igual a Aprovado\n"
     ]
    }
   ],
   "source": [
    "aluno = {}\n",
    "aluno['nome'] = str(input('Nome: '))\n",
    "aluno['média'] = float(input(f'Média de {aluno[\"nome\"]} '))\n",
    "if aluno['média'] >= 7:\n",
    "    aluno['situação'] = 'Aprovado'\n",
    "elif 5 <= aluno['média'] < 7:\n",
    "    aluno['situação'] = 'Recuperação'\n",
    "else:\n",
    "    aluno['situação'] = 'Reprovado'\n",
    "print(aluno)\n",
    "print('-='*30)\n",
    "for k,v in aluno.items():\n",
    "    print(f' - {k} é igual a {v}')\n",
    "    "
   ]
  },
  {
   "cell_type": "markdown",
   "metadata": {},
   "source": [
    "### 091 - Crie um programa onde 4 jogadores joguem um dado e tenham resltados aleatórios. Guarde esses resultados em um dicionário. No final, coloque esse dicionário em ordem, sabendo que o vencedor tirou o maior número no dado."
   ]
  },
  {
   "cell_type": "code",
   "execution_count": 3,
   "metadata": {},
   "outputs": [
    {
     "name": "stdout",
     "output_type": "stream",
     "text": [
      "Valores sorteados: \n",
      "jogador1 tirou 4 no dado.\n",
      "jogador2 tirou 3 no dado.\n",
      "jogador3 tirou 4 no dado.\n",
      "jogador4 tirou 6 no dado.\n",
      "-=-=-=-=-=-=-=-=-=-=-=-=-=-=-=-=-=-=-=-=-=-=-=-=-=-=-=-=-=-=\n",
      "  ==  RANKING DOS JOGADORES  ==\n",
      "   1º Lugar: jogador4 com [6].\n",
      "   2º Lugar: jogador1 com [4].\n",
      "   3º Lugar: jogador3 com [4].\n",
      "   4º Lugar: jogador2 com [3].\n"
     ]
    }
   ],
   "source": [
    "from random import randint # Importa biblioteca para gerar numeros aleatorios\n",
    "from time import sleep # Importa biblioteca com função de sleep\n",
    "from operator import itemgetter\n",
    "jogo = {'jogador1': randint(1,6),\n",
    "        'jogador2': randint(1,6),\n",
    "        'jogador3': randint(1,6),\n",
    "        'jogador4': randint(1,6)}\n",
    "ranking = list() #criada lista ranking\n",
    "print('Valores sorteados: ')\n",
    "for k, v in jogo.items():\n",
    "    print(f'{k} tirou {v} no dado.') # jogador1 tirou (randint(1,6)) no dado.\n",
    "    sleep(1)\n",
    "ranking = sorted(jogo.items(), key=itemgetter(1), reverse=True)  # Ranking recebe de maneira ordenada os numeros de cada jogador  \n",
    "print('-='*30)\n",
    "print('  ==  RANKING DOS JOGADORES  ==')\n",
    "for i,v in enumerate(ranking): # percorre a lsita ranking i = indice v = items de jogodor\n",
    "    print(f'   {i+1}º Lugar: {v[0]} com {[v[1]]}.')\n",
    "    sleep(1)"
   ]
  }
 ],
 "metadata": {
  "kernelspec": {
   "display_name": "Python 3",
   "language": "python",
   "name": "python3"
  },
  "language_info": {
   "codemirror_mode": {
    "name": "ipython",
    "version": 3
   },
   "file_extension": ".py",
   "mimetype": "text/x-python",
   "name": "python",
   "nbconvert_exporter": "python",
   "pygments_lexer": "ipython3",
   "version": "3.7.6"
  }
 },
 "nbformat": 4,
 "nbformat_minor": 4
}
