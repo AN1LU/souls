{
 "cells": [
  {
   "cell_type": "markdown",
   "metadata": {},
   "source": [
    "### 096 - Faça um programa que tenha uma função chamada área(), que receba as dimensões de um terreno retangeular (largura e comprimento) e mostre a área do terreno."
   ]
  },
  {
   "cell_type": "code",
   "execution_count": 2,
   "metadata": {},
   "outputs": [
    {
     "name": "stdout",
     "output_type": "stream",
     "text": [
      "Controle de terrenos\n",
      "--------------------\n",
      "Largura (m): 5\n",
      "Comprimento (m): 6\n",
      "A área de um terreno 5.0 x 6.0 é de 30.0m².\n"
     ]
    }
   ],
   "source": [
    "def area(larg, comp):\n",
    "    a = larg * comp\n",
    "    print(f'A área de um terreno {larg} x {comp} é de {a}m².')\n",
    "    \n",
    "    \n",
    "print(f'Controle de terrenos')\n",
    "print('-'*20)\n",
    "l = float(input('Largura (m): '))\n",
    "c = float(input('Comprimento (m): '))\n",
    "area(l, c)"
   ]
  },
  {
   "cell_type": "markdown",
   "metadata": {},
   "source": [
    "### 097 - Faça um programa que tenha uma função chamada escreva(), que receba uma texto qualquer como parâmetro e mostre uma mensagem com tamanha adaptável."
   ]
  },
  {
   "cell_type": "code",
   "execution_count": 1,
   "metadata": {},
   "outputs": [
    {
     "name": "stdout",
     "output_type": "stream",
     "text": [
      "~~~~~~~~~~~~~~~~~~~~~~~~~~~~~~\n",
      "  Curso de Python no Youtube\n",
      "~~~~~~~~~~~~~~~~~~~~~~~~~~~~~~\n",
      "~~~~~~~~~~~~\n",
      "  oi mundo\n",
      "~~~~~~~~~~~~\n"
     ]
    }
   ],
   "source": [
    "def escreva(msg):\n",
    "    tam = len(msg) + 4\n",
    "    print('~' * tam)\n",
    "    print(f'  {msg}')\n",
    "    print('~' * tam)\n",
    "    \n",
    "    \n",
    "# programa principal\n",
    "escreva('Curso de Python no Youtube')\n",
    "escreva('oi mundo')"
   ]
  },
  {
   "cell_type": "markdown",
   "metadata": {},
   "source": [
    "### 098 - Faça um programa que tenha uma função chamada contador(), que receba três parametros: inicio, fim e passo. Seu programa tem que realizar três contagens através da função criada:\n",
    "* A - De 1 até 10, de 1 em 1\n",
    "* B - De 10 até 0, de 2 em 2\n",
    "* C - uma contagem personalizada."
   ]
  },
  {
   "cell_type": "code",
   "execution_count": 2,
   "metadata": {},
   "outputs": [
    {
     "name": "stdout",
     "output_type": "stream",
     "text": [
      "-=-=-=-=-=-=-=-=-=-=-=-=-=-=-=-=-=-=-=-=\n",
      "Contagem de 1 até 10 de 1 em 1\n",
      "1 2 3 4 5 6 7 8 9 10 FIM\n",
      "-=-=-=-=-=-=-=-=-=-=-=-=-=-=-=-=-=-=-=-=\n",
      "Contagem de 10 até 0 de 2 em 2\n",
      "10 8 6 4 2 0 FIM\n",
      "Agora é a sua vez de personalizar a contagem!\n",
      "Inicio: 100\n",
      "Fim: 10\n",
      "Passo: -3\n",
      "-=-=-=-=-=-=-=-=-=-=-=-=-=-=-=-=-=-=-=-=\n",
      "Contagem de 100 até 10 de 3 em 3\n",
      "100 97 94 91 88 85 82 79 76 73 70 67 64 61 58 55 52 49 46 43 40 37 34 31 28 25 22 19 16 13 10 FIM\n"
     ]
    }
   ],
   "source": [
    "from time import sleep\n",
    "\n",
    "def contador(i, f, p):\n",
    "    if p < 0:\n",
    "        p *= -1\n",
    "    if p == 0:\n",
    "        p = 1\n",
    "    print('-=' * 20)\n",
    "    print(f'Contagem de {i} até {f} de {p} em {p}')\n",
    "    sleep(2.0)\n",
    "    \n",
    "    if i < f:\n",
    "        cont = i\n",
    "        while cont <= f:\n",
    "            print(f'{cont} ', end='', flush=True)\n",
    "            sleep(0.5)\n",
    "            cont += p\n",
    "        print('FIM')\n",
    "    else:\n",
    "        cont = i\n",
    "        while cont >= f:\n",
    "            print(f'{cont} ', end='', flush=True)\n",
    "            sleep(0.5)\n",
    "            cont -= p\n",
    "        print('FIM')\n",
    "        \n",
    "        \n",
    "        \n",
    "# Programa Principal\n",
    "contador(1, 10, 1)\n",
    "contador(10, 0, 2)\n",
    "print('Agora é a sua vez de personalizar a contagem!')\n",
    "ini = int(input('Inicio: '))\n",
    "fim = int(input('Fim: '))\n",
    "pas = int(input('Passo: '))\n",
    "contador(ini, fim, pas)"
   ]
  },
  {
   "cell_type": "markdown",
   "metadata": {},
   "source": [
    "### 099 - Faça um programa que tenha um afunção chamada maior(), que receba varios parametros com valores inteiros. Seu programa tem que analisar todos os valores e dizer qual deles é o maior."
   ]
  },
  {
   "cell_type": "code",
   "execution_count": 22,
   "metadata": {},
   "outputs": [
    {
     "name": "stdout",
     "output_type": "stream",
     "text": [
      "-=-=-=-=-=-=-=-=-=-=-=-=-=-=-=-=-=-=-=-=-=-=-=-=-=-=-=-=-=-=\n",
      "Analisando os valores passados...\n",
      "(34)(2)(78)(44)(1990)(22)(1125)(250)\n",
      "Foram informados 8 valores ao todo.\n",
      "O maior valor informado foi 1990.\n"
     ]
    }
   ],
   "source": [
    "from time import sleep\n",
    "\n",
    "def maior(* num):\n",
    "    # cont = maior = 0\n",
    "    print('-=' * 30)\n",
    "    print('Analisando os valores passados...')\n",
    "    for valor in num:\n",
    "        print(f'({valor})', end='', flush=True)\n",
    "        # sleep(0.3)\n",
    "        # if cont == 0:\n",
    "        #    maior = valor\n",
    "        # else:\n",
    "        #    if valor > maior:\n",
    "        #        maior = valor\n",
    "        # cont +=1\n",
    "        \n",
    "    # print(f'\\nForam informados {cont} valores ao todo.')\n",
    "    # print(f'O maior valor informado foi {maior}.') \n",
    "    \n",
    "    print(f'\\nForam informados {len(num)} valores ao todo.')\n",
    "    print(f'O maior valor informado foi {max(num)}.')\n",
    "        \n",
    "        \n",
    "maior(34, 2, 78, 44, 1990, 22, 1125, 250)     \n",
    "#maior(4, 7, 100)"
   ]
  },
  {
   "cell_type": "markdown",
   "metadata": {},
   "source": [
    "### 100 - Faça um programa que tenha uma lista chamada números e duas funções chamadas sorteia() e somaPar(). A primeira função vai sortear 5 números e vai coloca-los dentro de uma lista e a segunda função vai mostrar a soma entre todos os valores PARES sorteados pela função anteiror."
   ]
  },
  {
   "cell_type": "code",
   "execution_count": 31,
   "metadata": {},
   "outputs": [
    {
     "name": "stdout",
     "output_type": "stream",
     "text": [
      "Sorteando 5 valores da lista: (7) (6) (10) (2) (5) Pronto\n",
      "Somando os valores pares da lista [7, 6, 10, 2, 5], temos 18.\n"
     ]
    }
   ],
   "source": [
    "from random import randint\n",
    "from time import sleep\n",
    "\n",
    "def sorteia(lista):\n",
    "    print('Sorteando 5 valores da lista: ', end='')\n",
    "    for cont in range(0, 5):\n",
    "        n = randint(1, 10)\n",
    "        lista.append(n)\n",
    "        print(f'({n}) ', end='', flush=True)\n",
    "        sleep(0.3)\n",
    "    print('Pronto')\n",
    "    \n",
    "    \n",
    "def somaPar(lista):\n",
    "    soma = 0\n",
    "    for valor in lista:\n",
    "        if valor % 2 == 0:\n",
    "            soma += valor\n",
    "    print(f'Somando os valores pares da lista {lista}, temos {soma}.')\n",
    "    \n",
    "    \n",
    "numeros = list()\n",
    "sorteia(numeros)\n",
    "somaPar(numeros)\n",
    "            "
   ]
  },
  {
   "cell_type": "markdown",
   "metadata": {},
   "source": [
    "### 101 - Crie um programa que tenha um afunção chamada voto() que vai receber como parametro o ano de nascimento de uma pessoa, retornando um valor literal indicando se uma pessoa tem voto NEGADO, OPCIONAL, ou OBRIGATÓRIO nas eleições."
   ]
  },
  {
   "cell_type": "code",
   "execution_count": 35,
   "metadata": {},
   "outputs": [
    {
     "name": "stdout",
     "output_type": "stream",
     "text": [
      "Digite seu ano de nascimento: 2010\n"
     ]
    },
    {
     "data": {
      "text/plain": [
       "'Com 10 anos: VOTO NEGADO'"
      ]
     },
     "execution_count": 35,
     "metadata": {},
     "output_type": "execute_result"
    }
   ],
   "source": [
    "def voto(ano):\n",
    "    from datetime import date\n",
    "    atual = date.today().year\n",
    "    idade = atual - ano\n",
    "    if idade < 16:\n",
    "        return f'Com {idade} anos: VOTO NEGADO'\n",
    "    elif 16 <= idade < 18 or idade > 65:\n",
    "        return f'Com {idade} anos: VOTO OPCIONAL'\n",
    "    else:\n",
    "        return f'Com {idade} anos: VOTO OBRIGATÓRIO'\n",
    "    \n",
    "    \n",
    "# Programa Principal\n",
    "nasc = int(input('Digite seu ano de nascimento: '))\n",
    "voto(nasc)                 "
   ]
  },
  {
   "cell_type": "markdown",
   "metadata": {},
   "source": [
    "### 102 - Crie um programa que tenha uma função fatorial() que receba dois parametros: o primeiro que indique o número a calcular e o outro chamado show, que será um valor lógico (opcional) indicando se será mostrado ou não na tela o processo de cálculo o fatorial."
   ]
  },
  {
   "cell_type": "code",
   "execution_count": 6,
   "metadata": {},
   "outputs": [
    {
     "name": "stdout",
     "output_type": "stream",
     "text": [
      "5 x 4 x 3 x 2 x 1 = 120\n",
      "Help on function fatorial in module __main__:\n",
      "\n",
      "fatorial(n, show=False)\n",
      "    -> Calcula o Fatorial de um número.\n",
      "    :param n: O número a ser calculado.\n",
      "    :param show: (opcional) Mostra ou não a conta.\n",
      "    :retunr: O valor do Fatorial de um número n.\n",
      "\n"
     ]
    }
   ],
   "source": [
    "def fatorial(n, show=False):\n",
    "    \"\"\"\n",
    "    -> Calcula o Fatorial de um número.\n",
    "    :param n: O número a ser calculado.\n",
    "    :param show: (opcional) Mostra ou não a conta.\n",
    "    :retunr: O valor do Fatorial de um número n.\n",
    "    \"\"\"\n",
    "    f=1\n",
    "    for c in range(n, 0, -1):\n",
    "        if show:\n",
    "            print(c, end='')\n",
    "            if show:\n",
    "                if c > 1:\n",
    "                    print(' x ', end='')\n",
    "                else:\n",
    "                    print(' = ', end='')\n",
    "        f *= c\n",
    "    return f\n",
    "\n",
    "\n",
    "#Programa Principal\n",
    "print(fatorial(5, show='True'))\n",
    "help(fatorial)\n"
   ]
  },
  {
   "cell_type": "markdown",
   "metadata": {},
   "source": [
    "### 103 - Faça um programa que tenha uma função chamada ficha(), que receba dois parâmetros opcionais: o nome de um jogador e quantos gols ele marcou. O programador deverá ser capaz de mostrar a ficha do jogador, mesmo que algum dado não tenha sido informado corretamente."
   ]
  },
  {
   "cell_type": "code",
   "execution_count": 16,
   "metadata": {},
   "outputs": [
    {
     "name": "stdout",
     "output_type": "stream",
     "text": [
      "Nome do jogador: 12\n",
      "Número de gols: 12\n",
      "O jogador <desconhecido> fez 12 no campeonato.\n"
     ]
    }
   ],
   "source": [
    "def ficha(nome='<desconhecido>', gol=0):\n",
    "    print(f'O jogador {nome} fez {gol} no campeonato.')\n",
    "\n",
    "    \n",
    "#programa principal\n",
    "n = str(input('Nome do jogador: '))\n",
    "g = str(input('Número de gols: '))\n",
    "if g.isnumeric():\n",
    "    g = int(g)\n",
    "else:\n",
    "    g = 0\n",
    "if n.strip() == '' or n.isnumeric():\n",
    "    ficha(gol=g)\n",
    "else:\n",
    "    ficha(n, g)"
   ]
  },
  {
   "cell_type": "markdown",
   "metadata": {},
   "source": [
    "### 104 - Crie um programa que tenha a função leiaInt(), que vai funcionar de forma semelhante a função input() do python, só que fazendo a validação para aceitar apenas um valor numérico.\n",
    "* ex: n = leiaInt('Digite um n')"
   ]
  },
  {
   "cell_type": "code",
   "execution_count": 1,
   "metadata": {},
   "outputs": [
    {
     "name": "stdout",
     "output_type": "stream",
     "text": [
      "Digite um número: t\n",
      "\u001b[0;31mErro! Digite um número inteiro válido.\u001b[m\n",
      "Digite um número: 3\n",
      "Você acabou de digitar o número 3\n"
     ]
    }
   ],
   "source": [
    "def leiaInt(msg):\n",
    "    ok = False\n",
    "    valor = 0\n",
    "    while True:\n",
    "        n = str(input(msg))\n",
    "        if n.isnumeric():\n",
    "            valor = int(n)\n",
    "            ok = True\n",
    "        else:\n",
    "            print('\\033[0;31mErro! Digite um número inteiro válido.\\033[m')\n",
    "        if ok:\n",
    "            break\n",
    "    return valor\n",
    "\n",
    "\n",
    "#Programa Principal\n",
    "n = leiaInt('Digite um número: ')\n",
    "print(f'Você acabou de digitar o número {n}')"
   ]
  },
  {
   "cell_type": "markdown",
   "metadata": {},
   "source": [
    "### 105 - Faça um programa que tenha uma função notas() que pode receber várias notas de alunos e vai retornar um dicionário com as seguintes informações: (Adicione tambem as docstrings)\n",
    "* Quantidade de notas\n",
    "* A maior nota\n",
    "* A menor nota\n",
    "* A média da turma\n",
    "* A situação (opcional)\n"
   ]
  },
  {
   "cell_type": "code",
   "execution_count": 12,
   "metadata": {},
   "outputs": [
    {
     "name": "stdout",
     "output_type": "stream",
     "text": [
      "{'Total': 4, 'Maior': 6, 'Menor': 3, 'Media': 4.625, 'Situação': 'Reprovado'}\n"
     ]
    }
   ],
   "source": [
    "def notas(*n, sit=False):\n",
    "    \"\"\"\n",
    "    -> Função para analisar notas e situações de vérios alunos.\n",
    "    :param n: uma ou mais notas dos alunos (aceita várias)\n",
    "    :param sit: valor opcional, indicando se deve ou não adicionar a situação.\n",
    "    :return lista: dicionario com várias informações sobre a situação da turma.\n",
    "    \"\"\"\n",
    "    lista = {}\n",
    "    lista['Total'] = len(n)\n",
    "    lista['Maior'] = max(n)\n",
    "    lista['Menor'] = min(n)\n",
    "    lista['Media'] = sum(n)/len(n)\n",
    "    if lista['Media'] >= 7:\n",
    "        lista['Situação'] = 'Aprovado'\n",
    "    elif lista['Media'] >= 5:\n",
    "        lista['Situação'] = 'Recuperação'\n",
    "    else:\n",
    "        lista['Situação'] = 'Reprovado'\n",
    "    return lista\n",
    "\n",
    "\n",
    "#Programa Principal\n",
    "resp = notas(6, 5.5, 4, 3, sit=True)\n",
    "print(resp)\n",
    "#help(notas)"
   ]
  }
 ],
 "metadata": {
  "kernelspec": {
   "display_name": "Python 3",
   "language": "python",
   "name": "python3"
  },
  "language_info": {
   "codemirror_mode": {
    "name": "ipython",
    "version": 3
   },
   "file_extension": ".py",
   "mimetype": "text/x-python",
   "name": "python",
   "nbconvert_exporter": "python",
   "pygments_lexer": "ipython3",
   "version": "3.7.6"
  }
 },
 "nbformat": 4,
 "nbformat_minor": 4
}
