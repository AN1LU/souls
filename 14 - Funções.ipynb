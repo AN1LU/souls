{
 "cells": [
  {
   "cell_type": "markdown",
   "metadata": {},
   "source": [
    "### 096 - Faça um programa que tenha uma função chamada área(), que receba as dimensões de um terreno retangeular (largura e comprimento) e mostre a área do terreno."
   ]
  },
  {
   "cell_type": "code",
   "execution_count": 2,
   "metadata": {},
   "outputs": [
    {
     "name": "stdout",
     "output_type": "stream",
     "text": [
      "Controle de terrenos\n",
      "--------------------\n",
      "Largura (m): 5\n",
      "Comprimento (m): 6\n",
      "A área de um terreno 5.0 x 6.0 é de 30.0m².\n"
     ]
    }
   ],
   "source": [
    "def area(larg, comp):\n",
    "    a = larg * comp\n",
    "    print(f'A área de um terreno {larg} x {comp} é de {a}m².')\n",
    "    \n",
    "    \n",
    "print(f'Controle de terrenos')\n",
    "print('-'*20)\n",
    "l = float(input('Largura (m): '))\n",
    "c = float(input('Comprimento (m): '))\n",
    "area(l, c)"
   ]
  }
 ],
 "metadata": {
  "kernelspec": {
   "display_name": "Python 3",
   "language": "python",
   "name": "python3"
  },
  "language_info": {
   "codemirror_mode": {
    "name": "ipython",
    "version": 3
   },
   "file_extension": ".py",
   "mimetype": "text/x-python",
   "name": "python",
   "nbconvert_exporter": "python",
   "pygments_lexer": "ipython3",
   "version": "3.7.6"
  }
 },
 "nbformat": 4,
 "nbformat_minor": 4
}
