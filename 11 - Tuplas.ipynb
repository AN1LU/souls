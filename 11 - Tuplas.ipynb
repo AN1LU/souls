{
 "cells": [
  {
   "cell_type": "markdown",
   "metadata": {},
   "source": [
    "### 072 -Crie um programa que tenha uma Tupla totalmente preenchida com uma contagem por extenso de zero até vinte. Seu programa deverá ler um número pelo teclado(entre 0 a 20) e mostra-lo por extenso."
   ]
  },
  {
   "cell_type": "code",
   "execution_count": 6,
   "metadata": {},
   "outputs": [
    {
     "name": "stdout",
     "output_type": "stream",
     "text": [
      "Digite um  entre 0 e 20: 21\n",
      "Tente novamente. Digite um  entre 0 e 20: 1\n",
      "Voce digitou o número um.\n"
     ]
    }
   ],
   "source": [
    "cont = ('zero', 'um', 'dois', 'tres', 'quatro', 'cinco', 'seis', 'sete', 'oito', 'nove', 'dez', 'onze', 'doze', 'treze', 'catorze', 'quinze', 'dezesseis', 'dezessete', 'dezoito', 'dezenove', 'vinte')\n",
    "while True:\n",
    "    num = int(input('Digite um  entre 0 e 20: '))\n",
    "    if 0 <= num <= 20:\n",
    "        break\n",
    "    print('Tente novamente. ', end='')          \n",
    "print(f'Voce digitou o número {cont[num]}.')                 "
   ]
  }
 ],
 "metadata": {
  "kernelspec": {
   "display_name": "Python 3",
   "language": "python",
   "name": "python3"
  },
  "language_info": {
   "codemirror_mode": {
    "name": "ipython",
    "version": 3
   },
   "file_extension": ".py",
   "mimetype": "text/x-python",
   "name": "python",
   "nbconvert_exporter": "python",
   "pygments_lexer": "ipython3",
   "version": "3.7.6"
  }
 },
 "nbformat": 4,
 "nbformat_minor": 4
}
