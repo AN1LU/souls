{
 "cells": [
  {
   "cell_type": "markdown",
   "metadata": {},
   "source": [
    "### 046 - Faça um programa que mostre na tela uma contagem regressiva apra o estouro de fogos de artificios indo de 10 até 0, com um pausa de 1 segundos entre eles."
   ]
  },
  {
   "cell_type": "code",
   "execution_count": 1,
   "metadata": {},
   "outputs": [
    {
     "name": "stdout",
     "output_type": "stream",
     "text": [
      "Contagem Regressiva para fogos: \n",
      "10\n",
      "9\n",
      "8\n",
      "7\n",
      "6\n",
      "5\n",
      "4\n",
      "3\n",
      "2\n",
      "1\n",
      "0\n",
      "Fim\n"
     ]
    }
   ],
   "source": [
    "import time\n",
    "print('Contagem Regressiva para fogos: ')\n",
    "for c in range(10, -1, -1):\n",
    "    print(c)\n",
    "    time.sleep(1)\n",
    "print('Fim')    "
   ]
  },
  {
   "cell_type": "markdown",
   "metadata": {},
   "source": [
    "### 047 - Crie um programa que mostre na tela todos os números pares que estão no intervalo entre 1 e 50"
   ]
  },
  {
   "cell_type": "code",
   "execution_count": 2,
   "metadata": {},
   "outputs": [
    {
     "name": "stdout",
     "output_type": "stream",
     "text": [
      "0\n",
      "2\n",
      "4\n",
      "6\n",
      "8\n",
      "10\n",
      "12\n",
      "14\n",
      "16\n",
      "18\n",
      "20\n",
      "22\n",
      "24\n",
      "26\n",
      "28\n",
      "30\n",
      "32\n",
      "34\n",
      "36\n",
      "38\n",
      "40\n",
      "42\n",
      "44\n",
      "46\n",
      "48\n",
      "50\n",
      "FIM\n"
     ]
    }
   ],
   "source": [
    "for c in range(0,51):\n",
    "    if c % 2 == 0:\n",
    "        print(c)\n",
    "print('FIM')        "
   ]
  },
  {
   "cell_type": "markdown",
   "metadata": {},
   "source": [
    "### 048 - Faça um programa que calcule a soma entre todos os números ímpares que são multiplos de tres e que se encontram no intervalo de 1 até 500."
   ]
  },
  {
   "cell_type": "code",
   "execution_count": 3,
   "metadata": {},
   "outputs": [
    {
     "name": "stdout",
     "output_type": "stream",
     "text": [
      "3 9 15 21 27 33 39 45 51 57 63 69 75 81 87 93 99 105 111 117 123 129 135 141 147 153 159 165 171 177 183 189 195 201 207 213 219 225 231 237 243 249 255 261 267 273 279 285 291 297 303 309 315 321 327 333 339 345 351 357 363 369 375 381 387 393 399 405 411 417 423 429 435 441 447 453 459 465 471 477 483 489 495 20667\n",
      "FIM\n"
     ]
    }
   ],
   "source": [
    "soma = 0\n",
    "for c in range (0,501):\n",
    "    if c % 2 == 1 and c % 3 == 0:\n",
    "        soma += c\n",
    "        # print(c, end=' ')\n",
    "print(soma)\n",
    "print('FIM')"
   ]
  },
  {
   "cell_type": "markdown",
   "metadata": {},
   "source": [
    "### 049 - Refaça o Desafio 9, mostrando a tabuada de um número que o usuario escolher, só que agora utiliziando um laço for."
   ]
  },
  {
   "cell_type": "code",
   "execution_count": 1,
   "metadata": {},
   "outputs": [
    {
     "name": "stdout",
     "output_type": "stream",
     "text": [
      "Digite um número inteiro: 6\n",
      "--------------------\n",
      "6 x 1 = 6\n",
      "6 x 2 = 12\n",
      "6 x 3 = 18\n",
      "6 x 4 = 24\n",
      "6 x 5 = 30\n",
      "6 x 6 = 36\n",
      "6 x 7 = 42\n",
      "6 x 8 = 48\n",
      "6 x 9 = 54\n",
      "6 x 10 = 60\n",
      "FIM\n"
     ]
    }
   ],
   "source": [
    "n = int(input('Digite um número inteiro: '))\n",
    "print('-' *20)\n",
    "for c in range(1, 11):\n",
    "    print('{} x {} = {}' .format(n, c, n*c))\n",
    "    c += 1\n",
    "print('FIM')    "
   ]
  },
  {
   "cell_type": "markdown",
   "metadata": {},
   "source": [
    "### 050 - Desenvolva um programa que leia seis numeros inteiros e mostre a soma apenas daqueles que forem pares. Se o valor digitado for impar, desconsidere-o."
   ]
  },
  {
   "cell_type": "code",
   "execution_count": 1,
   "metadata": {},
   "outputs": [
    {
     "name": "stdout",
     "output_type": "stream",
     "text": [
      "Digite o 1 valor:4\n",
      "Digite o 2 valor:5\n",
      "Digite o 3 valor:6\n",
      "Digite o 4 valor:7\n",
      "Digite o 5 valor:8\n",
      "Digite o 6 valor:9\n",
      "Voce informou 3 números PARES e a soma foi 18.\n"
     ]
    }
   ],
   "source": [
    "soma = 0\n",
    "cont = 0\n",
    "for c in range(1,7):\n",
    "    num = int(input('Digite o {} valor:' .format(c)))\n",
    "    if num % 2 == 0:\n",
    "        soma += num\n",
    "        cont += 1\n",
    "print('Voce informou {} números PARES e a soma foi {}.' .format(cont, soma))        "
   ]
  }
 ],
 "metadata": {
  "kernelspec": {
   "display_name": "Python 3",
   "language": "python",
   "name": "python3"
  },
  "language_info": {
   "codemirror_mode": {
    "name": "ipython",
    "version": 3
   },
   "file_extension": ".py",
   "mimetype": "text/x-python",
   "name": "python",
   "nbconvert_exporter": "python",
   "pygments_lexer": "ipython3",
   "version": "3.7.6"
  }
 },
 "nbformat": 4,
 "nbformat_minor": 4
}
