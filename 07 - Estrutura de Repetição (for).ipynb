{
 "cells": [
  {
   "cell_type": "markdown",
   "metadata": {},
   "source": [
    "### 046 - Faça um programa que mostre na tela uma contagem regressiva apra o estouro de fogos de artificios indo de 10 até 0, com um pausa de 1 segundos entre eles."
   ]
  },
  {
   "cell_type": "code",
   "execution_count": 1,
   "metadata": {},
   "outputs": [
    {
     "name": "stdout",
     "output_type": "stream",
     "text": [
      "Contagem Regressiva para fogos: \n",
      "10\n",
      "9\n",
      "8\n",
      "7\n",
      "6\n",
      "5\n",
      "4\n",
      "3\n",
      "2\n",
      "1\n",
      "0\n",
      "Fim\n"
     ]
    }
   ],
   "source": [
    "import time\n",
    "print('Contagem Regressiva para fogos: ')\n",
    "for c in range(10, -1, -1):\n",
    "    print(c)\n",
    "    time.sleep(1)\n",
    "print('Fim')    "
   ]
  },
  {
   "cell_type": "markdown",
   "metadata": {},
   "source": [
    "### 047 - Crie um programa que mostre na tela todos os números pares que estão no intervalo entre 1 e 50"
   ]
  },
  {
   "cell_type": "code",
   "execution_count": 2,
   "metadata": {},
   "outputs": [
    {
     "name": "stdout",
     "output_type": "stream",
     "text": [
      "0\n",
      "2\n",
      "4\n",
      "6\n",
      "8\n",
      "10\n",
      "12\n",
      "14\n",
      "16\n",
      "18\n",
      "20\n",
      "22\n",
      "24\n",
      "26\n",
      "28\n",
      "30\n",
      "32\n",
      "34\n",
      "36\n",
      "38\n",
      "40\n",
      "42\n",
      "44\n",
      "46\n",
      "48\n",
      "50\n",
      "FIM\n"
     ]
    }
   ],
   "source": [
    "for c in range(0,51):\n",
    "    if c % 2 == 0:\n",
    "        print(c)\n",
    "print('FIM')        "
   ]
  },
  {
   "cell_type": "markdown",
   "metadata": {},
   "source": [
    "### 048 - Faça um programa que calcule a soma entre todos os números ímpares que são multiplos de tres e que se encontram no intervalo de 1 até 500."
   ]
  },
  {
   "cell_type": "code",
   "execution_count": 3,
   "metadata": {},
   "outputs": [
    {
     "name": "stdout",
     "output_type": "stream",
     "text": [
      "3 9 15 21 27 33 39 45 51 57 63 69 75 81 87 93 99 105 111 117 123 129 135 141 147 153 159 165 171 177 183 189 195 201 207 213 219 225 231 237 243 249 255 261 267 273 279 285 291 297 303 309 315 321 327 333 339 345 351 357 363 369 375 381 387 393 399 405 411 417 423 429 435 441 447 453 459 465 471 477 483 489 495 20667\n",
      "FIM\n"
     ]
    }
   ],
   "source": [
    "soma = 0\n",
    "for c in range (0,501):\n",
    "    if c % 2 == 1 and c % 3 == 0:\n",
    "        soma += c\n",
    "        # print(c, end=' ')\n",
    "print(soma)\n",
    "print('FIM')"
   ]
  },
  {
   "cell_type": "markdown",
   "metadata": {},
   "source": [
    "### 049 - Refaça o Desafio 9, mostrando a tabuada de um número que o usuario escolher, só que agora utiliziando um laço for."
   ]
  },
  {
   "cell_type": "code",
   "execution_count": 1,
   "metadata": {},
   "outputs": [
    {
     "name": "stdout",
     "output_type": "stream",
     "text": [
      "Digite um número inteiro: 6\n",
      "--------------------\n",
      "6 x 1 = 6\n",
      "6 x 2 = 12\n",
      "6 x 3 = 18\n",
      "6 x 4 = 24\n",
      "6 x 5 = 30\n",
      "6 x 6 = 36\n",
      "6 x 7 = 42\n",
      "6 x 8 = 48\n",
      "6 x 9 = 54\n",
      "6 x 10 = 60\n",
      "FIM\n"
     ]
    }
   ],
   "source": [
    "n = int(input('Digite um número inteiro: '))\n",
    "print('-' *20)\n",
    "for c in range(1, 11):\n",
    "    print('{} x {} = {}' .format(n, c, n*c))\n",
    "    c += 1\n",
    "print('FIM')    "
   ]
  },
  {
   "cell_type": "markdown",
   "metadata": {},
   "source": [
    "### 050 - Desenvolva um programa que leia seis numeros inteiros e mostre a soma apenas daqueles que forem pares. Se o valor digitado for impar, desconsidere-o."
   ]
  },
  {
   "cell_type": "code",
   "execution_count": 1,
   "metadata": {},
   "outputs": [
    {
     "name": "stdout",
     "output_type": "stream",
     "text": [
      "Digite o 1 valor:4\n",
      "Digite o 2 valor:5\n",
      "Digite o 3 valor:6\n",
      "Digite o 4 valor:7\n",
      "Digite o 5 valor:8\n",
      "Digite o 6 valor:9\n",
      "Voce informou 3 números PARES e a soma foi 18.\n"
     ]
    }
   ],
   "source": [
    "soma = 0\n",
    "cont = 0\n",
    "for c in range(1,7):\n",
    "    num = int(input('Digite o {} valor:' .format(c)))\n",
    "    if num % 2 == 0:\n",
    "        soma += num\n",
    "        cont += 1\n",
    "print('Voce informou {} números PARES e a soma foi {}.' .format(cont, soma))        "
   ]
  },
  {
   "cell_type": "markdown",
   "metadata": {},
   "source": [
    "### 051 - Desenvolva um programa que leia o primeiro termo e a razão de uma PA. No final mostre os 10 primeiros termos dessa progressão."
   ]
  },
  {
   "cell_type": "code",
   "execution_count": 1,
   "metadata": {},
   "outputs": [
    {
     "name": "stdout",
     "output_type": "stream",
     "text": [
      "Primeiro termo: 10\n",
      "Razão: 5\n",
      "10 - 15 - 20 - 25 - 30 - 35 - 40 - 45 - 50 - 55 - Acabou.\n"
     ]
    }
   ],
   "source": [
    "primeiro = int(input('Primeiro termo: '))\n",
    "razao = int(input('Razão: '))\n",
    "decimo = primeiro + (10 - 1) * razao\n",
    "for c in range(primeiro, decimo + razao, razao):\n",
    "    print('{} ' .format(c), end=\"- \")\n",
    "print('Acabou.')    "
   ]
  },
  {
   "cell_type": "markdown",
   "metadata": {},
   "source": [
    "### 052 - Faça um programa que leia um número inteiro e diga se ele é  ou não um número Primo"
   ]
  },
  {
   "cell_type": "code",
   "execution_count": 4,
   "metadata": {},
   "outputs": [
    {
     "name": "stdout",
     "output_type": "stream",
     "text": [
      "Digite um número inteiro: 13\n",
      "1 13 \n",
      "\u001b[m0 número 13 foi divisivel 2 vezes.\n",
      "Este é um número PRIMO\n"
     ]
    }
   ],
   "source": [
    "num = int(input('Digite um número inteiro: '))\n",
    "total = 0\n",
    "for c in range(1, num+1):\n",
    "    if num % c == 0:\n",
    "        print('{} ' .format(c), end='')\n",
    "        total += 1\n",
    "        \n",
    "print('\\n\\033[m0 número {} foi divisivel {} vezes.' .format(num, total))\n",
    "if total == 2:\n",
    "    print('Este é um número PRIMO')\n",
    "else:\n",
    "    print('Este número NÃO é PRIMO')"
   ]
  },
  {
   "cell_type": "markdown",
   "metadata": {},
   "source": [
    "### 053 - Crie um programa que leia uma frase qualquer e diga se ela é um palíndromo, desconsiderando os espações"
   ]
  },
  {
   "cell_type": "code",
   "execution_count": 5,
   "metadata": {},
   "outputs": [
    {
     "name": "stdout",
     "output_type": "stream",
     "text": [
      "Digite uma frase: Acasacaiu\n",
      "O inverso de ACASACAIU é UIACASACA.\n",
      "A frase digitada não é um palíndromo.\n"
     ]
    }
   ],
   "source": [
    "frase = str(input('Digite uma frase: ')).strip().upper()\n",
    "palavras = frase.split() # quebra a frase em uma lista de palavras\n",
    "junto = ''.join(palavras) # juntou a frase inteira eliminando espaços\n",
    "inverso = ''\n",
    "for letra in range(len(junto) - 1, - 1, - 1): # len faz a contagem de letras ex: 20 letras -1 = 19 / primeira letra está na posição zero por isso tem que chegar até -1 / -1 ordem crescente\n",
    "   inverso += junto[letra] # inverso recebeu cada letra de juto na ordem contraria.\n",
    "print('O inverso de {} é {}.' .format(junto, inverso))\n",
    "if inverso == junto:\n",
    "    print('Temos um palíndromo.')\n",
    "else:\n",
    "    print('A frase digitada não é um palíndromo.')"
   ]
  },
  {
   "cell_type": "markdown",
   "metadata": {},
   "source": [
    "### 054 - Crie um programa que leia o ano de nascimento de sete pessoas. No final, mostre quantas pessoas ainda não atingiram a maioridade e quantas já são maiores."
   ]
  },
  {
   "cell_type": "code",
   "execution_count": 2,
   "metadata": {},
   "outputs": [
    {
     "name": "stdout",
     "output_type": "stream",
     "text": [
      "Em que ano a 1º pessoa nasceu? 1990\n",
      "Essa pessoa tem 30 naos. \n",
      "Em que ano a 2º pessoa nasceu? 2010\n",
      "Essa pessoa tem 10 naos. \n",
      "Em que ano a 3º pessoa nasceu? 2984\n",
      "Essa pessoa tem -964 naos. \n",
      "Em que ano a 4º pessoa nasceu? 1984\n",
      "Essa pessoa tem 36 naos. \n",
      "Em que ano a 5º pessoa nasceu? 1200\n",
      "Essa pessoa tem 820 naos. \n",
      "Em que ano a 6º pessoa nasceu? 1942\n",
      "Essa pessoa tem 78 naos. \n",
      "Em que ano a 7º pessoa nasceu? 1000\n",
      "Essa pessoa tem 1020 naos. \n",
      "Ao todo tivemos 5 pessoas maiores de idade.\n",
      "E tambem tivemos 2 pessoas menores de idade.\n"
     ]
    }
   ],
   "source": [
    "from datetime import date\n",
    "atual = date.today().year\n",
    "cmenor = cmaior = 0\n",
    "for (c) in range(1,8):\n",
    "    nasc = int(input('Em que ano a {}º pessoa nasceu? ' .format(c)))\n",
    "    idade = atual - nasc\n",
    "    print('Essa pessoa tem {} naos. ' .format(idade))\n",
    "    if idade >= 21:\n",
    "        cmaior += 1\n",
    "    else:\n",
    "        cmenor += 1\n",
    "print('Ao todo tivemos {} pessoas maiores de idade.' .format(cmaior)) \n",
    "print('E tambem tivemos {} pessoas menores de idade.' .format(cmenor))"
   ]
  },
  {
   "cell_type": "markdown",
   "metadata": {},
   "source": [
    "### 055 - faça um programa que leia o peso de cinco pessoas. No final, mostre qual foi o maior e o menor peso lidos:"
   ]
  },
  {
   "cell_type": "code",
   "execution_count": 4,
   "metadata": {},
   "outputs": [
    {
     "name": "stdout",
     "output_type": "stream",
     "text": [
      "Peso da 1º pessoa: 56\n",
      "Peso da 2º pessoa: 87\n",
      "Peso da 3º pessoa: 45\n",
      "Peso da 4º pessoa: 99\n",
      "Peso da 5º pessoa: 88\n",
      "O maior peso lido foi de 99.0kg\n",
      "O menor peso lido foi de 45.0kg\n"
     ]
    }
   ],
   "source": [
    "maior = 0\n",
    "menor = 0\n",
    "for p in range(1,6):\n",
    "    peso = float(input('Peso da {}º pessoa: ' .format(p)))\n",
    "    if p == 1:\n",
    "        maior = peso\n",
    "        menor = peso\n",
    "    else:\n",
    "        if peso > maior:\n",
    "            maior = peso\n",
    "        if peso < menor: menor = peso\n",
    "print('O maior peso lido foi de {}kg' .format(maior))    \n",
    "print('O menor peso lido foi de {}kg' .format(menor)) "
   ]
  },
  {
   "cell_type": "markdown",
   "metadata": {},
   "source": [
    "### 056 - Desenvolva um programa que leia o nome, idade e sexo de 4 pessoas. No final do programa, mostre:\n",
    "* A média de idade do grupo.\n",
    "* Qual é o nome do homem mais velho.\n",
    "* Quantas mulheres tem menos de 20 anos."
   ]
  },
  {
   "cell_type": "code",
   "execution_count": 5,
   "metadata": {},
   "outputs": [
    {
     "name": "stdout",
     "output_type": "stream",
     "text": [
      "----- 1º PESSOA ------\n",
      "Nome: Ana\n",
      "Idade: 19\n",
      "Sexo: [M/F]: F\n",
      "----- 2º PESSOA ------\n",
      "Nome: Carlos\n",
      "Idade: 75\n",
      "Sexo: [M/F]: M\n",
      "----- 3º PESSOA ------\n",
      "Nome: Paula\n",
      "Idade: 25\n",
      "Sexo: [M/F]: F\n",
      "----- 4º PESSOA ------\n",
      "Nome: Mario\n",
      "Idade: 12\n",
      "Sexo: [M/F]: M\n",
      "A média de idade do grupo é de 32.75 anos.\n",
      "O homem mais velho tem 75 anos e se chama Carlos.\n",
      "Existem 1 mulheres com menos de 20 anos.\n"
     ]
    }
   ],
   "source": [
    "somaidade = 0\n",
    "mediaidade = 0\n",
    "maioridadehomem = 0\n",
    "nomevelho = ''\n",
    "totalmulher20 = 0\n",
    "for p in range(1,5):\n",
    "    print('----- {}º PESSOA ------' .format(p))\n",
    "    nome = str(input('Nome: ')).strip()\n",
    "    idade = int(input('Idade: '))\n",
    "    sexo = str(input('Sexo: [M/F]: ')).strip()\n",
    "    somaidade += idade\n",
    "    if p == 1 and sexo in 'Mm':\n",
    "        maioridadehomem = idade\n",
    "        nomevelho = nome\n",
    "    if sexo in 'Mm' and idade > maioridadehomem:\n",
    "            maioridadehomem = idade\n",
    "            nomevelho = nome\n",
    "    if sexo in 'Ff' and idade < 20:\n",
    "        totalmulher20 += 1\n",
    "\n",
    "mediaidade = somaidade/4\n",
    "print(f'A média de idade do grupo é de {mediaidade} anos.')\n",
    "print('O homem mais velho tem {} anos e se chama {}.' .format(maioridadehomem, nomevelho))\n",
    "print('Existem {} mulheres com menos de 20 anos.' .format(totalmulher20))"
   ]
  }
 ],
 "metadata": {
  "kernelspec": {
   "display_name": "Python 3",
   "language": "python",
   "name": "python3"
  },
  "language_info": {
   "codemirror_mode": {
    "name": "ipython",
    "version": 3
   },
   "file_extension": ".py",
   "mimetype": "text/x-python",
   "name": "python",
   "nbconvert_exporter": "python",
   "pygments_lexer": "ipython3",
   "version": "3.7.6"
  }
 },
 "nbformat": 4,
 "nbformat_minor": 4
}
