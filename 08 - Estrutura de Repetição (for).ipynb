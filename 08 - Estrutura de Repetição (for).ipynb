{
 "cells": [
  {
   "cell_type": "markdown",
   "metadata": {},
   "source": [
    "### 046 - Faça um programa que mostre na tela uma contagem regressiva apra o estouro de fogos de artificios indo de 10 até 0, com um pausa de 1 segundos entre eles."
   ]
  },
  {
   "cell_type": "code",
   "execution_count": 1,
   "metadata": {},
   "outputs": [
    {
     "name": "stdout",
     "output_type": "stream",
     "text": [
      "Contagem Regressiva para fogos: \n",
      "10\n",
      "9\n",
      "8\n",
      "7\n",
      "6\n",
      "5\n",
      "4\n",
      "3\n",
      "2\n",
      "1\n",
      "0\n",
      "Fim\n"
     ]
    }
   ],
   "source": [
    "import time\n",
    "print('Contagem Regressiva para fogos: ')\n",
    "for c in range(10, -1, -1):\n",
    "    print(c)\n",
    "    time.sleep(1)\n",
    "print('Fim')    "
   ]
  }
 ],
 "metadata": {
  "kernelspec": {
   "display_name": "Python 3",
   "language": "python",
   "name": "python3"
  },
  "language_info": {
   "codemirror_mode": {
    "name": "ipython",
    "version": 3
   },
   "file_extension": ".py",
   "mimetype": "text/x-python",
   "name": "python",
   "nbconvert_exporter": "python",
   "pygments_lexer": "ipython3",
   "version": "3.7.6"
  }
 },
 "nbformat": 4,
 "nbformat_minor": 4
}
