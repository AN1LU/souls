{
 "cells": [
  {
   "cell_type": "markdown",
   "metadata": {},
   "source": [
    "### 090 - Faça um programa que leia nome e média de um aluno, guardando tambem a situação em um dicionario. No final, mostre o conteudo da estrutura na tela."
   ]
  },
  {
   "cell_type": "code",
   "execution_count": 1,
   "metadata": {},
   "outputs": [
    {
     "name": "stdout",
     "output_type": "stream",
     "text": [
      "Nome: Pedro\n",
      "Média de Pedro 7.5\n",
      "{'nome': 'Pedro', 'média': 7.5, 'situação': 'Aprovado'}\n",
      "-=-=-=-=-=-=-=-=-=-=-=-=-=-=-=-=-=-=-=-=-=-=-=-=-=-=-=-=-=-=\n",
      " - nome é igual a Pedro\n",
      " - média é igual a 7.5\n",
      " - situação é igual a Aprovado\n"
     ]
    }
   ],
   "source": [
    "aluno = {}\n",
    "aluno['nome'] = str(input('Nome: '))\n",
    "aluno['média'] = float(input(f'Média de {aluno[\"nome\"]} '))\n",
    "if aluno['média'] >= 7:\n",
    "    aluno['situação'] = 'Aprovado'\n",
    "elif 5 <= aluno['média'] < 7:\n",
    "    aluno['situação'] = 'Recuperação'\n",
    "else:\n",
    "    aluno['situação'] = 'Reprovado'\n",
    "print(aluno)\n",
    "print('-='*30)\n",
    "for k,v in aluno.items():\n",
    "    print(f' - {k} é igual a {v}')\n",
    "    "
   ]
  }
 ],
 "metadata": {
  "kernelspec": {
   "display_name": "Python 3",
   "language": "python",
   "name": "python3"
  },
  "language_info": {
   "codemirror_mode": {
    "name": "ipython",
    "version": 3
   },
   "file_extension": ".py",
   "mimetype": "text/x-python",
   "name": "python",
   "nbconvert_exporter": "python",
   "pygments_lexer": "ipython3",
   "version": "3.7.6"
  }
 },
 "nbformat": 4,
 "nbformat_minor": 4
}
