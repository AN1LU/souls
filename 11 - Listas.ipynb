{
 "cells": [
  {
   "cell_type": "markdown",
   "metadata": {},
   "source": [
    "### 078 - Faça um programa que leia 5 valores numéricos e guarde-os em um lista. No final, mostre qual foi o maior e o menor valor digitado e as suas respectivas posições na lista"
   ]
  },
  {
   "cell_type": "code",
   "execution_count": 2,
   "metadata": {},
   "outputs": [
    {
     "name": "stdout",
     "output_type": "stream",
     "text": [
      "Digite um valor para a posição 0: 4\n",
      "Digite um valor para a posição 1: 3\n",
      "Digite um valor para a posição 2: 6\n",
      "Digite um valor para a posição 3: 7\n",
      "Digite um valor para a posição 4: 8\n",
      "Voce digitou os valores [4, 3, 6, 7, 8]\n",
      "O maior valor digitado foi 8 nas posições 4...\n",
      "O menor valor digitado foi 3 nas posições 1...\n"
     ]
    }
   ],
   "source": [
    "valores = []\n",
    "maior = menor = 0\n",
    "for c in range(0,5):\n",
    "    valores.append(int(input(f'Digite um valor para a posição {c}: ')))\n",
    "    if c == 0:\n",
    "        maior = menor = valores[c]\n",
    "    else:\n",
    "         if valores[c] > maior:\n",
    "            maior = valores[c]\n",
    "         if valores[c] < menor:\n",
    "            menor = valores[c]\n",
    "print(f'Voce digitou os valores {valores}')            \n",
    "print(f'O maior valor digitado foi {maior} nas posições ', end='')\n",
    "for i, v in enumerate(valores):\n",
    "    if v == maior:\n",
    "        print(f'{i}...', end='')\n",
    "print()\n",
    "print(f'O menor valor digitado foi {menor} nas posições ', end='')\n",
    "for i, v in enumerate(valores):\n",
    "    if v == menor:\n",
    "        print(f'{i}...', end='')\n",
    "print()        "
   ]
  },
  {
   "cell_type": "markdown",
   "metadata": {},
   "source": [
    "### 079 - Crie um programa onde o usuário possa digitar vários valores numéricos e cadastre-os em uma lista. Caso o número já exista la dentro, ele não será adicionado. No final, serão exibidos todos os valores únicos digitados, em ordem crescente."
   ]
  },
  {
   "cell_type": "code",
   "execution_count": 4,
   "metadata": {},
   "outputs": [
    {
     "name": "stdout",
     "output_type": "stream",
     "text": [
      "Digite um valor: 34\n",
      "Valor adicionado com sucesso...\n",
      "Quer continuar? [S/N] s\n",
      "Digite um valor: 1\n",
      "Valor adicionado com sucesso...\n",
      "Quer continuar? [S/N] s\n",
      "Digite um valor: 67\n",
      "Valor adicionado com sucesso...\n",
      "Quer continuar? [S/N] s\n",
      "Digite um valor: 2\n",
      "Valor adicionado com sucesso...\n",
      "Quer continuar? [S/N] s\n",
      "Digite um valor: 78\n",
      "Valor adicionado com sucesso...\n",
      "Quer continuar? [S/N] N\n",
      "Voce digitou os valores[1, 2, 34, 67, 78]\n"
     ]
    }
   ],
   "source": [
    "numeros = list()\n",
    "while True:\n",
    "    n = int(input('Digite um valor: '))\n",
    "    if n not in numeros:\n",
    "        numeros.append(n)\n",
    "        print('Valor adicionado com sucesso...')\n",
    "    else:\n",
    "        print('Valor duplicado. Não vou adicionar...')\n",
    "    r = str(input('Quer continuar? [S/N] '))\n",
    "    if r in 'Nn':\n",
    "        break\n",
    "print(f'Voce digitou os valores{sorted(numeros)}')    "
   ]
  },
  {
   "cell_type": "markdown",
   "metadata": {},
   "source": [
    "### 080 Crie um programa onde o usuario possa digitar cinco valores numéricos e cadastre-os em uma lista. já na posição correta de inserção(sem usar o sort()). No final, mostre a lista ordenada na tela."
   ]
  },
  {
   "cell_type": "code",
   "execution_count": 3,
   "metadata": {},
   "outputs": [
    {
     "name": "stdout",
     "output_type": "stream",
     "text": [
      "Digite um valor: 7\n",
      "Adiconando ao final da lista...\n",
      "Digite um valor: 4\n",
      "Adiconando na posição 0 da lista...\n",
      "Digite um valor: 3\n",
      "Adiconando na posição 0 da lista...\n",
      "Digite um valor: 6\n",
      "Adiconando na posição 2 da lista...\n",
      "Digite um valor: 5\n",
      "Adiconando na posição 2 da lista...\n",
      "-=-=-=-=-=-=-=-=-=-=-=-=-=-=-=-=-=-=-=-=-=-=-=-=-=-=-=-=-=-=\n",
      "Os valores digitados em ordem foram [3, 4, 5, 6, 7]\n"
     ]
    }
   ],
   "source": [
    "lista = []\n",
    "for c in range(0,5):\n",
    "    n = int(input('Digite um valor: '))\n",
    "    if c == 0 or n > lista[-1]: #primeiro número ou maior que o ultimo elemento da lista\n",
    "        lista.append(n)\n",
    "        print('Adiconando ao final da lista...')\n",
    "    else:\n",
    "        pos = 0\n",
    "        while pos < len(lista): # vai percorrer da posição até o final da lista\n",
    "            if n <= lista[pos]:\n",
    "                lista.insert(pos, n)\n",
    "                print(f'Adiconando na posição {pos} da lista...')\n",
    "                break\n",
    "            pos += 1\n",
    "print('-=' * 30)\n",
    "print(f'Os valores digitados em ordem foram {lista}')"
   ]
  },
  {
   "cell_type": "markdown",
   "metadata": {},
   "source": [
    "### 081 -  Crie um programa que vai ler vários números e colcoar em uma lista. Depois disso. mostre:\n",
    "* Quantos números foram digitados.\n",
    "* A lista de valores, ordenada de forma descrescente.\n",
    "* Se o valor 5 foi digitado e está ou não na lista."
   ]
  },
  {
   "cell_type": "code",
   "execution_count": 1,
   "metadata": {},
   "outputs": [
    {
     "name": "stdout",
     "output_type": "stream",
     "text": [
      "Digite um valor: 5\n",
      "Quer continuar? [S/N]S\n",
      "Digite um valor: 7\n",
      "Quer continuar? [S/N]s\n",
      "Digite um valor: 8\n",
      "Quer continuar? [S/N]n\n",
      "-=-=-=-=-=-=-=-=-=-=-=-=-=-=-=-=-=-=-=-=-=-=-=-=-=-=-=-=-=-=\n",
      "[5, 7, 8]\n",
      "Foram digitrados no total 3\n",
      "Valores na ordem decrescente [8, 7, 5]\n",
      "Valor 5 foi digitado na lista\n"
     ]
    }
   ],
   "source": [
    "valores = list()\n",
    "while True:\n",
    "    valores.append(int(input('Digite um valor: ')))\n",
    "    r = str(input('Quer continuar? [S/N]'))\n",
    "    if r in 'Nn':\n",
    "        break\n",
    "print('-=' * 30)\n",
    "print(valores)\n",
    "print(f'Foram digitados no total {len(valores)}')\n",
    "valores.sort(reverse=True)\n",
    "print(f'Valores na ordem decrescente {valores}')\n",
    "if 5 in valores:\n",
    "    print(f'Valor 5 foi digitado na lista')\n",
    "else:\n",
    "    print(f'O valor 5 NÃO foi digitado na lista')\n"
   ]
  },
  {
   "cell_type": "markdown",
   "metadata": {},
   "source": [
    "### 082 - Crie um programa que vai ler cários números e colocar em uma lista. Depois disso, crie duas listas extras que vão conter apenas os valores pares e os valores impares digitados, respectivamente. Ao final, mostre o conteudo das tres listas geradas."
   ]
  },
  {
   "cell_type": "code",
   "execution_count": 1,
   "metadata": {},
   "outputs": [
    {
     "name": "stdout",
     "output_type": "stream",
     "text": [
      "Digite um número: 2\n",
      "Quer continuar? [S/N] s\n",
      "Digite um número: 3\n",
      "Quer continuar? [S/N] s\n",
      "Digite um número: 5\n",
      "Quer continuar? [S/N] s\n",
      "Digite um número: 6\n",
      "Quer continuar? [S/N] s\n",
      "Digite um número: 8\n",
      "Quer continuar? [S/N] s\n",
      "Digite um número: 9\n",
      "Quer continuar? [S/N] s\n",
      "Digite um número: 11\n",
      "Quer continuar? [S/N] s\n",
      "Digite um número: 12\n",
      "Quer continuar? [S/N] n\n",
      "A lista completa é [2, 3, 5, 6, 8, 9, 11, 12]\n",
      "A lista de pares é [2, 6, 8, 12]\n",
      "A lista de ímpares é [3, 5, 9, 11]\n"
     ]
    }
   ],
   "source": [
    "lista = []\n",
    "pares = []\n",
    "impares = []\n",
    "while True:\n",
    "    lista.append(int(input('Digite um número: ')))\n",
    "    resp = str(input('Quer continuar? [S/N] '))\n",
    "    if resp in 'Nn':\n",
    "        break\n",
    "for i, v in enumerate(lista):\n",
    "    if v % 2 == 0:\n",
    "        pares.append(v)\n",
    "    elif v % 2 == 1:\n",
    "        impares.append(v)\n",
    "print(f'A lista completa é {lista}')\n",
    "print(f'A lista de pares é {pares}')\n",
    "print(f'A lista de ímpares é {impares}')"
   ]
  },
  {
   "cell_type": "markdown",
   "metadata": {},
   "source": [
    "### 083 - Crie um programa onde o usuário digite uma expressão qualquer que use parenteses. Seu aplicativo deverá analisar se a expressão passada está com os parenteses abertos e fechados na ordem correta."
   ]
  },
  {
   "cell_type": "code",
   "execution_count": 4,
   "metadata": {},
   "outputs": [
    {
     "name": "stdout",
     "output_type": "stream",
     "text": [
      "Digite a expressão (a+b)(a(4+3)*2)(c)\n",
      "Sua expressão está válida!\n"
     ]
    }
   ],
   "source": [
    "expr = str(input('Digite a expressão '))\n",
    "pilha = []\n",
    "for simb in expr:\n",
    "    if simb == '(':\n",
    "        pilha.append( '(' )\n",
    "    elif simb == ')':\n",
    "        if len(pilha) > 0:\n",
    "            pilha.pop() # pop = remove o ultimo elemento de uma lista\n",
    "        else:\n",
    "            pilha.append( ')' )\n",
    "            break\n",
    "if len(pilha) == 0:\n",
    "      print('Sua expressão está válida!')\n",
    "else:\n",
    "    print('Sua expressão está errada')"
   ]
  },
  {
   "cell_type": "code",
   "execution_count": null,
   "metadata": {},
   "outputs": [],
   "source": []
  }
 ],
 "metadata": {
  "kernelspec": {
   "display_name": "Python 3",
   "language": "python",
   "name": "python3"
  },
  "language_info": {
   "codemirror_mode": {
    "name": "ipython",
    "version": 3
   },
   "file_extension": ".py",
   "mimetype": "text/x-python",
   "name": "python",
   "nbconvert_exporter": "python",
   "pygments_lexer": "ipython3",
   "version": "3.7.6"
  }
 },
 "nbformat": 4,
 "nbformat_minor": 4
}
