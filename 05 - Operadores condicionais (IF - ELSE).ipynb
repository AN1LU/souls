{
 "cells": [
  {
   "cell_type": "markdown",
   "metadata": {},
   "source": [
    "### 028 -Escreva um programa que faça o computador \"pensar\" em um número inteiro entre 0 e 5 e peça para o usuario tentar descobrir qual foi o numero escolhido pelo computador. O Programa devera escrever na tela se o usuario venceu ou perdeu."
   ]
  },
  {
   "cell_type": "code",
   "execution_count": 2,
   "metadata": {},
   "outputs": [
    {
     "name": "stdout",
     "output_type": "stream",
     "text": [
      "-=--=--=--=--=--=--=--=--=--=--=--=--=--=--=--=--=--=--=--=-\n",
      "Vou pensar em um número entre 0 e 5. Tente adivinhar...\n",
      "-=--=--=--=--=--=--=--=--=--=--=--=--=--=--=--=--=--=--=--=-\n",
      "Em que número eu pensei? 3\n",
      "Ganhei! eu pensei no número 0 e não no 3\n"
     ]
    }
   ],
   "source": [
    "import random\n",
    "computador = random.randint(0,5)\n",
    "print('-=-' *20)\n",
    "print('Vou pensar em um número entre 0 e 5. Tente adivinhar...')\n",
    "print('-=-' *20)\n",
    "jogador = int(input('Em que número eu pensei? '))\n",
    "if computador == jogador:\n",
    "    print('Parabens Acertou')\n",
    "else:\n",
    "    print('Ganhei! eu pensei no número {} e não no {}' .format(computador,jogador))\n",
    "        \n",
    "        "
   ]
  },
  {
   "cell_type": "markdown",
   "metadata": {},
   "source": [
    "### 029 - Escreva um programa que leia a velocidade de um carro. Se ele ultrapassar 80km/h, mostre uma mensagem dizendo que foi multado. A multa vai custar 7,00 por cada KM acima do limite."
   ]
  },
  {
   "cell_type": "code",
   "execution_count": 2,
   "metadata": {},
   "outputs": [
    {
     "name": "stdout",
     "output_type": "stream",
     "text": [
      "Qual é a velocidade atrual do carro? 120\n",
      "Voce foi multado em  280.0\n"
     ]
    }
   ],
   "source": [
    "velocidade = float(input('Qual é a velocidade atrual do carro? '))\n",
    "multa = 0\n",
    "if velocidade <= 80:\n",
    "    print('Tenha um bom dia! Dirija com segurança.')\n",
    "else:\n",
    "    multa = multa + (velocidade - 80) * 7\n",
    "    print('Voce foi multado em  {}' .format(multa))"
   ]
  },
  {
   "cell_type": "markdown",
   "metadata": {},
   "source": [
    "### 030 - Crie um programa que leia um número inteiro e mostre na tela se ele é PAR ou IMPAR."
   ]
  },
  {
   "cell_type": "code",
   "execution_count": 2,
   "metadata": {},
   "outputs": [
    {
     "name": "stdout",
     "output_type": "stream",
     "text": [
      "Digite um número qualquer: 2367890\n",
      "O número 2367890 é par\n"
     ]
    }
   ],
   "source": [
    "num = int(input('Digite um número qualquer: '))\n",
    "resultado = num % 2\n",
    "if resultado == 0:\n",
    "    print('O número {} é par' .format(num))\n",
    "else:\n",
    "    print('O número {} é ímpar' .format(num))"
   ]
  }
 ],
 "metadata": {
  "kernelspec": {
   "display_name": "Python 3",
   "language": "python",
   "name": "python3"
  },
  "language_info": {
   "codemirror_mode": {
    "name": "ipython",
    "version": 3
   },
   "file_extension": ".py",
   "mimetype": "text/x-python",
   "name": "python",
   "nbconvert_exporter": "python",
   "pygments_lexer": "ipython3",
   "version": "3.7.6"
  }
 },
 "nbformat": 4,
 "nbformat_minor": 4
}
