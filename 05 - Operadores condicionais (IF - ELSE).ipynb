{
 "cells": [
  {
   "cell_type": "markdown",
   "metadata": {},
   "source": [
    "### 028 -Escreva um programa que faça o computador \"pensar\" em um número inteiro entre 0 e 5 e peça para o usuario tentar descobrir qual foi o numero escolhido pelo computador. O Programa devera escrever na tela se o usuario venceu ou perdeu."
   ]
  },
  {
   "cell_type": "code",
   "execution_count": 2,
   "metadata": {},
   "outputs": [
    {
     "name": "stdout",
     "output_type": "stream",
     "text": [
      "-=--=--=--=--=--=--=--=--=--=--=--=--=--=--=--=--=--=--=--=-\n",
      "Vou pensar em um número entre 0 e 5. Tente adivinhar...\n",
      "-=--=--=--=--=--=--=--=--=--=--=--=--=--=--=--=--=--=--=--=-\n",
      "Em que número eu pensei? 3\n",
      "Ganhei! eu pensei no número 0 e não no 3\n"
     ]
    }
   ],
   "source": [
    "import random\n",
    "computador = random.randint(0,5)\n",
    "print('-=-' *20)\n",
    "print('Vou pensar em um número entre 0 e 5. Tente adivinhar...')\n",
    "print('-=-' *20)\n",
    "jogador = int(input('Em que número eu pensei? '))\n",
    "if computador == jogador:\n",
    "    print('Parabens Acertou')\n",
    "else:\n",
    "    print('Ganhei! eu pensei no número {} e não no {}' .format(computador,jogador))\n",
    "        \n",
    "        "
   ]
  },
  {
   "cell_type": "markdown",
   "metadata": {},
   "source": [
    "### 029 - Escreva um programa que leia a velocidade de um carro. Se ele ultrapassar 80km/h, mostre uma mensagem dizendo que foi multado. A multa vai custar 7,00 por cada KM acima do limite."
   ]
  },
  {
   "cell_type": "code",
   "execution_count": 2,
   "metadata": {},
   "outputs": [
    {
     "name": "stdout",
     "output_type": "stream",
     "text": [
      "Qual é a velocidade atrual do carro? 120\n",
      "Voce foi multado em  280.0\n"
     ]
    }
   ],
   "source": [
    "velocidade = float(input('Qual é a velocidade atrual do carro? '))\n",
    "multa = 0\n",
    "if velocidade <= 80:\n",
    "    print('Tenha um bom dia! Dirija com segurança.')\n",
    "else:\n",
    "    multa = multa + (velocidade - 80) * 7\n",
    "    print('Voce foi multado em  {}' .format(multa))"
   ]
  },
  {
   "cell_type": "markdown",
   "metadata": {},
   "source": [
    "### 030 - Crie um programa que leia um número inteiro e mostre na tela se ele é PAR ou IMPAR."
   ]
  },
  {
   "cell_type": "code",
   "execution_count": 2,
   "metadata": {},
   "outputs": [
    {
     "name": "stdout",
     "output_type": "stream",
     "text": [
      "Digite um número qualquer: 2367890\n",
      "O número 2367890 é par\n"
     ]
    }
   ],
   "source": [
    "num = int(input('Digite um número qualquer: '))\n",
    "resultado = num % 2\n",
    "if resultado == 0:\n",
    "    print('O número {} é par' .format(num))\n",
    "else:\n",
    "    print('O número {} é ímpar' .format(num))"
   ]
  },
  {
   "cell_type": "markdown",
   "metadata": {},
   "source": [
    "### 031- Desenvolva um programa que pergunte a distancia de uma viagem em KM. Calcule o preço da passagem. cobrando 0,50 por KM para viagens até 200Km e 0,45 para viagens mais longas."
   ]
  },
  {
   "cell_type": "code",
   "execution_count": 3,
   "metadata": {},
   "outputs": [
    {
     "name": "stdout",
     "output_type": "stream",
     "text": [
      "Digite a distacia de viagem: 201\n",
      "O preço total da passagem é 90.45\n"
     ]
    }
   ],
   "source": [
    "distancia = float(input('Digite a distacia de viagem: '))\n",
    "if distancia <= 200:\n",
    "    preco = distancia * 0.50\n",
    "    print('O preço total da passagem é {}' .format(preco))\n",
    "else:\n",
    "    preco = distancia * 0.45\n",
    "    print('O preço total da passagem é {}' .format(preco))"
   ]
  },
  {
   "cell_type": "markdown",
   "metadata": {},
   "source": [
    "### 032 - Faça um programa que leia um ano qualquer e mostre se ele é Bissexto."
   ]
  },
  {
   "cell_type": "code",
   "execution_count": 3,
   "metadata": {},
   "outputs": [
    {
     "name": "stdout",
     "output_type": "stream",
     "text": [
      "Digite um ano: 1996\n",
      "O ano 1996 é Bissexto.\n"
     ]
    }
   ],
   "source": [
    "from datetime import date\n",
    "ano = int(input('Digite um ano: '))\n",
    "if ano == 0:\n",
    "    ano = date.today().year\n",
    "if ano % 4 == 0 and ano % 100 != 0 or ano % 4== 0:\n",
    "    print('O ano {} é Bissexto.' .format(ano))\n",
    "else:\n",
    "    print('O ano {} NÃO é Bissexto.' .format(ano))"
   ]
  },
  {
   "cell_type": "markdown",
   "metadata": {},
   "source": [
    "### 033 - Faça um programa que leia tres numeros e mostre qual é o maior e qual é o menor."
   ]
  },
  {
   "cell_type": "code",
   "execution_count": 4,
   "metadata": {},
   "outputs": [
    {
     "name": "stdout",
     "output_type": "stream",
     "text": [
      "Primeiro Valor: 45\n",
      "Primeiro Valor: 1\n",
      "Primeiro Valor: 99\n",
      "O menor valor digitado foi 1.\n",
      "O menor valor digitado foi 99.\n"
     ]
    }
   ],
   "source": [
    "n1 = int(input('Primeiro Valor: '))\n",
    "n2 = int(input('Primeiro Valor: '))\n",
    "n3 = int(input('Primeiro Valor: '))\n",
    "# Verificando o menor\n",
    "if n1 < n2 and n1 < n3:\n",
    "    print('O menor valor digitado foi {}.' .format(n1))\n",
    "if n2 < n1 and n2 < n3:\n",
    "    print('O menor valor digitado foi {}.' .format(n2))\n",
    "if n3 < n1 and n3 < n2:\n",
    "    print('O menor valor digitado foi {}.' .format(n3))\n",
    "# Verificando a maior\n",
    "if n1 > n2 and n1 > n3:\n",
    "    print('O menor valor digitado foi {}.' .format(n1))\n",
    "if n2 > n1 and n2 > n3:\n",
    "    print('O menor valor digitado foi {}.' .format(n2))    \n",
    "if n3 > n1 and n3 > n2:\n",
    "    print('O menor valor digitado foi {}.' .format(n3))    "
   ]
  },
  {
   "cell_type": "markdown",
   "metadata": {},
   "source": [
    "### 034 - Escreva um programa que pergunte o salario de um funcionario e calcule o valor do seu aumento. Para salarios superiores a 1250,00, calcule um aumento de 10%. Para os inferiores ou iguais, o aumento é de 15%."
   ]
  },
  {
   "cell_type": "code",
   "execution_count": 7,
   "metadata": {},
   "outputs": [
    {
     "name": "stdout",
     "output_type": "stream",
     "text": [
      "Digite o seu salario: 1000\n",
      "Quem ganhava 1000.0 passa a ganhar 1150.0 agora.\n"
     ]
    }
   ],
   "source": [
    "salario = float(input('Digite o seu salario: '))\n",
    "if salario >= 1250.00:\n",
    "    aumento = salario + (salario * 10/100)\n",
    "    print('Quem ganhava {} passa a ganhar {} agora.' .format(salario, aumento))\n",
    "else:\n",
    "    aumento = salario + (salario * 15/100)\n",
    "    print('Quem ganhava {} passa a ganhar {} agora.' .format(salario, aumento))"
   ]
  },
  {
   "cell_type": "markdown",
   "metadata": {},
   "source": [
    "### 035 - Desenvolva um programa que leia o comprimento de tres retas e diga ao usuario se elas podem ou não formar um triangulo."
   ]
  },
  {
   "cell_type": "code",
   "execution_count": 9,
   "metadata": {},
   "outputs": [
    {
     "name": "stdout",
     "output_type": "stream",
     "text": [
      "-=-=-=-=-=-=-=-=-=-=-=-=-=-=-=-=-=-=-=-=\n",
      "Analisador de triangulos\n",
      "-=-=-=-=-=-=-=-=-=-=-=-=-=-=-=-=-=-=-=-=\n",
      "Primeiro segmento:4\n",
      "Segundo segmento: 5\n",
      "Terceiro segmento: 12\n",
      "Os segmentos acima NÃO podem Formar triângulo.\n"
     ]
    }
   ],
   "source": [
    "print('-=' * 20)\n",
    "print('Analisador de triangulos')\n",
    "print('-=' * 20)\n",
    "r1 = float(input('Primeiro segmento:'))\n",
    "r2 = float(input('Segundo segmento: '))\n",
    "r3 = float(input('Terceiro segmento: '))\n",
    "if r1 < r2 + r3 and r2 < r1 + r3 and r3 < r1 + r2:\n",
    "    print('Os segmentos acima podem Formar triângulo.')\n",
    "else:\n",
    "    print('Os segmentos acima NÃO podem Formar triângulo.')"
   ]
  },
  {
   "cell_type": "code",
   "execution_count": null,
   "metadata": {},
   "outputs": [],
   "source": []
  }
 ],
 "metadata": {
  "kernelspec": {
   "display_name": "Python 3",
   "language": "python",
   "name": "python3"
  },
  "language_info": {
   "codemirror_mode": {
    "name": "ipython",
    "version": 3
   },
   "file_extension": ".py",
   "mimetype": "text/x-python",
   "name": "python",
   "nbconvert_exporter": "python",
   "pygments_lexer": "ipython3",
   "version": "3.7.6"
  }
 },
 "nbformat": 4,
 "nbformat_minor": 4
}
