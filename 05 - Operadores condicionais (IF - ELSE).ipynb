{
 "cells": [
  {
   "cell_type": "markdown",
   "metadata": {},
   "source": [
    "### 028 -Escreva um programa que faça o computador \"pensar\" em um número inteiro entre 0 e 5 e peça para o usuario tentar descobrir qual foi o numero escolhido pelo computador. O Programa devera escrever na tela se o usuario venceu ou perdeu."
   ]
  },
  {
   "cell_type": "code",
   "execution_count": 2,
   "metadata": {},
   "outputs": [
    {
     "name": "stdout",
     "output_type": "stream",
     "text": [
      "-=--=--=--=--=--=--=--=--=--=--=--=--=--=--=--=--=--=--=--=-\n",
      "Vou pensar em um número entre 0 e 5. Tente adivinhar...\n",
      "-=--=--=--=--=--=--=--=--=--=--=--=--=--=--=--=--=--=--=--=-\n",
      "Em que número eu pensei? 3\n",
      "Ganhei! eu pensei no número 0 e não no 3\n"
     ]
    }
   ],
   "source": [
    "import random\n",
    "computador = random.randint(0,5)\n",
    "print('-=-' *20)\n",
    "print('Vou pensar em um número entre 0 e 5. Tente adivinhar...')\n",
    "print('-=-' *20)\n",
    "jogador = int(input('Em que número eu pensei? '))\n",
    "if computador == jogador:\n",
    "    print('Parabens Acertou')\n",
    "else:\n",
    "    print('Ganhei! eu pensei no número {} e não no {}' .format(computador,jogador))\n",
    "        \n",
    "        "
   ]
  }
 ],
 "metadata": {
  "kernelspec": {
   "display_name": "Python 3",
   "language": "python",
   "name": "python3"
  },
  "language_info": {
   "codemirror_mode": {
    "name": "ipython",
    "version": 3
   },
   "file_extension": ".py",
   "mimetype": "text/x-python",
   "name": "python",
   "nbconvert_exporter": "python",
   "pygments_lexer": "ipython3",
   "version": "3.7.6"
  }
 },
 "nbformat": 4,
 "nbformat_minor": 4
}
