{
 "cells": [
  {
   "cell_type": "markdown",
   "metadata": {},
   "source": [
    "### Escreva um programa para aprovar o emprestimo bancario para a compra de uma casa. O programa vai pergunbar o valor da Casa, o salario do comprador e em quantos anos ele vai pagar.\n",
    "\n",
    "### Calcule o valor da prestação mensal, sabendo que ela não pode excerder 30% do salario, ou então o emprestimo será negado."
   ]
  },
  {
   "cell_type": "code",
   "execution_count": 2,
   "metadata": {},
   "outputs": [
    {
     "name": "stdout",
     "output_type": "stream",
     "text": [
      "Empréstimo Bancario\n",
      "-=--=--=--=--=--=--=--=--=--=--=--=--=--=--=--=--=--=--=--=-\n",
      "Digite o valor da casa: 200000\n",
      "Digite o salário: 2500\n",
      "Digite em quantos anos pretende pagar:30\n",
      "Para pagar uma casa de R$200000.00 em 30 anos, a prestação será de 555.56.\n",
      "Parabens Empréstimo Aceito\n"
     ]
    }
   ],
   "source": [
    "print('Empréstimo Bancario')\n",
    "print('-=-' *20)\n",
    "casa = float(input('Digite o valor da casa: '))\n",
    "salario = float(input('Digite o salário: '))\n",
    "anos = int(input('Digite em quantos anos pretende pagar:'))\n",
    "prestacao = casa / (anos * 12)\n",
    "print('Para pagar uma casa de R${:.2f} em {} anos, a prestação será de {:.2f}.' .format(casa, anos , prestacao))\n",
    "if prestacao > (salario * 0.3):\n",
    "    print('Empréstimo negado')\n",
    "else:\n",
    "    print('Parabens Empréstimo Aceito')"
   ]
  }
 ],
 "metadata": {
  "kernelspec": {
   "display_name": "Python 3",
   "language": "python",
   "name": "python3"
  },
  "language_info": {
   "codemirror_mode": {
    "name": "ipython",
    "version": 3
   },
   "file_extension": ".py",
   "mimetype": "text/x-python",
   "name": "python",
   "nbconvert_exporter": "python",
   "pygments_lexer": "ipython3",
   "version": "3.7.6"
  }
 },
 "nbformat": 4,
 "nbformat_minor": 4
}
