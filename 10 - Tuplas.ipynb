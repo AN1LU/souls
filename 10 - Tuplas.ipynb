{
 "cells": [
  {
   "cell_type": "markdown",
   "metadata": {},
   "source": [
    "### 072 -Crie um programa que tenha uma Tupla totalmente preenchida com uma contagem por extenso de zero até vinte. Seu programa deverá ler um número pelo teclado(entre 0 a 20) e mostra-lo por extenso."
   ]
  },
  {
   "cell_type": "code",
   "execution_count": 6,
   "metadata": {},
   "outputs": [
    {
     "name": "stdout",
     "output_type": "stream",
     "text": [
      "Digite um  entre 0 e 20: 21\n",
      "Tente novamente. Digite um  entre 0 e 20: 1\n",
      "Voce digitou o número um.\n"
     ]
    }
   ],
   "source": [
    "cont = ('zero', 'um', 'dois', 'tres', 'quatro', 'cinco', 'seis', 'sete', 'oito', 'nove', 'dez', 'onze', 'doze', 'treze', 'catorze', 'quinze', 'dezesseis', 'dezessete', 'dezoito', 'dezenove', 'vinte')\n",
    "while True:\n",
    "    num = int(input('Digite um  entre 0 e 20: '))\n",
    "    if 0 <= num <= 20:\n",
    "        break\n",
    "    print('Tente novamente. ', end='')          \n",
    "print(f'Voce digitou o número {cont[num]}.')                 "
   ]
  },
  {
   "cell_type": "markdown",
   "metadata": {},
   "source": [
    "### 073 - Crie uma tupla preenchida com os 20 primeros colocados da Tabela do Campeonato Brasileiro de futebol na ordem de colocação. Depois mostre:\n",
    "* Os 5 primeiros.\n",
    "* Os ultimos 4 colocados.\n",
    "* Times em ordem alfabética.\n",
    "* Em que posição está o time da Chapecoense."
   ]
  },
  {
   "cell_type": "code",
   "execution_count": 8,
   "metadata": {},
   "outputs": [
    {
     "name": "stdout",
     "output_type": "stream",
     "text": [
      "Os 5 primeiros times são ('Corinthias', 'Palmeiras', 'Santos', 'Gremio', 'Cruzeiro')\n",
      "\n",
      "Os quatro ultimos são ('Coritiba', 'Avaí', 'Ponte Preta', 'Atlético=GO')\n",
      "\n",
      "Times em ordem alfabética ['Atletico', 'Atlético-PR', 'Atlético=GO', 'Avaí', 'Bahia', 'Borafogo', 'Chapecoense', 'Corinthias', 'Coritiba', 'Cruzeiro', 'EC Vitória', 'Flamengo', 'Fluminense', 'Gremio', 'Palmeiras', 'Ponte Preta', 'Santos', 'Sport Recife', 'São Paulo', 'Vasco']\n",
      "\n",
      "O time da chapecoense está em 8ª posição\n"
     ]
    }
   ],
   "source": [
    "times = ('Corinthias', 'Palmeiras', 'Santos', 'Gremio' , 'Cruzeiro', 'Flamengo', 'Vasco', 'Chapecoense',\n",
    "         'Atletico', 'Borafogo', 'Atlético-PR', 'Bahia', 'São Paulo', 'Fluminense', 'Sport Recife', 'EC Vitória',\n",
    "         'Coritiba', 'Avaí', 'Ponte Preta', 'Atlético=GO')\n",
    "print(f'Os 5 primeiros times são {times[0:5]}\\n')\n",
    "print(f'Os quatro ultimos são {times[-4:]}\\n')\n",
    "print(f'Times em ordem alfabética {sorted(times)}\\n')\n",
    "print(f'O time da chapecoense está em {times.index(\"Chapecoense\")+1}ª posição')"
   ]
  },
  {
   "cell_type": "markdown",
   "metadata": {},
   "source": [
    "### 074 Crie um programa que vai gerar cinco números aleatórios e colocar em uma tupla. Depois disso, mostre a listagem de números gerados e tambem indique o menor e o maior valor que estão na tupla"
   ]
  },
  {
   "cell_type": "code",
   "execution_count": 3,
   "metadata": {},
   "outputs": [
    {
     "name": "stdout",
     "output_type": "stream",
     "text": [
      "Os valores sorteados foram:   3    9    0    1    6  \n",
      "O maior valor é 9\n",
      "\n",
      "O menor valor é 0\n"
     ]
    }
   ],
   "source": [
    "from random import randint\n",
    "numeros = ((randint(0,10)), (randint(0,10)), (randint(0,10)), (randint(0,10)), (randint(0,10)))\n",
    "print('Os valores sorteados foram: ', end='')\n",
    "for n in numeros:\n",
    "    print(f'  {n}  ', end='')\n",
    "print(f'\\nO maior valor é {max(numeros)}')  \n",
    "print(f'\\nO menor valor é {min(numeros)}')    "
   ]
  },
  {
   "cell_type": "markdown",
   "metadata": {},
   "source": [
    "### 075 - Desenvolva um programa que leia quatro valores pelo teclado e guarde-os em uma tupla. No final mostre:\n",
    "* Quantas vezes aparece o valor 9.\n",
    "* Em que posição foi digitado o primeiro valor 3.\n",
    "* Quais foram os numeros pares."
   ]
  },
  {
   "cell_type": "code",
   "execution_count": 8,
   "metadata": {},
   "outputs": [
    {
     "name": "stdout",
     "output_type": "stream",
     "text": [
      "Digite um número: 2\n",
      "Digite um número: 4\n",
      "Digite um número: 6\n",
      "Digite um número: 8\n",
      "Voce digitou os valores (2, 4, 6, 8)\n",
      "O número nove aparece 0\n",
      "O número 3 não foi citado\n",
      "Os valores pares digitados foram:  2  4  6  8 "
     ]
    }
   ],
   "source": [
    "num = (int(input('Digite um número: ')),\n",
    "       int(input('Digite um número: ')),\n",
    "       int(input('Digite um número: ')),\n",
    "       int(input('Digite um número: ')))\n",
    "print(f'Voce digitou os valores {num}')\n",
    "print(f'O número nove aparece {num.count(9)}')\n",
    "if 3 in num:\n",
    "    print(f'O número 3 aparece em {num.index(3)+1} posição')\n",
    "else:\n",
    "    print('O número 3 não foi citado')\n",
    "print(f'Os valores pares digitados foram: ', end='')\n",
    "for n in num:\n",
    "    if n % 2 == 0:\n",
    "        print(f' {n} ', end='')\n"
   ]
  },
  {
   "cell_type": "markdown",
   "metadata": {},
   "source": [
    "### 076 - Crie um programa que tenha uma tupla unica com nomes de produtos  seus respectivos preços na sequencia. No final mostre uma listagem de preços, organizando os dados em forma tabular."
   ]
  },
  {
   "cell_type": "code",
   "execution_count": 4,
   "metadata": {},
   "outputs": [
    {
     "name": "stdout",
     "output_type": "stream",
     "text": [
      "----------------------------------------\n",
      "           LISTAGEM DE PREÇOS           \n",
      "----------------------------------------\n",
      "Lapis.........................R$   1.75\n",
      "Borracha......................R$   2.00\n",
      "Caderno.......................R$  15.90\n",
      "Estojo........................R$  25.00\n",
      "Transferidos..................R$   4.20\n",
      "Compasso......................R$   9.99\n",
      "Mochila.......................R$ 120.32\n",
      "Canetas.......................R$  22.30\n",
      "Livro.........................R$  34.90\n"
     ]
    }
   ],
   "source": [
    "listagem = ('Lapis', 1.75,\n",
    "            'Borracha', 2,\n",
    "            'Caderno', 15.90,\n",
    "            'Estojo', 25,\n",
    "            'Transferidos', 4.20,\n",
    "            'Compasso', 9.99,\n",
    "            'Mochila', 120.32,\n",
    "            'Canetas', 22.30,\n",
    "            'Livro', 34.90)\n",
    "print('-' * 40)\n",
    "print(f'{\"LISTAGEM DE PREÇOS\":^40}')\n",
    "print('-' * 40)\n",
    "for pos in range(0, len(listagem)):\n",
    "    if pos % 2 == 0:\n",
    "        print(f'{listagem[pos]:.<30}', end='')\n",
    "    else:\n",
    "        print(f'R${listagem[pos]:>7.2f}')"
   ]
  },
  {
   "cell_type": "markdown",
   "metadata": {},
   "source": [
    "### 077 - Crie um progrmaa que tenha uma tupla com várias palavras ( não usar acentos). Depois disso voce deve mostrar, para cada palabra, quais são as vogais."
   ]
  },
  {
   "cell_type": "code",
   "execution_count": 1,
   "metadata": {},
   "outputs": [
    {
     "name": "stdout",
     "output_type": "stream",
     "text": [
      "\n",
      "Na palavra APRENDER temos a e e \n",
      "Na palavra PROGRAMAR temos o a a \n",
      "Na palavra LINGUAGEM temos i u a e \n",
      "Na palavra PYTHON temos o \n",
      "Na palavra CURSO temos u o \n",
      "Na palavra GRATIS temos a i \n",
      "Na palavra ESTUDAR temos e u a \n",
      "Na palavra PRATICAR temos a i a \n",
      "Na palavra TRABALHAR temos a a a \n",
      "Na palavra MERCADO temos e a o \n",
      "Na palavra PROGRAMADOR temos o a a o \n",
      "Na palavra FUTURO temos u u o "
     ]
    }
   ],
   "source": [
    "palavra = ('aprender', 'programar', 'linguagem', 'python', 'curso', 'gratis', 'estudar', 'praticar', 'trabalhar', 'mercado', 'programador', 'futuro')\n",
    "\n",
    "for p in palavra:\n",
    "    print(f'\\nNa palavra {p.upper()} temos ', end='')\n",
    "    for letras in p:\n",
    "        if letras in 'aeiou':\n",
    "            print(letras, end=' ')"
   ]
  },
  {
   "cell_type": "code",
   "execution_count": null,
   "metadata": {},
   "outputs": [],
   "source": []
  }
 ],
 "metadata": {
  "kernelspec": {
   "display_name": "Python 3",
   "language": "python",
   "name": "python3"
  },
  "language_info": {
   "codemirror_mode": {
    "name": "ipython",
    "version": 3
   },
   "file_extension": ".py",
   "mimetype": "text/x-python",
   "name": "python",
   "nbconvert_exporter": "python",
   "pygments_lexer": "ipython3",
   "version": "3.7.6"
  }
 },
 "nbformat": 4,
 "nbformat_minor": 4
}
