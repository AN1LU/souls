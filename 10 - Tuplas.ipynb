{
 "cells": [
  {
   "cell_type": "markdown",
   "metadata": {},
   "source": [
    "### 072 -Crie um programa que tenha uma Tupla totalmente preenchida com uma contagem por extenso de zero até vinte. Seu programa deverá ler um número pelo teclado(entre 0 a 20) e mostra-lo por extenso."
   ]
  },
  {
   "cell_type": "code",
   "execution_count": 6,
   "metadata": {},
   "outputs": [
    {
     "name": "stdout",
     "output_type": "stream",
     "text": [
      "Digite um  entre 0 e 20: 21\n",
      "Tente novamente. Digite um  entre 0 e 20: 1\n",
      "Voce digitou o número um.\n"
     ]
    }
   ],
   "source": [
    "cont = ('zero', 'um', 'dois', 'tres', 'quatro', 'cinco', 'seis', 'sete', 'oito', 'nove', 'dez', 'onze', 'doze', 'treze', 'catorze', 'quinze', 'dezesseis', 'dezessete', 'dezoito', 'dezenove', 'vinte')\n",
    "while True:\n",
    "    num = int(input('Digite um  entre 0 e 20: '))\n",
    "    if 0 <= num <= 20:\n",
    "        break\n",
    "    print('Tente novamente. ', end='')          \n",
    "print(f'Voce digitou o número {cont[num]}.')                 "
   ]
  },
  {
   "cell_type": "markdown",
   "metadata": {},
   "source": [
    "### 073 - Crie uma tupla preenchida com os 20 primeros colocados da Tabela do Campeonato Brasileiro de futebol na ordem de colocação. Depois mostre:\n",
    "* Os 5 primeiros.\n",
    "* Os ultimos 4 colocados.\n",
    "* Times em ordem alfabética.\n",
    "* Em que posição está o time da Chapecoense."
   ]
  },
  {
   "cell_type": "code",
   "execution_count": 8,
   "metadata": {},
   "outputs": [
    {
     "name": "stdout",
     "output_type": "stream",
     "text": [
      "Os 5 primeiros times são ('Corinthias', 'Palmeiras', 'Santos', 'Gremio', 'Cruzeiro')\n",
      "\n",
      "Os quatro ultimos são ('Coritiba', 'Avaí', 'Ponte Preta', 'Atlético=GO')\n",
      "\n",
      "Times em ordem alfabética ['Atletico', 'Atlético-PR', 'Atlético=GO', 'Avaí', 'Bahia', 'Borafogo', 'Chapecoense', 'Corinthias', 'Coritiba', 'Cruzeiro', 'EC Vitória', 'Flamengo', 'Fluminense', 'Gremio', 'Palmeiras', 'Ponte Preta', 'Santos', 'Sport Recife', 'São Paulo', 'Vasco']\n",
      "\n",
      "O time da chapecoense está em 8ª posição\n"
     ]
    }
   ],
   "source": [
    "times = ('Corinthias', 'Palmeiras', 'Santos', 'Gremio' , 'Cruzeiro', 'Flamengo', 'Vasco', 'Chapecoense',\n",
    "         'Atletico', 'Borafogo', 'Atlético-PR', 'Bahia', 'São Paulo', 'Fluminense', 'Sport Recife', 'EC Vitória',\n",
    "         'Coritiba', 'Avaí', 'Ponte Preta', 'Atlético=GO')\n",
    "print(f'Os 5 primeiros times são {times[0:5]}\\n')\n",
    "print(f'Os quatro ultimos são {times[-4:]}\\n')\n",
    "print(f'Times em ordem alfabética {sorted(times)}\\n')\n",
    "print(f'O time da chapecoense está em {times.index(\"Chapecoense\")+1}ª posição')"
   ]
  }
 ],
 "metadata": {
  "kernelspec": {
   "display_name": "Python 3",
   "language": "python",
   "name": "python3"
  },
  "language_info": {
   "codemirror_mode": {
    "name": "ipython",
    "version": 3
   },
   "file_extension": ".py",
   "mimetype": "text/x-python",
   "name": "python",
   "nbconvert_exporter": "python",
   "pygments_lexer": "ipython3",
   "version": "3.7.6"
  }
 },
 "nbformat": 4,
 "nbformat_minor": 4
}
