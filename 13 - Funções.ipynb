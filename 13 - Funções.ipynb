{
 "cells": [
  {
   "cell_type": "markdown",
   "metadata": {},
   "source": [
    "### 096 - Faça um programa que tenha uma função chamada área(), que receba as dimensões de um terreno retangeular (largura e comprimento) e mostre a área do terreno."
   ]
  },
  {
   "cell_type": "code",
   "execution_count": 2,
   "metadata": {},
   "outputs": [
    {
     "name": "stdout",
     "output_type": "stream",
     "text": [
      "Controle de terrenos\n",
      "--------------------\n",
      "Largura (m): 5\n",
      "Comprimento (m): 6\n",
      "A área de um terreno 5.0 x 6.0 é de 30.0m².\n"
     ]
    }
   ],
   "source": [
    "def area(larg, comp):\n",
    "    a = larg * comp\n",
    "    print(f'A área de um terreno {larg} x {comp} é de {a}m².')\n",
    "    \n",
    "    \n",
    "print(f'Controle de terrenos')\n",
    "print('-'*20)\n",
    "l = float(input('Largura (m): '))\n",
    "c = float(input('Comprimento (m): '))\n",
    "area(l, c)"
   ]
  },
  {
   "cell_type": "markdown",
   "metadata": {},
   "source": [
    "### 097 - Faça um programa que tenha uma função chamada escreva(), que receba uma texto qualquer como parâmetro e mostre uma mensagem com tamanha adaptável."
   ]
  },
  {
   "cell_type": "code",
   "execution_count": 1,
   "metadata": {},
   "outputs": [
    {
     "name": "stdout",
     "output_type": "stream",
     "text": [
      "~~~~~~~~~~~~~~~~~~~~~~~~~~~~~~\n",
      "  Curso de Python no Youtube\n",
      "~~~~~~~~~~~~~~~~~~~~~~~~~~~~~~\n",
      "~~~~~~~~~~~~\n",
      "  oi mundo\n",
      "~~~~~~~~~~~~\n"
     ]
    }
   ],
   "source": [
    "def escreva(msg):\n",
    "    tam = len(msg) + 4\n",
    "    print('~' * tam)\n",
    "    print(f'  {msg}')\n",
    "    print('~' * tam)\n",
    "    \n",
    "    \n",
    "# programa principal\n",
    "escreva('Curso de Python no Youtube')\n",
    "escreva('oi mundo')"
   ]
  },
  {
   "cell_type": "markdown",
   "metadata": {},
   "source": [
    "### 098 - Faça um programa que tenha uma função chamada contador(), que receba três parametros: inicio, fim e passo. Seu programa tem que realizar três contagens através da função criada:\n",
    "* A - De 1 até 10, de 1 em 1\n",
    "* B - De 10 até 0, de 2 em 2\n",
    "* C - uma contagem personalizada."
   ]
  },
  {
   "cell_type": "code",
   "execution_count": 2,
   "metadata": {},
   "outputs": [
    {
     "name": "stdout",
     "output_type": "stream",
     "text": [
      "-=-=-=-=-=-=-=-=-=-=-=-=-=-=-=-=-=-=-=-=\n",
      "Contagem de 1 até 10 de 1 em 1\n",
      "1 2 3 4 5 6 7 8 9 10 FIM\n",
      "-=-=-=-=-=-=-=-=-=-=-=-=-=-=-=-=-=-=-=-=\n",
      "Contagem de 10 até 0 de 2 em 2\n",
      "10 8 6 4 2 0 FIM\n",
      "Agora é a sua vez de personalizar a contagem!\n",
      "Inicio: 100\n",
      "Fim: 10\n",
      "Passo: -3\n",
      "-=-=-=-=-=-=-=-=-=-=-=-=-=-=-=-=-=-=-=-=\n",
      "Contagem de 100 até 10 de 3 em 3\n",
      "100 97 94 91 88 85 82 79 76 73 70 67 64 61 58 55 52 49 46 43 40 37 34 31 28 25 22 19 16 13 10 FIM\n"
     ]
    }
   ],
   "source": [
    "from time import sleep\n",
    "\n",
    "def contador(i, f, p):\n",
    "    if p < 0:\n",
    "        p *= -1\n",
    "    if p == 0:\n",
    "        p = 1\n",
    "    print('-=' * 20)\n",
    "    print(f'Contagem de {i} até {f} de {p} em {p}')\n",
    "    sleep(2.0)\n",
    "    \n",
    "    if i < f:\n",
    "        cont = i\n",
    "        while cont <= f:\n",
    "            print(f'{cont} ', end='', flush=True)\n",
    "            sleep(0.5)\n",
    "            cont += p\n",
    "        print('FIM')\n",
    "    else:\n",
    "        cont = i\n",
    "        while cont >= f:\n",
    "            print(f'{cont} ', end='', flush=True)\n",
    "            sleep(0.5)\n",
    "            cont -= p\n",
    "        print('FIM')\n",
    "        \n",
    "        \n",
    "        \n",
    "# Programa Principal\n",
    "contador(1, 10, 1)\n",
    "contador(10, 0, 2)\n",
    "print('Agora é a sua vez de personalizar a contagem!')\n",
    "ini = int(input('Inicio: '))\n",
    "fim = int(input('Fim: '))\n",
    "pas = int(input('Passo: '))\n",
    "contador(ini, fim, pas)"
   ]
  }
 ],
 "metadata": {
  "kernelspec": {
   "display_name": "Python 3",
   "language": "python",
   "name": "python3"
  },
  "language_info": {
   "codemirror_mode": {
    "name": "ipython",
    "version": 3
   },
   "file_extension": ".py",
   "mimetype": "text/x-python",
   "name": "python",
   "nbconvert_exporter": "python",
   "pygments_lexer": "ipython3",
   "version": "3.7.6"
  }
 },
 "nbformat": 4,
 "nbformat_minor": 4
}
