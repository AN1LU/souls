{
 "cells": [
  {
   "cell_type": "markdown",
   "metadata": {},
   "source": [
    "### 084 - Faça um programa que leia nome e peso de várias pessoas, guardando tudo em uma lista, no final mostre:\n",
    "* Quantas pessoas foram cadastradas.\n",
    "* Uma listagem com as pessoas mais pesadas.\n",
    "* Uma listagem com as pessoas mais leves."
   ]
  },
  {
   "cell_type": "code",
   "execution_count": 1,
   "metadata": {},
   "outputs": [
    {
     "name": "stdout",
     "output_type": "stream",
     "text": [
      "Nome: Carlos\n",
      "Peso: 89\n",
      "Quer continuar: s\n",
      "Nome: Ana\n",
      "Peso: 56\n",
      "Quer continuar: n\n",
      "-=-=-=-=-=-=-=-=-=-=-=-=-=-=-=-=-=-=-=-=-=-=-=-=-=-=-=-=-=-=\n",
      "[['Carlos', '89'], ['Ana', '56']]\n",
      "Ao todo, voce cadastrou 2 pessoas\n",
      "O maior peso foi de 89Kg, Carlos\n",
      "O menor peso foi de 56Kg, Ana\n"
     ]
    }
   ],
   "source": [
    "temp = list()\n",
    "principal = list()\n",
    "maior = menor = 0\n",
    "while True:\n",
    "    temp.append(str(input('Nome: ')))\n",
    "    temp.append(str(input('Peso: ')))\n",
    "\n",
    "    if len(principal) == 0:\n",
    "        maior = menor = temp[1]\n",
    "    else:\n",
    "        if temp[1] > maior:\n",
    "            maior = temp[1]\n",
    "        if temp[1] < menor:\n",
    "            menor = temp[1]\n",
    "    principal.append(temp[:])\n",
    "    temp.clear()\n",
    "    r = str(input('Quer continuar: '))\n",
    "    if r in 'Nn':\n",
    "        break\n",
    "print('-='*30)\n",
    "print(principal)\n",
    "print(f'Ao todo, voce cadastrou {len(principal)} pessoas')\n",
    "print(f'O maior peso foi de {maior}Kg, ', end='')\n",
    "for p in principal:\n",
    "    if p[1] == maior:\n",
    "        print(f'{p[0]}')\n",
    "print(f'O menor peso foi de {menor}Kg, ', end='')\n",
    "for p in principal:\n",
    "    if p[1] == menor:\n",
    "        print(f'{p[0]}')"
   ]
  },
  {
   "cell_type": "markdown",
   "metadata": {},
   "source": [
    "### 085 - Crie um programa onde o usuário possa digitar sete valores numéricos e cadastre-os em uma lista única que mantenah separados os valores pares e ímpares. No final, mostre os valores pares e ímpares em ordem crescente."
   ]
  },
  {
   "cell_type": "code",
   "execution_count": 3,
   "metadata": {},
   "outputs": [
    {
     "name": "stdout",
     "output_type": "stream",
     "text": [
      "Digite o 1º valor: 3\n",
      "Digite o 2º valor: 4\n",
      "Digite o 3º valor: 5\n",
      "Digite o 4º valor: 6\n",
      "Digite o 5º valor: 7\n",
      "Digite o 6º valor: 8\n",
      "Digite o 7º valor: 9\n",
      "Os valores pares digitados foram [4, 6, 8]\n",
      "Os valores ímpares digitados foram [3, 5, 7, 9]\n"
     ]
    }
   ],
   "source": [
    "num = [[], []]\n",
    "valor = 0\n",
    "for c in range(1,8):\n",
    "    valor = int(input(f'Digite o {c}º valor: '))\n",
    "    if valor % 2 == 0:\n",
    "        num[0].append(valor)\n",
    "    else:\n",
    "        num[1].append(valor)\n",
    "num[0].sort()\n",
    "num[1].sort()\n",
    "print(f'Os valores pares digitados foram {num[0]}')\n",
    "print(f'Os valores ímpares digitados foram {num[1]}')"
   ]
  },
  {
   "cell_type": "markdown",
   "metadata": {},
   "source": [
    "### 086 - Crie um programa que crie uma matriz de dimensão 3x3 e preencha com valores lidos pelo teclado. No final, mostre a matriz na tela, com a formatação correta."
   ]
  },
  {
   "cell_type": "code",
   "execution_count": 4,
   "metadata": {},
   "outputs": [
    {
     "name": "stdout",
     "output_type": "stream",
     "text": [
      "Digite um valor para 0, 0: 4\n",
      "Digite um valor para 0, 1: 5\n",
      "Digite um valor para 0, 2: 6\n",
      "Digite um valor para 1, 0: 1\n",
      "Digite um valor para 1, 1: 2\n",
      "Digite um valor para 1, 2: 3\n",
      "Digite um valor para 2, 0: 7\n",
      "Digite um valor para 2, 1: 8\n",
      "Digite um valor para 2, 2: 9\n",
      "[  4  ][  5  ][  6  ]\n",
      "[  1  ][  2  ][  3  ]\n",
      "[  7  ][  8  ][  9  ]\n"
     ]
    }
   ],
   "source": [
    "matriz = [[0,0,0], [0,0,0], [0,0,0]]\n",
    "for l in range(0,3):\n",
    "    for c in range(0,3):\n",
    "        matriz[l][c] = int(input(f'Digite um valor para {l}, {c}: '))\n",
    "for l in range(0,3):\n",
    "    for c in range(0,3):\n",
    "        print(f'[{matriz[l][c]:^5}]', end='') # :^5 centralizando em 5 espaços\n",
    "    print()    "
   ]
  },
  {
   "cell_type": "markdown",
   "metadata": {},
   "source": [
    "### 087 - Aprimore o desafio anterior, mostrando no final:\n",
    "* A soma de todos os valores pares digitados.\n",
    "* S Soma dos valores da terceira coluna.\n",
    "* O maior valor da segunda linha."
   ]
  },
  {
   "cell_type": "code",
   "execution_count": 10,
   "metadata": {},
   "outputs": [
    {
     "name": "stdout",
     "output_type": "stream",
     "text": [
      "Digita uma valor para 0 0: 1\n",
      "Digita uma valor para 0 1: 2\n",
      "Digita uma valor para 0 2: 3\n",
      "Digita uma valor para 1 0: 4\n",
      "Digita uma valor para 1 1: 5\n",
      "Digita uma valor para 1 2: 6\n",
      "Digita uma valor para 2 0: 7\n",
      "Digita uma valor para 2 1: 8\n",
      "Digita uma valor para 2 2: 9\n",
      "-=-=-=-=-=-=-=-=-=-=-=-=-=-=-=-=-=-=-=-=-=-=-=-=-=-=-=-=-=-=\n",
      "[  1  ][  2  ][  3  ]\n",
      "[  4  ][  5  ][  6  ]\n",
      "[  7  ][  8  ][  9  ]\n",
      "-=-=-=-=-=-=-=-=-=-=-=-=-=-=-=-=-=-=-=-=-=-=-=-=-=-=-=-=-=-=\n",
      "A soma dos valores pares é: 20\n",
      "A soma dos valores da terceira coluna é: 18\n",
      "O maior valor da linha 2 é 6\n"
     ]
    }
   ],
   "source": [
    "matriz = [[0,0,0], [0,0,0], [0,0,0]]\n",
    "spar = maior = scol = 0\n",
    "\n",
    "for l in range(0,3):\n",
    "    for c in range(0,3):\n",
    "        matriz[l][c] = int(input(f'Digita uma valor para {l} {c}: '))\n",
    "        \n",
    "print('-=' * 30)\n",
    "for l in range(0,3):\n",
    "    for c in range(0,3):\n",
    "        print(f'[{matriz[l][c]:^5}]', end='')\n",
    "        if matriz[l][c] % 2 == 0:\n",
    "            spar += matriz[l][c]\n",
    "    print()\n",
    "print('-='*30)\n",
    "print(f'A soma dos valores pares é: {spar}')\n",
    "\n",
    "for l in range(0,3):\n",
    "    scol += matriz[l][2]\n",
    "print(f'A soma dos valores da terceira coluna é: {scol}')\n",
    "\n",
    "for c in range(0,3):\n",
    "    if c == 0:\n",
    "        maior = matriz[1][c]\n",
    "    elif matriz[1][c] > maior:\n",
    "            maior = matriz[1][c]\n",
    "print(f'O maior valor da linha 2 é {maior}')\n",
    "#print(f'O maior valor da  linha 2 é {max(matriz[1])}')"
   ]
  },
  {
   "cell_type": "markdown",
   "metadata": {},
   "source": [
    "### 088 - Faça um programa que ajude um jogador da Mega Sena a criar palpites. O programa vai perguntar quantos jogos serão gerados e vai sortear 6 números entre 1 e 60 para cada jogo, cadastrando em uma lista composta."
   ]
  },
  {
   "cell_type": "code",
   "execution_count": 12,
   "metadata": {},
   "outputs": [
    {
     "name": "stdout",
     "output_type": "stream",
     "text": [
      "Quantos jogos você que eu aceite?5\n",
      "-=-=-=   SORTEANDO 5 JOGOS    -=-=-=\n",
      "Jogo 1: [7, 9, 14, 24, 43, 44]\n",
      "Jogo 2: [3, 7, 25, 27, 38, 56]\n",
      "Jogo 3: [2, 14, 31, 39, 55, 58]\n",
      "Jogo 4: [18, 27, 42, 51, 55, 57]\n",
      "Jogo 5: [8, 15, 19, 35, 45, 47]\n"
     ]
    }
   ],
   "source": [
    "from random import randint\n",
    "from time import sleep\n",
    "lista = list()\n",
    "jogos = list()\n",
    "quant = int(input('Quantos jogos você que eu aceite?'))\n",
    "tot = 1\n",
    "while tot <= quant:\n",
    "    cont = 0\n",
    "    while True:\n",
    "        num = randint(1,60)\n",
    "        if num not in lista:\n",
    "            lista.append(num)\n",
    "            cont += 1\n",
    "        if cont >= 6:\n",
    "            break\n",
    "    lista.sort()\n",
    "    jogos.append(lista[:])\n",
    "    lista.clear()\n",
    "    tot += 1\n",
    "print('-=' *3, f'  SORTEANDO {quant} JOGOS   ', '-=' *3)\n",
    "for i, l in enumerate(jogos):\n",
    "    print(f'Jogo {i+1}: {l}')\n",
    "    sleep(1)  "
   ]
  },
  {
   "cell_type": "markdown",
   "metadata": {},
   "source": [
    "### 089 - Crie um programa que leia nome e duas notas de vários alunos e guarde tudo em uma lista composta. No final, mostre um boletim contendo a média de cada um e permita que o usuario possa mostrar as notas de cada aluno individulamente."
   ]
  },
  {
   "cell_type": "code",
   "execution_count": 13,
   "metadata": {},
   "outputs": [
    {
     "name": "stdout",
     "output_type": "stream",
     "text": [
      "Nome: Pedro\n",
      "Nota 1: 7\n",
      "Nota 2: 8\n",
      "Quer continuar? [S/N]s\n",
      "Nome: Ana\n",
      "Nota 1: 9\n",
      "Nota 2: 10\n",
      "Quer continuar? [S/N]s\n",
      "Nome: João\n",
      "Nota 1: 4\n",
      "Nota 2: 5\n",
      "Quer continuar? [S/N]s\n",
      "Nome: Paula\n",
      "Nota 1: 5\n",
      "Nota 2: 2\n",
      "Quer continuar? [S/N]n\n",
      "-=-=-=-=-=-=-=-=-=-=-=-=-=-=-=-=-=-=-=-=-=-=-=-=-=-=-=-=-=-=\n",
      "No. NOME         MÉDIA\n",
      "--------------------------\n",
      "0   Pedro          7.5\n",
      "1   Ana            9.5\n",
      "2   João           4.5\n",
      "3   Paula          3.5\n",
      "-----------------------------------\n",
      "Mostrar notas de qual aluno? (999 interrompe): 0\n",
      "Notas de Pedro são [7.0, 8.0]\n",
      "-----------------------------------\n",
      "Mostrar notas de qual aluno? (999 interrompe): 3\n",
      "Notas de Paula são [5.0, 2.0]\n",
      "-----------------------------------\n",
      "Mostrar notas de qual aluno? (999 interrompe): 6\n",
      "-----------------------------------\n",
      "Mostrar notas de qual aluno? (999 interrompe): 999\n",
      "Finalizando...\n",
      "<<< Volte Sempre >>>\n"
     ]
    }
   ],
   "source": [
    "ficha = list()\n",
    "\n",
    "while True:\n",
    "    nome = str(input('Nome: '))\n",
    "    nota1 = float(input('Nota 1: '))\n",
    "    nota2 = float(input('Nota 2: '))\n",
    "    media = (nota1 + nota2) / 2\n",
    "    ficha.append([nome, [nota1, nota2], media ])\n",
    "    resp = str(input('Quer continuar? [S/N]'))\n",
    "    if resp in 'Nn':\n",
    "        break\n",
    "print('-=' * 30)\n",
    "print(f'{\"No.\":<4}{\"NOME\":<10}{\"MÉDIA\":>8}')\n",
    "print('-' * 26)\n",
    "for i, a in enumerate(ficha):\n",
    "    print(f'{i:<4}{a[0]:<10}{a[2]:>8.1f}')\n",
    "while True:\n",
    "    print('-'* 35)\n",
    "    opc = int(input('Mostrar notas de qual aluno? (999 interrompe): '))\n",
    "    if opc == 999:\n",
    "        print('Finalizando...')\n",
    "        break\n",
    "    if opc <= len(ficha) -1:\n",
    "        print(f'Notas de {ficha[opc][0]} são {ficha[opc][1]}')\n",
    "print('<<< Volte Sempre >>>')"
   ]
  }
 ],
 "metadata": {
  "kernelspec": {
   "display_name": "Python 3",
   "language": "python",
   "name": "python3"
  },
  "language_info": {
   "codemirror_mode": {
    "name": "ipython",
    "version": 3
   },
   "file_extension": ".py",
   "mimetype": "text/x-python",
   "name": "python",
   "nbconvert_exporter": "python",
   "pygments_lexer": "ipython3",
   "version": "3.7.6"
  }
 },
 "nbformat": 4,
 "nbformat_minor": 4
}
