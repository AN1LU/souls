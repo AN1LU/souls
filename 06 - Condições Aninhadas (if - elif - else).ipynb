{
 "cells": [
  {
   "cell_type": "markdown",
   "metadata": {},
   "source": [
    "### 036 - Escreva um programa para aprovar o emprestimo bancario para a compra de uma casa. O programa vai pergunbar o valor da Casa, o salario do comprador e em quantos anos ele vai pagar.\n",
    "\n",
    "### Calcule o valor da prestação mensal, sabendo que ela não pode excerder 30% do salario, ou então o emprestimo será negado."
   ]
  },
  {
   "cell_type": "code",
   "execution_count": 2,
   "metadata": {},
   "outputs": [
    {
     "name": "stdout",
     "output_type": "stream",
     "text": [
      "Empréstimo Bancario\n",
      "-=--=--=--=--=--=--=--=--=--=--=--=--=--=--=--=--=--=--=--=-\n",
      "Digite o valor da casa: 200000\n",
      "Digite o salário: 2500\n",
      "Digite em quantos anos pretende pagar:30\n",
      "Para pagar uma casa de R$200000.00 em 30 anos, a prestação será de 555.56.\n",
      "Parabens Empréstimo Aceito\n"
     ]
    }
   ],
   "source": [
    "print('Empréstimo Bancario')\n",
    "print('-=-' *20)\n",
    "casa = float(input('Digite o valor da casa: '))\n",
    "salario = float(input('Digite o salário: '))\n",
    "anos = int(input('Digite em quantos anos pretende pagar:'))\n",
    "prestacao = casa / (anos * 12)\n",
    "print('Para pagar uma casa de R${:.2f} em {} anos, a prestação será de {:.2f}.' .format(casa, anos , prestacao))\n",
    "if prestacao > (salario * 0.3):\n",
    "    print('Empréstimo negado')\n",
    "else:\n",
    "    print('Parabens Empréstimo Aceito')"
   ]
  },
  {
   "cell_type": "markdown",
   "metadata": {},
   "source": [
    "### 037- Escreva um programa que leia um número inteiro qualquer e peça para o usuário escolher qual será a\n",
    "* Base de conversão:\n",
    "* 1 para Binario\n",
    "* 2 para Octal\n",
    "* 3 para Hexadecimal"
   ]
  },
  {
   "cell_type": "code",
   "execution_count": 5,
   "metadata": {},
   "outputs": [
    {
     "name": "stdout",
     "output_type": "stream",
     "text": [
      "Escreva um número inteiro: 6\n",
      "Escolha uma das bases para conversão:\n",
      "[1] converter para BINARIO\n",
      "[2] converter para OCTAL\n",
      "[3] converter para HEXADECIMAL\n",
      "Sua opção: 1\n",
      "6 convertido para Bianrio é igual a 110\n"
     ]
    }
   ],
   "source": [
    "num  = int(input('Escreva um número inteiro: '))\n",
    "print('Escolha uma das bases para conversão:')\n",
    "print('[1] converter para BINARIO')\n",
    "print('[2] converter para OCTAL')\n",
    "print('[3] converter para HEXADECIMAL')\n",
    "opcao = int(input('Sua opção: '))\n",
    "if opcao == 1:\n",
    "    print('{} convertido para Bianrio é igual a {}' .format(num, bin(num)[2:]))\n",
    "elif opcao == 2:\n",
    "    print('{} convertido para Octal é igual a {}' .format(num, oct(num)[2:]))\n",
    "elif opcao == 3:\n",
    "    print('{} convertido para Hexadecimal é igual a {}' .format(num, hex(num)[2:]))\n",
    "else:\n",
    "    print('Opção inválida.')"
   ]
  },
  {
   "cell_type": "markdown",
   "metadata": {},
   "source": [
    "### 038 -  Escreva um programa que leia dois números inteiros e compare-os mostrando na tela uma mensagem:\n",
    "*  O primeiro valor é maior\n",
    "*  O segundo valor é maior\n",
    "*  Não existe valor maior, os dois são iguais"
   ]
  },
  {
   "cell_type": "code",
   "execution_count": 3,
   "metadata": {},
   "outputs": [
    {
     "name": "stdout",
     "output_type": "stream",
     "text": [
      "Primeiro número: 5\n",
      "Segundo número: 5\n",
      "Os dois valores são IGUAIS.\n"
     ]
    }
   ],
   "source": [
    "a = int(input('Primeiro número: '))\n",
    "b = int(input('Segundo número: '))\n",
    "if a > b:\n",
    "    print('O PRIMEIRO valor é Maior.')\n",
    "elif b > a:\n",
    "    print('O SEGUNDO valor é Maior.')\n",
    "else:\n",
    "    print('Os dois valores são IGUAIS.')"
   ]
  }
 ],
 "metadata": {
  "kernelspec": {
   "display_name": "Python 3",
   "language": "python",
   "name": "python3"
  },
  "language_info": {
   "codemirror_mode": {
    "name": "ipython",
    "version": 3
   },
   "file_extension": ".py",
   "mimetype": "text/x-python",
   "name": "python",
   "nbconvert_exporter": "python",
   "pygments_lexer": "ipython3",
   "version": "3.7.6"
  }
 },
 "nbformat": 4,
 "nbformat_minor": 4
}
