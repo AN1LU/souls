{
 "cells": [
  {
   "cell_type": "markdown",
   "metadata": {},
   "source": [
    "### 036 - Escreva um programa para aprovar o emprestimo bancario para a compra de uma casa. O programa vai pergunbar o valor da Casa, o salario do comprador e em quantos anos ele vai pagar.\n",
    "\n",
    "### Calcule o valor da prestação mensal, sabendo que ela não pode excerder 30% do salario, ou então o emprestimo será negado."
   ]
  },
  {
   "cell_type": "code",
   "execution_count": 5,
   "metadata": {},
   "outputs": [
    {
     "name": "stdout",
     "output_type": "stream",
     "text": [
      "Empréstimo Bancario\n",
      "-=--=--=--=--=--=--=--=--=--=--=--=--=--=--=--=--=--=--=--=-\n",
      "Digite o valor da casa: 200000\n",
      "Digite o salário: 2500\n",
      "Digite em quantos anos pretende pagar:30\n",
      "Para pagar uma casa de R$200000.00 em 30 anos, a prestação será de 555.56.\n",
      "Parabens Empréstimo Aceito\n"
     ]
    }
   ],
   "source": [
    "print('Empréstimo Bancario')\n",
    "print('-=-' *20)\n",
    "casa = float(input('Digite o valor da casa: '))\n",
    "salario = float(input('Digite o salário: '))\n",
    "anos = int(input('Digite em quantos anos pretende pagar:'))\n",
    "prestacao = casa / (anos * 12)\n",
    "print('Para pagar uma casa de R${:.2f} em {} anos, a prestação será de {:.2f}.' .format(casa, anos , prestacao))\n",
    "if prestacao > (salario * 0.3):\n",
    "    print('Empréstimo negado')\n",
    "else:\n",
    "    print('Parabens Empréstimo Aceito')"
   ]
  },
  {
   "cell_type": "markdown",
   "metadata": {},
   "source": [
    "### 037- Escreva um programa que leia um número inteiro qualquer e peça para o usuário escolher qual será a\n",
    "* Base de conversão:\n",
    "* 1 para Binario\n",
    "* 2 para Octal\n",
    "* 3 para Hexadecimal"
   ]
  },
  {
   "cell_type": "code",
   "execution_count": 6,
   "metadata": {},
   "outputs": [
    {
     "name": "stdout",
     "output_type": "stream",
     "text": [
      "Escreva um número inteiro: 8\n",
      "Escolha uma das bases para conversão:\n",
      "[1] converter para BINARIO\n",
      "[2] converter para OCTAL\n",
      "[3] converter para HEXADECIMAL\n",
      "Sua opção: 3\n",
      "8 convertido para Hexadecimal é igual a 8\n"
     ]
    }
   ],
   "source": [
    "num  = int(input('Escreva um número inteiro: '))\n",
    "print('Escolha uma das bases para conversão:')\n",
    "print('[1] converter para BINARIO')\n",
    "print('[2] converter para OCTAL')\n",
    "print('[3] converter para HEXADECIMAL')\n",
    "opcao = int(input('Sua opção: '))\n",
    "if opcao == 1:\n",
    "    print('{} convertido para Bianrio é igual a {}' .format(num, bin(num)[2:]))\n",
    "elif opcao == 2:\n",
    "    print('{} convertido para Octal é igual a {}' .format(num, oct(num)[2:]))\n",
    "elif opcao == 3:\n",
    "    print('{} convertido para Hexadecimal é igual a {}' .format(num, hex(num)[2:]))\n",
    "else:\n",
    "    print('Opção inválida.')"
   ]
  },
  {
   "cell_type": "markdown",
   "metadata": {},
   "source": [
    "### 038 -  Escreva um programa que leia dois números inteiros e compare-os mostrando na tela uma mensagem:\n",
    "*  O primeiro valor é maior\n",
    "*  O segundo valor é maior\n",
    "*  Não existe valor maior, os dois são iguais"
   ]
  },
  {
   "cell_type": "code",
   "execution_count": 7,
   "metadata": {},
   "outputs": [
    {
     "name": "stdout",
     "output_type": "stream",
     "text": [
      "Primeiro número: 4\n",
      "Segundo número: 8\n",
      "O SEGUNDO valor é Maior.\n"
     ]
    }
   ],
   "source": [
    "a = int(input('Primeiro número: '))\n",
    "b = int(input('Segundo número: '))\n",
    "if a > b:\n",
    "    print('O PRIMEIRO valor é Maior.')\n",
    "elif b > a:\n",
    "    print('O SEGUNDO valor é Maior.')\n",
    "else:\n",
    "    print('Os dois valores são IGUAIS.')"
   ]
  },
  {
   "cell_type": "markdown",
   "metadata": {},
   "source": [
    "### 039 - Faça um programa que leia o ano de nascimento de um jovem e informe de acordo com sua idade, se ele ainda vai se alistar ao serviço militar, se é a hora de se aliustar ou se já passou do tempo do alistamento. Seu programa tambem deverá mostrar o tempo que falta ou que passou do prazo"
   ]
  },
  {
   "cell_type": "code",
   "execution_count": 8,
   "metadata": {},
   "outputs": [
    {
     "name": "stdout",
     "output_type": "stream",
     "text": [
      "Digite seu ano de nascimento: 1984\n",
      "Quem nasceu em 1984 tem 36 anos em 2020.\n",
      "Voce já deveria ter se alistado há 18 anos.\n",
      "Seu alistamente foi em 2002\n"
     ]
    }
   ],
   "source": [
    "from datetime import date\n",
    "atual = date.today().year\n",
    "nasc = int(input('Digite seu ano de nascimento: '))\n",
    "idade = atual - nasc\n",
    "print('Quem nasceu em {} tem {} anos em {}.' .format(nasc, idade, atual))\n",
    "if idade == 18:\n",
    "    print('Voce tem que se alistar imediatamente!')\n",
    "elif idade < 18:\n",
    "    saldo = 18 - idade\n",
    "    print('Ainda faltam {} anos para o alistamente.' .format(saldo))\n",
    "    ano = atual + saldo\n",
    "    print('Seu alistamento será em {}' .format(ano))\n",
    "elif idade > 18:\n",
    "    saldo = idade - 18\n",
    "    print('Voce já deveria ter se alistado há {} anos.' .format(saldo))\n",
    "    ano = atual - saldo\n",
    "    print('Seu alistamente foi em {}' .format(ano))"
   ]
  },
  {
   "cell_type": "markdown",
   "metadata": {},
   "source": [
    "### 040 - Crie um programa que leia duas notas de um aluno e calcule sua média, mostrando uma mensagem no final de acorod com a média atingida:\n",
    "* Média abaixo de 5.0: REPROVADO.\n",
    "* Média entre 5.0 e 6.9: RECUPERAÇÃO\n",
    "* Média 7.0 ou superioe:  APROVADO"
   ]
  },
  {
   "cell_type": "code",
   "execution_count": 9,
   "metadata": {},
   "outputs": [
    {
     "name": "stdout",
     "output_type": "stream",
     "text": [
      "Primeira Nota: 7\n",
      "Segunda Nota: 5\n",
      "Nota média do aluno foi 6.0 Aluno está em Recuperação.\n"
     ]
    }
   ],
   "source": [
    "nota1 = float(input('Primeira Nota: '))\n",
    "nota2 = float(input('Segunda Nota: '))\n",
    "media = (nota1 + nota2) / 2\n",
    "if media < 5.0:\n",
    "    print('Nota média do aluno foi {:.1f} Aluno está Aprovado. ' .format(media))\n",
    "elif media >= 5.0 and media <= 6.9:\n",
    "    print('Nota média do aluno foi {:.1f} Aluno está em Recuperação.' .format(media))\n",
    "elif media >= 7:\n",
    "    print('Nota média do aluno foi {:.1f} Aluno está Aprovado')"
   ]
  },
  {
   "cell_type": "markdown",
   "metadata": {},
   "source": [
    "### 041 - A confederação Nacional de Natação precisa de um programa que leia o ano de nascimento de um atleta e mostre sua categoria, de acordo com a idade:\n",
    "* até 9 anos: Mirim\n",
    "* até 14 anos: Infantil\n",
    "* até 19 anos: Junior\n",
    "* até 25 anos: Senior\n",
    "* Acima: Master"
   ]
  },
  {
   "cell_type": "code",
   "execution_count": 10,
   "metadata": {},
   "outputs": [
    {
     "name": "stdout",
     "output_type": "stream",
     "text": [
      "Digite o ano de nascimento: 1990\n",
      "Sua idade é 30 e sua categoria é Master.\n"
     ]
    }
   ],
   "source": [
    "from datetime import date\n",
    "ano = date.today().year\n",
    "nascimento = int(input('Digite o ano de nascimento: '))\n",
    "idade = ano - nascimento\n",
    "if idade <= 9:\n",
    "    categoria = 'Mirim'\n",
    "    print('Sua idade é {} e sua categoria é {}.' .format(idade, categoria))\n",
    "elif idade <= 14:\n",
    "    categoria = 'Infantil'\n",
    "    print('Sua idade é {} e sua categoria é {}.' .format(idade, categoria))\n",
    "elif idade <= 19:\n",
    "    categoria = 'Junior'\n",
    "    print('Sua idade é {} e sua categoria é {}.' .format(idade, categoria))\n",
    "elif idade <= 25:\n",
    "    categoria = 'Senior'\n",
    "    print('Sua idade é {} e sua categoria é {}.' .format(idade, categoria))\n",
    "else:\n",
    "    categoria = 'Master'\n",
    "    print('Sua idade é {} e sua categoria é {}.' .format(idade, categoria))"
   ]
  },
  {
   "cell_type": "markdown",
   "metadata": {},
   "source": [
    "### 042 - Refaça o Desafio 035 dos triangulos, acrescentando o recurso de mostrar que tipo de triangulo será formado.\n",
    "* Equilatero: todos os lados iguais\n",
    "* Isósceles: dois lados iguais\n",
    "* Escaleno: todos os lados diferentes"
   ]
  },
  {
   "cell_type": "code",
   "execution_count": 11,
   "metadata": {},
   "outputs": [
    {
     "name": "stdout",
     "output_type": "stream",
     "text": [
      "-=--=--=--=--=--=--=--=--=--=--=--=--=--=--=--=--=--=--=--=-\n",
      "Analisador de Triangulos\n",
      "-=--=--=--=--=--=--=--=--=--=--=--=--=--=--=--=--=--=--=--=-\n",
      "Primeiro segmento: 4\n",
      "Segundo segmento: 4\n",
      "Terceiro segmento: 6\n",
      "Os segmentos acima podem Formar um Triângulo.\n",
      "É um triângulo Isósceles.\n"
     ]
    }
   ],
   "source": [
    "print('-=-'* 20)\n",
    "print('Analisador de Triangulos')\n",
    "print('-=-'* 20)\n",
    "r1 = float(input('Primeiro segmento: '))\n",
    "r2 = float(input('Segundo segmento: '))\n",
    "r3 = float(input('Terceiro segmento: '))\n",
    "if r1 < r2 + r3 and r2 < r1 + r3 and r3 < r1 + r2:\n",
    "    print('Os segmentos acima podem Formar um Triângulo.')\n",
    "    if r1 != r2 and r2 != r3 and r1 != r3:\n",
    "        print('É um triângulo Escaleno')\n",
    "    elif r1 == r2 == r3:\n",
    "        print('É um triângulo Equilatero.')\n",
    "    elif r1 == r2 or r2 == r3 or r3 == r1:\n",
    "        print('É um triângulo Isósceles.')\n",
    "else:\n",
    "    print('Ps segmentos acima NÃO podem Formar um Triângulo')"
   ]
  },
  {
   "cell_type": "markdown",
   "metadata": {},
   "source": [
    "### 043 - Desenvolva uma lógica que leia o peso e a altura de um apessoa, calcule seu IMC e mostre seu status de acordo com a tabela abaixo:\n",
    "* Abaixo de 18.5: Abaixo do Peso\n",
    "* entre 18.5 e 25: Peso ideal\n",
    "* 25 até 30: Sobrepeso\n",
    "* 30 até 40: Obesidade\n",
    "* Acima de 40: Obesidade Mórbida"
   ]
  },
  {
   "cell_type": "code",
   "execution_count": 12,
   "metadata": {},
   "outputs": [
    {
     "name": "stdout",
     "output_type": "stream",
     "text": [
      "Insira o seu peso: 75\n",
      "Insira a sua altura: 1.65\n",
      "O IMC dessa pessoa é 27.5\n",
      "Sobrepeso\n"
     ]
    }
   ],
   "source": [
    "peso = float(input('Insira o seu peso: '))\n",
    "altura = float(input('Insira a sua altura: '))\n",
    "imc = peso / (altura ** 2)\n",
    "print('O IMC dessa pessoa é {:.1f}' .format(imc))\n",
    "if imc <= 18.5:\n",
    "    print('Abaixo do Peso')\n",
    "elif imc <= 25:\n",
    "    print('Peso Ideal')\n",
    "elif imc <= 30:\n",
    "    print('Sobrepeso')    \n",
    "elif imc <= 40:\n",
    "    print('Obesidade')    \n",
    "else:\n",
    "    print('Obesidade Mórbida')"
   ]
  },
  {
   "cell_type": "markdown",
   "metadata": {},
   "source": [
    "### 044 - Elabore um programa que calcule o valor a ser pago por um produto, considerando o seu preço normal e condição de pagamento:\n",
    "* - a vista dinheiro/cheque: 10% de desconto\n",
    "* - a vista no cartão: 5% de desconto\n",
    "* - em até 2x cartão: Preço normal\n",
    "* - 3x ou mais no cartão: 20% de juros."
   ]
  },
  {
   "cell_type": "code",
   "execution_count": 3,
   "metadata": {},
   "outputs": [
    {
     "name": "stdout",
     "output_type": "stream",
     "text": [
      "Digite o preço do produto: 120\n",
      "Escolha uma das formas de pagamento: \n",
      "[1] a vista dinheiro/cheque: \n",
      "[2] a vista no cartão: \n",
      "[3] em até 2x cartão: \n",
      "[4] 3x ou mais no cartão: \n",
      "Sua opção: 1\n",
      "Total 108.00.\n"
     ]
    }
   ],
   "source": [
    "preco = float(input('Digite o preço do produto: '))\n",
    "print('Escolha uma das formas de pagamento: ')\n",
    "print('[1] a vista dinheiro/cheque: ')\n",
    "print('[2] a vista no cartão: ')\n",
    "print('[3] em até 2x cartão: ')\n",
    "print('[4] 3x ou mais no cartão: ')\n",
    "opcao = int(input('Sua opção: '))\n",
    "if opcao == 1:\n",
    "    preco = preco * 0.9\n",
    "    print('Total {:.2f}.' .format(preco))\n",
    "elif opcao == 2:\n",
    "    preco = preco * 0.95\n",
    "    print('Total {:.2f}.' .format(preco))\n",
    "elif opcao == 3:\n",
    "    parcela = preco / 2\n",
    "    print('Sua compra será parcelada em 2x de {:.2f}.' .format(parcela))\n",
    "elif opcao == 4:\n",
    "    preco = preco * 1.2\n",
    "    totalparc = int(input('Quantas parcelas? '))\n",
    "    parcela = preco / totalparc\n",
    "    print('Sua compra sera de R${:.2f} e vai custar R$ {:.2f} em {} parcelas no final.' .format(preco, parcela, totalparc))\n",
    "else:\n",
    "    print('Opçao invalida')"
   ]
  },
  {
   "cell_type": "markdown",
   "metadata": {},
   "source": [
    "### 045 - Criar um programa que faça o computador jogar Jokenpô com voce.\n"
   ]
  },
  {
   "cell_type": "code",
   "execution_count": 4,
   "metadata": {},
   "outputs": [
    {
     "name": "stdout",
     "output_type": "stream",
     "text": [
      "Suas opções: \n",
      "[0] PEDRA \n",
      "[1] PAPEL \n",
      "[2] TESOURA\n",
      "Qual é a sua jogada? 1\n",
      "Jo\n",
      "Ken\n",
      "Pô\n",
      "-=-=-=-=-=-=-=-=-=-=-=-=-=-=-=-=-=-=-=-=\n",
      "Computador jogou Papel.\n",
      "Jogador jogou Papel.\n",
      "-=-=-=-=-=-=-=-=-=-=-=-=-=-=-=-=-=-=-=-=\n",
      "Empate\n"
     ]
    }
   ],
   "source": [
    "from random import randint\n",
    "from time import sleep\n",
    "itens = ('Pedra', 'Papel','Tesoura')\n",
    "computador = randint(0,2)\n",
    "print('''Suas opções: \n",
    "[0] PEDRA \n",
    "[1] PAPEL \n",
    "[2] TESOURA''')\n",
    "jogador = int(input('Qual é a sua jogada? '))\n",
    "if jogador != 0 and jogador != 1 and jogador != 2:\n",
    "    print('Jogada invalida')\n",
    "    exit()\n",
    "print('Jo')\n",
    "sleep(1)\n",
    "print('Ken')\n",
    "sleep(1)\n",
    "print('Pô')\n",
    "sleep(1)\n",
    "print('-=' * 20)\n",
    "print('Computador jogou {}.' .format(itens[computador]))\n",
    "print('Jogador jogou {}.' .format(itens[jogador]))\n",
    "print('-=' * 20)\n",
    "\n",
    "if computador == 0: # computador jogou PEDRA\n",
    "    if jogador == 0: # jogador jogou PEDRA\n",
    "        print('Empate')\n",
    "    elif jogador == 1: # jogador jogou Papel\n",
    "        print('Ganhou')\n",
    "    elif jogador == 2: # jogador jogou Tesoura\n",
    "        print('Perdeu')\n",
    "    else:\n",
    "        print('Jogada invalida')\n",
    "\n",
    "elif computador == 1: #Computador jogou Papel\n",
    "    if jogador == 0: # jogador jogou PEDRA\n",
    "        print('Perdeu')\n",
    "    elif jogador == 1: # jogador jogou Papel\n",
    "        print('Empate')\n",
    "    elif jogador == 2: # jogador jogou Tesoura\n",
    "        print('Ganhou')\n",
    "    else:\n",
    "        print('Jogada invalida')\n",
    "\n",
    "elif computador == 2: #Computador jogou Tesoura\n",
    "    if jogador == 0: # jogador jogou PEDRA\n",
    "        print('Ganhou')\n",
    "    elif jogador == 1: # jogador jogou Papel\n",
    "        print('Perdeu')\n",
    "    elif jogador == 2: # jogador jogou Tesoura\n",
    "        print('Empate')\n",
    "    else:\n",
    "        print('Jogada invalida')"
   ]
  }
 ],
 "metadata": {
  "kernelspec": {
   "display_name": "Python 3",
   "language": "python",
   "name": "python3"
  },
  "language_info": {
   "codemirror_mode": {
    "name": "ipython",
    "version": 3
   },
   "file_extension": ".py",
   "mimetype": "text/x-python",
   "name": "python",
   "nbconvert_exporter": "python",
   "pygments_lexer": "ipython3",
   "version": "3.7.6"
  }
 },
 "nbformat": 4,
 "nbformat_minor": 4
}
