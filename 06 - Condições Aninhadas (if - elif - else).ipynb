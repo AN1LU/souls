{
 "cells": [
  {
   "cell_type": "markdown",
   "metadata": {},
   "source": [
    "### 036 - Escreva um programa para aprovar o emprestimo bancario para a compra de uma casa. O programa vai pergunbar o valor da Casa, o salario do comprador e em quantos anos ele vai pagar.\n",
    "\n",
    "### Calcule o valor da prestação mensal, sabendo que ela não pode excerder 30% do salario, ou então o emprestimo será negado."
   ]
  },
  {
   "cell_type": "code",
   "execution_count": null,
   "metadata": {},
   "outputs": [],
   "source": [
    "print('Empréstimo Bancario')\n",
    "print('-=-' *20)\n",
    "casa = float(input('Digite o valor da casa: '))\n",
    "salario = float(input('Digite o salário: '))\n",
    "anos = int(input('Digite em quantos anos pretende pagar:'))\n",
    "prestacao = casa / (anos * 12)\n",
    "print('Para pagar uma casa de R${:.2f} em {} anos, a prestação será de {:.2f}.' .format(casa, anos , prestacao))\n",
    "if prestacao > (salario * 0.3):\n",
    "    print('Empréstimo negado')\n",
    "else:\n",
    "    print('Parabens Empréstimo Aceito')"
   ]
  },
  {
   "cell_type": "markdown",
   "metadata": {},
   "source": [
    "### 037- Escreva um programa que leia um número inteiro qualquer e peça para o usuário escolher qual será a\n",
    "* Base de conversão:\n",
    "* 1 para Binario\n",
    "* 2 para Octal\n",
    "* 3 para Hexadecimal"
   ]
  },
  {
   "cell_type": "code",
   "execution_count": null,
   "metadata": {},
   "outputs": [],
   "source": [
    "num  = int(input('Escreva um número inteiro: '))\n",
    "print('Escolha uma das bases para conversão:')\n",
    "print('[1] converter para BINARIO')\n",
    "print('[2] converter para OCTAL')\n",
    "print('[3] converter para HEXADECIMAL')\n",
    "opcao = int(input('Sua opção: '))\n",
    "if opcao == 1:\n",
    "    print('{} convertido para Bianrio é igual a {}' .format(num, bin(num)[2:]))\n",
    "elif opcao == 2:\n",
    "    print('{} convertido para Octal é igual a {}' .format(num, oct(num)[2:]))\n",
    "elif opcao == 3:\n",
    "    print('{} convertido para Hexadecimal é igual a {}' .format(num, hex(num)[2:]))\n",
    "else:\n",
    "    print('Opção inválida.')"
   ]
  },
  {
   "cell_type": "markdown",
   "metadata": {},
   "source": [
    "### 038 -  Escreva um programa que leia dois números inteiros e compare-os mostrando na tela uma mensagem:\n",
    "*  O primeiro valor é maior\n",
    "*  O segundo valor é maior\n",
    "*  Não existe valor maior, os dois são iguais"
   ]
  },
  {
   "cell_type": "code",
   "execution_count": null,
   "metadata": {},
   "outputs": [],
   "source": [
    "a = int(input('Primeiro número: '))\n",
    "b = int(input('Segundo número: '))\n",
    "if a > b:\n",
    "    print('O PRIMEIRO valor é Maior.')\n",
    "elif b > a:\n",
    "    print('O SEGUNDO valor é Maior.')\n",
    "else:\n",
    "    print('Os dois valores são IGUAIS.')"
   ]
  },
  {
   "cell_type": "markdown",
   "metadata": {},
   "source": [
    "### 039 - Faça um programa que leia o ano de nascimento de um jovem e informe de acordo com sua idade, se ele ainda vai se alistar ao serviço militar, se é a hora de se aliustar ou se já passou do tempo do alistamento. Seu programa tambem deverá mostrar o tempo que falta ou que passou do prazo"
   ]
  },
  {
   "cell_type": "code",
   "execution_count": null,
   "metadata": {},
   "outputs": [],
   "source": [
    "from datetime import date\n",
    "atual = date.today().year\n",
    "nasc = int(input('Digite seu ano de nascimento: '))\n",
    "idade = atual - nasc\n",
    "print('Quem nasceu em {} tem {} anos em {}.' .format(nasc, idade, atual))\n",
    "if idade == 18:\n",
    "    print('Voce tem que se alistar imediatamente!')\n",
    "elif idade < 18:\n",
    "    saldo = 18 - idade\n",
    "    print('Ainda faltam {} anos para o alistamente.' .format(saldo))\n",
    "    ano = atual + saldo\n",
    "    print('Seu alistamento será em {}' .format(ano))\n",
    "elif idade > 18:\n",
    "    saldo = idade - 18\n",
    "    print('Voce já deveria ter se alistado há {} anos.' .format(saldo))\n",
    "    ano = atual - saldo\n",
    "    print('Seu alistamente foi em {}' .format(ano))"
   ]
  },
  {
   "cell_type": "markdown",
   "metadata": {},
   "source": [
    "### 040 - Crie um programa que leia duas notas de um aluno e calcule sua média, mostrando uma mensagem no final de acorod com a média atingida:\n",
    "* Média abaixo de 5.0: REPROVADO.\n",
    "* Média entre 5.0 e 6.9: RECUPERAÇÃO\n",
    "* Média 7.0 ou superioe:  APROVADO"
   ]
  },
  {
   "cell_type": "code",
   "execution_count": null,
   "metadata": {},
   "outputs": [],
   "source": [
    "nota1 = float(input('Primeira Nota: '))\n",
    "nota2 = float(input('Segunda Nota: '))\n",
    "media = (nota1 + nota2) / 2\n",
    "if media < 5.0:\n",
    "    print('Nota média do aluno foi {:.1f} Aluno está Aprovado. ' .format(media))\n",
    "elif media >= 5.0 and media <= 6.9:\n",
    "    print('Nota média do aluno foi {:.1f} Aluno está em Recuperação.' .format(media))\n",
    "elif media >= 7:\n",
    "    print('Nota média do aluno foi {:.1f} Aluno está Aprovado')"
   ]
  },
  {
   "cell_type": "markdown",
   "metadata": {},
   "source": [
    "### 041 - A confederação Nacional de Natação precisa de um programa que leia o ano de nascimento de um atleta e mostre sua categoria, de acordo com a idade:\n",
    "* até 9 anos: Mirim\n",
    "* até 14 anos: Infantil\n",
    "* até 19 anos: Junior\n",
    "* até 25 anos: Senior\n",
    "* Acima: Master"
   ]
  },
  {
   "cell_type": "code",
   "execution_count": null,
   "metadata": {},
   "outputs": [],
   "source": [
    "from datetime import date\n",
    "ano = date.today().year\n",
    "nascimento = int(input('Digite o ano de nascimento: '))\n",
    "idade = ano - nascimento\n",
    "if idade <= 9:\n",
    "    categoria = 'Mirim'\n",
    "    print('Sua idade é {} e sua categoria é {}.' .format(idade, categoria))\n",
    "elif idade <= 14:\n",
    "    categoria = 'Infantil'\n",
    "    print('Sua idade é {} e sua categoria é {}.' .format(idade, categoria))\n",
    "elif idade <= 19:\n",
    "    categoria = 'Junior'\n",
    "    print('Sua idade é {} e sua categoria é {}.' .format(idade, categoria))\n",
    "elif idade <= 25:\n",
    "    categoria = 'Senior'\n",
    "    print('Sua idade é {} e sua categoria é {}.' .format(idade, categoria))\n",
    "else:\n",
    "    categoria = 'Master'\n",
    "    print('Sua idade é {} e sua categoria é {}.' .format(idade, categoria))"
   ]
  },
  {
   "cell_type": "markdown",
   "metadata": {},
   "source": [
    "### 042 - Refaça o Desafio 035 dos triangulos, acrescentando o recurso de mostrar que tipo de triangulo será formado.\n",
    "* Equilatero: todos os lados iguais\n",
    "* Isósceles: dois lados iguais\n",
    "* Escaleno: todos os lados diferentes"
   ]
  },
  {
   "cell_type": "code",
   "execution_count": null,
   "metadata": {},
   "outputs": [],
   "source": [
    "print('-=-'* 20)\n",
    "print('Analisador de Triangulos')\n",
    "print('-=-'* 20)\n",
    "r1 = float(input('Primeiro segmento: '))\n",
    "r2 = float(input('Segundo segmento: '))\n",
    "r3 = float(input('Terceiro segmento: '))\n",
    "if r1 < r2 + r3 and r2 < r1 + r3 and r3 < r1 + r2:\n",
    "    print('Os segmentos acima podem Formar um Triângulo.')\n",
    "    if r1 != r2 and r2 != r3 and r1 != r3:\n",
    "        print('É um triângulo Escaleno')\n",
    "    elif r1 == r2 == r3:\n",
    "        print('É um triângulo Equilatero.')\n",
    "    elif r1 == r2 or r2 == r3 or r3 == r1:\n",
    "        print('É um triângulo Isósceles.')\n",
    "else:\n",
    "    print('Ps segmentos acima NÃO podem Formar um Triângulo')"
   ]
  },
  {
   "cell_type": "markdown",
   "metadata": {},
   "source": [
    "### 043 - Desenvolva uma lógica que leia o peso e a altura de um apessoa, calcule seu IMC e mostre seu status de acordo com a tabela abaixo:\n",
    "* Abaixo de 18.5: Abaixo do Peso\n",
    "* entre 18.5 e 25: Peso ideal\n",
    "* 25 até 30: Sobrepeso\n",
    "* 30 até 40: Obesidade\n",
    "* Acima de 40: Obesidade Mórbida"
   ]
  },
  {
   "cell_type": "code",
   "execution_count": 2,
   "metadata": {},
   "outputs": [
    {
     "name": "stdout",
     "output_type": "stream",
     "text": [
      "Insirea o seu peso: 54\n",
      "Insira a sua altura: 1.64\n",
      "O IMC dessa pessoa é 20.1\n",
      "Peso Ideal\n"
     ]
    }
   ],
   "source": [
    "peso = float(input('Insirea o seu peso: '))\n",
    "altura = float(input('Insira a sua altura: '))\n",
    "imc = peso / (altura ** 2)\n",
    "print('O IMC dessa pessoa é {:.1f}' .format(imc))\n",
    "if imc <= 18.5:\n",
    "    print('Abaixo do Peso')\n",
    "elif imc <= 25:\n",
    "    print('Peso Ideal')\n",
    "elif imc <= 30:\n",
    "    print('Sobrepeso')    \n",
    "elif imc <= 40:\n",
    "    print('Obesidade')    \n",
    "else:\n",
    "    print('Obesidade Mórbida')"
   ]
  },
  {
   "cell_type": "code",
   "execution_count": null,
   "metadata": {},
   "outputs": [],
   "source": []
  }
 ],
 "metadata": {
  "kernelspec": {
   "display_name": "Python 3",
   "language": "python",
   "name": "python3"
  },
  "language_info": {
   "codemirror_mode": {
    "name": "ipython",
    "version": 3
   },
   "file_extension": ".py",
   "mimetype": "text/x-python",
   "name": "python",
   "nbconvert_exporter": "python",
   "pygments_lexer": "ipython3",
   "version": "3.7.6"
  }
 },
 "nbformat": 4,
 "nbformat_minor": 4
}
