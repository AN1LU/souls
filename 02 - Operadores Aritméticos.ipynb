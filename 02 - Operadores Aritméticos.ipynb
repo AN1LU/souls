{
 "cells": [
  {
   "cell_type": "markdown",
   "metadata": {},
   "source": [
    "### 005 Faça um programa que leia um número inteiro e mostre na tela o seu sucessor e seu antecessor"
   ]
  },
  {
   "cell_type": "code",
   "execution_count": 1,
   "metadata": {},
   "outputs": [
    {
     "name": "stdout",
     "output_type": "stream",
     "text": [
      "Digite um número: 42\n",
      "antecessor 41, numero 42, sucessor 43\n"
     ]
    }
   ],
   "source": [
    "n = int(input('Digite um número: '))\n",
    "print('antecessor {}, numero {}, sucessor {}' .format(n-1,n,n+1))"
   ]
  },
  {
   "cell_type": "markdown",
   "metadata": {},
   "source": [
    "### 006 -Crie um algortimo que leia um número e mostre o seu dobro, triplo e raiz quadrada"
   ]
  },
  {
   "cell_type": "code",
   "execution_count": 2,
   "metadata": {},
   "outputs": [
    {
     "name": "stdout",
     "output_type": "stream",
     "text": [
      "Digite um número: 9\n",
      "Numero 9, o seu dobro é 18, o seu triplo é 27 e sua raíz quadrada é 3.0\n"
     ]
    }
   ],
   "source": [
    "n = int(input('Digite um número: '))\n",
    "print('Numero {}, o seu dobro é {}, o seu triplo é {} e sua raíz quadrada é {}' .format(n,n*2, n*3, n**(1/2)))"
   ]
  },
  {
   "cell_type": "markdown",
   "metadata": {},
   "source": [
    "### 007 - Desenvolva um programa que leia as duas notas de um aluno, calcule e mostre sua média"
   ]
  },
  {
   "cell_type": "code",
   "execution_count": 1,
   "metadata": {},
   "outputs": [
    {
     "name": "stdout",
     "output_type": "stream",
     "text": [
      "Primeira nota: 6.7\n",
      "Segunda nota: 5.8\n",
      "A média final é: 6.25\n"
     ]
    }
   ],
   "source": [
    "nota1 = float(input('Primeira nota: '))\n",
    "nota2 = float(input('Segunda nota: '))\n",
    "resultado = (nota1 + nota2) / 2\n",
    "print('A média final é: {}' .format(resultado))"
   ]
  },
  {
   "cell_type": "markdown",
   "metadata": {},
   "source": [
    "### 008 -  Escreva um programa que leia um valor em metros e o exiba convertido em centrimetro e milímetro"
   ]
  },
  {
   "cell_type": "code",
   "execution_count": 1,
   "metadata": {},
   "outputs": [
    {
     "name": "stdout",
     "output_type": "stream",
     "text": [
      "Digite um valor em metros: 4\n",
      "O valor convertido em centímetros é: 400.0 centimetros e 4000.0 milímetros\n"
     ]
    }
   ],
   "source": [
    "valor = float(input('Digite um valor em metros: '))\n",
    "print('O valor convertido em centímetros é: {} centimetros e {} milímetros' .format(valor*100, valor*1000))"
   ]
  }
 ],
 "metadata": {
  "kernelspec": {
   "display_name": "Python 3",
   "language": "python",
   "name": "python3"
  },
  "language_info": {
   "codemirror_mode": {
    "name": "ipython",
    "version": 3
   },
   "file_extension": ".py",
   "mimetype": "text/x-python",
   "name": "python",
   "nbconvert_exporter": "python",
   "pygments_lexer": "ipython3",
   "version": "3.7.6"
  }
 },
 "nbformat": 4,
 "nbformat_minor": 4
}
