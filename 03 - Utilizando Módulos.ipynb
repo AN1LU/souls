{
 "cells": [
  {
   "cell_type": "markdown",
   "metadata": {},
   "source": [
    "### 016 - Crie um programa que leia um número Real qualquer pelo teclado e mostre na tela a sua posição inteira.\n",
    "* Ex: digite um numero: 6.127\n",
    "* O número 6.127 tem a parte inteira a 6"
   ]
  },
  {
   "cell_type": "code",
   "execution_count": 1,
   "metadata": {},
   "outputs": [
    {
     "name": "stdout",
     "output_type": "stream",
     "text": [
      "Digite um número flutuante: 6.127\n",
      "O número 6.127 tem a parte inteira de 6\n"
     ]
    }
   ],
   "source": [
    "from math import trunc\n",
    "num = float(input('Digite um número flutuante: '))\n",
    "print('O número {} tem a parte inteira de {}' .format(num, trunc(num)))\n",
    "# alternativa: print('O número {} tem a parte inteira de {}' .format(num, int(num)))"
   ]
  },
  {
   "cell_type": "markdown",
   "metadata": {},
   "source": [
    "### 017 - Faça um programa que leia o comprimento do cateto oposto e do cateto adjacente de um triangulo retangulo, calcule e mostre o comprimento da hipotenusa."
   ]
  },
  {
   "cell_type": "code",
   "execution_count": 4,
   "metadata": {},
   "outputs": [
    {
     "name": "stdout",
     "output_type": "stream",
     "text": [
      "Digite o valor do cateto oposto: 6\n",
      "Digite o valor do cateto adjacente: 7\n",
      "9.219544\n"
     ]
    }
   ],
   "source": [
    "from math import hypot\n",
    "catop = float(input('Digite o valor do cateto oposto: '))\n",
    "catadj = float(input('Digite o valor do cateto adjacente: '))\n",
    "hip = hypot(catop, catadj)\n",
    "# Formula matematica: hip = (catop ** 2 + catadj ** 2) ** (1/2)\n",
    "print('{:.2f}' .format(hip)) #{:.2f} exibe apenas 2 números após a virgula."
   ]
  }
 ],
 "metadata": {
  "kernelspec": {
   "display_name": "Python 3",
   "language": "python",
   "name": "python3"
  },
  "language_info": {
   "codemirror_mode": {
    "name": "ipython",
    "version": 3
   },
   "file_extension": ".py",
   "mimetype": "text/x-python",
   "name": "python",
   "nbconvert_exporter": "python",
   "pygments_lexer": "ipython3",
   "version": "3.7.6"
  }
 },
 "nbformat": 4,
 "nbformat_minor": 4
}
